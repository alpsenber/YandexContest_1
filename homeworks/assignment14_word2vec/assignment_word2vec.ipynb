{
  "cells": [
    {
      "cell_type": "markdown",
      "metadata": {
        "id": "view-in-github",
        "colab_type": "text"
      },
      "source": [
        "<a href=\"https://colab.research.google.com/github/alpsenber/YandexContest_1/blob/main/homeworks/assignment14_word2vec/assignment_word2vec.ipynb\" target=\"_parent\"><img src=\"https://colab.research.google.com/assets/colab-badge.svg\" alt=\"Open In Colab\"/></a>"
      ]
    },
    {
      "cell_type": "markdown",
      "metadata": {
        "id": "nTSf4ro-qU0d"
      },
      "source": [
        "## Бонусное задание: word2vec на PyTorch\n",
        "\n",
        "Как вы уже могли заметить, идея, лежащая в основе [word2vec](https://arxiv.org/pdf/1310.4546), достаточно общая. В данном задании вы реализуете его самостоятельно.\n",
        "\n",
        "Дисклеймер: не стоит удивляться тому, что реализация от `gensim` (или аналоги) обучается быстрее и работает точнее. Она использует множество доработок и ускорений, а также достаточно эффективный код. Ваша задача добиться промежуточных результатов за разумное время.\n",
        "\n",
        "P.s. Как ни странно, GPU в этом задании нам не потребуется."
      ]
    },
    {
      "cell_type": "markdown",
      "metadata": {
        "id": "sPnobJYhNabl"
      },
      "source": [
        "__Requirements:__ if you're running locally, in the selected environment run the following command:\n",
        "\n",
        "```pip install --upgrade nltk bokeh umap-learn```\n"
      ]
    },
    {
      "cell_type": "code",
      "execution_count": 1,
      "metadata": {
        "id": "Oipe2DU8qfm7",
        "outputId": "dd974ab3-4085-4fb7-a370-bbea7b19e541",
        "colab": {
          "base_uri": "https://localhost:8080/"
        }
      },
      "outputs": [
        {
          "output_type": "stream",
          "name": "stdout",
          "text": [
            "Requirement already satisfied: nltk in /usr/local/lib/python3.10/dist-packages (3.8.1)\n",
            "Collecting nltk\n",
            "  Downloading nltk-3.9.1-py3-none-any.whl.metadata (2.9 kB)\n",
            "Requirement already satisfied: bokeh in /usr/local/lib/python3.10/dist-packages (3.4.3)\n",
            "Collecting bokeh\n",
            "  Downloading bokeh-3.6.0-py3-none-any.whl.metadata (12 kB)\n",
            "Collecting umap-learn\n",
            "  Downloading umap_learn-0.5.7-py3-none-any.whl.metadata (21 kB)\n",
            "Requirement already satisfied: click in /usr/local/lib/python3.10/dist-packages (from nltk) (8.1.7)\n",
            "Requirement already satisfied: joblib in /usr/local/lib/python3.10/dist-packages (from nltk) (1.4.2)\n",
            "Requirement already satisfied: regex>=2021.8.3 in /usr/local/lib/python3.10/dist-packages (from nltk) (2024.9.11)\n",
            "Requirement already satisfied: tqdm in /usr/local/lib/python3.10/dist-packages (from nltk) (4.66.5)\n",
            "Requirement already satisfied: Jinja2>=2.9 in /usr/local/lib/python3.10/dist-packages (from bokeh) (3.1.4)\n",
            "Requirement already satisfied: contourpy>=1.2 in /usr/local/lib/python3.10/dist-packages (from bokeh) (1.3.0)\n",
            "Requirement already satisfied: numpy>=1.16 in /usr/local/lib/python3.10/dist-packages (from bokeh) (1.26.4)\n",
            "Requirement already satisfied: packaging>=16.8 in /usr/local/lib/python3.10/dist-packages (from bokeh) (24.1)\n",
            "Requirement already satisfied: pandas>=1.2 in /usr/local/lib/python3.10/dist-packages (from bokeh) (2.2.2)\n",
            "Requirement already satisfied: pillow>=7.1.0 in /usr/local/lib/python3.10/dist-packages (from bokeh) (10.4.0)\n",
            "Requirement already satisfied: PyYAML>=3.10 in /usr/local/lib/python3.10/dist-packages (from bokeh) (6.0.2)\n",
            "Requirement already satisfied: tornado>=6.2 in /usr/local/lib/python3.10/dist-packages (from bokeh) (6.3.3)\n",
            "Requirement already satisfied: xyzservices>=2021.09.1 in /usr/local/lib/python3.10/dist-packages (from bokeh) (2024.9.0)\n",
            "Requirement already satisfied: scipy>=1.3.1 in /usr/local/lib/python3.10/dist-packages (from umap-learn) (1.13.1)\n",
            "Requirement already satisfied: scikit-learn>=0.22 in /usr/local/lib/python3.10/dist-packages (from umap-learn) (1.5.2)\n",
            "Requirement already satisfied: numba>=0.51.2 in /usr/local/lib/python3.10/dist-packages (from umap-learn) (0.60.0)\n",
            "Collecting pynndescent>=0.5 (from umap-learn)\n",
            "  Downloading pynndescent-0.5.13-py3-none-any.whl.metadata (6.8 kB)\n",
            "Requirement already satisfied: MarkupSafe>=2.0 in /usr/local/lib/python3.10/dist-packages (from Jinja2>=2.9->bokeh) (3.0.2)\n",
            "Requirement already satisfied: llvmlite<0.44,>=0.43.0dev0 in /usr/local/lib/python3.10/dist-packages (from numba>=0.51.2->umap-learn) (0.43.0)\n",
            "Requirement already satisfied: python-dateutil>=2.8.2 in /usr/local/lib/python3.10/dist-packages (from pandas>=1.2->bokeh) (2.8.2)\n",
            "Requirement already satisfied: pytz>=2020.1 in /usr/local/lib/python3.10/dist-packages (from pandas>=1.2->bokeh) (2024.2)\n",
            "Requirement already satisfied: tzdata>=2022.7 in /usr/local/lib/python3.10/dist-packages (from pandas>=1.2->bokeh) (2024.2)\n",
            "Requirement already satisfied: threadpoolctl>=3.1.0 in /usr/local/lib/python3.10/dist-packages (from scikit-learn>=0.22->umap-learn) (3.5.0)\n",
            "Requirement already satisfied: six>=1.5 in /usr/local/lib/python3.10/dist-packages (from python-dateutil>=2.8.2->pandas>=1.2->bokeh) (1.16.0)\n",
            "Downloading nltk-3.9.1-py3-none-any.whl (1.5 MB)\n",
            "\u001b[2K   \u001b[90m━━━━━━━━━━━━━━━━━━━━━━━━━━━━━━━━━━━━━━━━\u001b[0m \u001b[32m1.5/1.5 MB\u001b[0m \u001b[31m18.9 MB/s\u001b[0m eta \u001b[36m0:00:00\u001b[0m\n",
            "\u001b[?25hDownloading bokeh-3.6.0-py3-none-any.whl (6.9 MB)\n",
            "\u001b[2K   \u001b[90m━━━━━━━━━━━━━━━━━━━━━━━━━━━━━━━━━━━━━━━━\u001b[0m \u001b[32m6.9/6.9 MB\u001b[0m \u001b[31m24.6 MB/s\u001b[0m eta \u001b[36m0:00:00\u001b[0m\n",
            "\u001b[?25hDownloading umap_learn-0.5.7-py3-none-any.whl (88 kB)\n",
            "\u001b[2K   \u001b[90m━━━━━━━━━━━━━━━━━━━━━━━━━━━━━━━━━━━━━━━━\u001b[0m \u001b[32m88.8/88.8 kB\u001b[0m \u001b[31m3.7 MB/s\u001b[0m eta \u001b[36m0:00:00\u001b[0m\n",
            "\u001b[?25hDownloading pynndescent-0.5.13-py3-none-any.whl (56 kB)\n",
            "\u001b[2K   \u001b[90m━━━━━━━━━━━━━━━━━━━━━━━━━━━━━━━━━━━━━━━━\u001b[0m \u001b[32m56.9/56.9 kB\u001b[0m \u001b[31m3.4 MB/s\u001b[0m eta \u001b[36m0:00:00\u001b[0m\n",
            "\u001b[?25hInstalling collected packages: nltk, pynndescent, bokeh, umap-learn\n",
            "  Attempting uninstall: nltk\n",
            "    Found existing installation: nltk 3.8.1\n",
            "    Uninstalling nltk-3.8.1:\n",
            "      Successfully uninstalled nltk-3.8.1\n",
            "  Attempting uninstall: bokeh\n",
            "    Found existing installation: bokeh 3.4.3\n",
            "    Uninstalling bokeh-3.4.3:\n",
            "      Successfully uninstalled bokeh-3.4.3\n",
            "\u001b[31mERROR: pip's dependency resolver does not currently take into account all the packages that are installed. This behaviour is the source of the following dependency conflicts.\n",
            "panel 1.4.5 requires bokeh<3.5.0,>=3.4.0, but you have bokeh 3.6.0 which is incompatible.\u001b[0m\u001b[31m\n",
            "\u001b[0mSuccessfully installed bokeh-3.6.0 nltk-3.9.1 pynndescent-0.5.13 umap-learn-0.5.7\n"
          ]
        }
      ],
      "source": [
        "!pip install --upgrade nltk bokeh umap-learn"
      ]
    },
    {
      "cell_type": "code",
      "execution_count": 2,
      "metadata": {
        "id": "pqPU4Lu2qU0h"
      },
      "outputs": [],
      "source": [
        "import itertools\n",
        "import random\n",
        "import string\n",
        "from collections import Counter\n",
        "from itertools import chain\n",
        "\n",
        "import matplotlib.pyplot as plt\n",
        "import numpy as np\n",
        "import torch\n",
        "import torch.autograd as autograd\n",
        "import torch.nn as nn\n",
        "import torch.nn.functional as F\n",
        "import torch.optim as optim\n",
        "import umap\n",
        "from IPython.display import clear_output\n",
        "from matplotlib import pyplot as plt\n",
        "from nltk.tokenize import WordPunctTokenizer\n",
        "from torch.optim.lr_scheduler import ReduceLROnPlateau, StepLR\n",
        "from tqdm.auto import tqdm as tqdma"
      ]
    },
    {
      "cell_type": "code",
      "execution_count": 3,
      "metadata": {
        "colab": {
          "base_uri": "https://localhost:8080/"
        },
        "id": "8Fbx57z3qU0i",
        "outputId": "c01e5a7c-d195-4802-b8d2-7193c0aafb79"
      },
      "outputs": [
        {
          "output_type": "stream",
          "name": "stdout",
          "text": [
            "--2024-10-29 08:28:46--  https://www.dropbox.com/s/obaitrix9jyu84r/quora.txt?dl=1\n",
            "Resolving www.dropbox.com (www.dropbox.com)... 162.125.1.18, 2620:100:6016:18::a27d:112\n",
            "Connecting to www.dropbox.com (www.dropbox.com)|162.125.1.18|:443... connected.\n",
            "HTTP request sent, awaiting response... 302 Found\n",
            "Location: https://www.dropbox.com/scl/fi/p0t2dw6oqs6oxpd6zz534/quora.txt?rlkey=bjupppwua4zmd4elz8octecy9&dl=1 [following]\n",
            "--2024-10-29 08:28:46--  https://www.dropbox.com/scl/fi/p0t2dw6oqs6oxpd6zz534/quora.txt?rlkey=bjupppwua4zmd4elz8octecy9&dl=1\n",
            "Reusing existing connection to www.dropbox.com:443.\n",
            "HTTP request sent, awaiting response... 302 Found\n",
            "Location: https://uc56b1a9e727ab40ca290038a6ec.dl.dropboxusercontent.com/cd/0/inline/CdVTF_CfdZOStKdfV9EpPwHQ69S5qLuBinc5Dp2BSp922GL4ipVP63rHukj0ih3jn_8iP2L0R5Dz9UdAZbbiNuwvvPBUuCEECLAxVkLCjXe5DZ3zABWzc78UIXdjduChB0Y/file?dl=1# [following]\n",
            "--2024-10-29 08:28:47--  https://uc56b1a9e727ab40ca290038a6ec.dl.dropboxusercontent.com/cd/0/inline/CdVTF_CfdZOStKdfV9EpPwHQ69S5qLuBinc5Dp2BSp922GL4ipVP63rHukj0ih3jn_8iP2L0R5Dz9UdAZbbiNuwvvPBUuCEECLAxVkLCjXe5DZ3zABWzc78UIXdjduChB0Y/file?dl=1\n",
            "Resolving uc56b1a9e727ab40ca290038a6ec.dl.dropboxusercontent.com (uc56b1a9e727ab40ca290038a6ec.dl.dropboxusercontent.com)... 162.125.1.15, 2620:100:6016:15::a27d:10f\n",
            "Connecting to uc56b1a9e727ab40ca290038a6ec.dl.dropboxusercontent.com (uc56b1a9e727ab40ca290038a6ec.dl.dropboxusercontent.com)|162.125.1.15|:443... connected.\n",
            "HTTP request sent, awaiting response... 200 OK\n",
            "Length: 33813903 (32M) [application/binary]\n",
            "Saving to: ‘./quora.txt’\n",
            "\n",
            "./quora.txt         100%[===================>]  32.25M  30.1MB/s    in 1.1s    \n",
            "\n",
            "2024-10-29 08:28:49 (30.1 MB/s) - ‘./quora.txt’ saved [33813903/33813903]\n",
            "\n"
          ]
        }
      ],
      "source": [
        "# download the data:\n",
        "!wget https://www.dropbox.com/s/obaitrix9jyu84r/quora.txt?dl=1 -O ./quora.txt -nc\n",
        "# alternative download link: https://yadi.sk/i/BPQrUu1NaTduEw"
      ]
    },
    {
      "cell_type": "code",
      "execution_count": 4,
      "metadata": {
        "colab": {
          "base_uri": "https://localhost:8080/",
          "height": 36
        },
        "id": "8EYy5dQpqU0i",
        "outputId": "eb47f4bb-bf8a-476b-fdd2-78d7ae943467",
        "scrolled": false
      },
      "outputs": [
        {
          "output_type": "execute_result",
          "data": {
            "text/plain": [
              "\"What TV shows or books help you read people's body language?\\n\""
            ],
            "application/vnd.google.colaboratory.intrinsic+json": {
              "type": "string"
            }
          },
          "metadata": {},
          "execution_count": 4
        }
      ],
      "source": [
        "data = list(open(\"./quora.txt\", encoding=\"utf-8\"))\n",
        "data[50]"
      ]
    },
    {
      "cell_type": "markdown",
      "metadata": {
        "id": "feBEGI2eqU0j"
      },
      "source": [
        "Токенизация – первый шаг.\n",
        "Тексты, с которыми мы работаем, включают в себя пунктуацию, смайлики и прочие нестандартные токены, так что простой `str.split` не подойдет.\n",
        "\n",
        "Обратимся к `nltk` - библиотеку, нашла широкое применеие в области NLP."
      ]
    },
    {
      "cell_type": "code",
      "execution_count": 5,
      "metadata": {
        "colab": {
          "base_uri": "https://localhost:8080/"
        },
        "id": "7mWTvm50qU0j",
        "outputId": "9372aad8-81ab-420e-9aca-80c020483c61"
      },
      "outputs": [
        {
          "output_type": "stream",
          "name": "stdout",
          "text": [
            "['What', 'TV', 'shows', 'or', 'books', 'help', 'you', 'read', 'people', \"'\", 's', 'body', 'language', '?']\n"
          ]
        }
      ],
      "source": [
        "tokenizer = WordPunctTokenizer()\n",
        "\n",
        "print(tokenizer.tokenize(data[50]))"
      ]
    },
    {
      "cell_type": "code",
      "execution_count": 6,
      "metadata": {
        "id": "HzC05EHWqU0j"
      },
      "outputs": [],
      "source": [
        "data_tok = [\n",
        "    tokenizer.tokenize(\n",
        "        line.translate(str.maketrans(\"\", \"\", string.punctuation)).lower()\n",
        "    )\n",
        "    for line in data\n",
        "]\n",
        "data_tok = [x for x in data_tok if len(x) >= 3]"
      ]
    },
    {
      "cell_type": "markdown",
      "metadata": {
        "id": "6azRAgHIqU0k"
      },
      "source": [
        "Несколько проверок:"
      ]
    },
    {
      "cell_type": "code",
      "execution_count": 7,
      "metadata": {
        "id": "Cp8UpxdWqU0k"
      },
      "outputs": [],
      "source": [
        "assert all(\n",
        "    isinstance(row, (list, tuple)) for row in data_tok\n",
        "), \"please convert each line into a list of tokens (strings)\"\n",
        "assert all(\n",
        "    all(isinstance(tok, str) for tok in row) for row in data_tok\n",
        "), \"please convert each line into a list of tokens (strings)\"\n",
        "is_latin = lambda tok: all(\"a\" <= x.lower() <= \"z\" for x in tok)\n",
        "assert all(\n",
        "    map(lambda l: not is_latin(l) or l.islower(), map(\" \".join, data_tok))\n",
        "), \"please make sure to lowercase the data\""
      ]
    },
    {
      "cell_type": "markdown",
      "metadata": {
        "id": "37e7-MIhqU0x"
      },
      "source": [
        "Ниже заданы константы ширины окна контекста и проведена предобработка для построения skip-gram модели."
      ]
    },
    {
      "cell_type": "code",
      "execution_count": 8,
      "metadata": {
        "id": "fugc1IomqU0x"
      },
      "outputs": [],
      "source": [
        "min_count = 5\n",
        "window_radius = 5"
      ]
    },
    {
      "cell_type": "code",
      "execution_count": 9,
      "metadata": {
        "id": "8BvOsneoNabq"
      },
      "outputs": [],
      "source": [
        "vocabulary_with_counter = Counter(chain.from_iterable(data_tok))\n",
        "\n",
        "word_count_dict = dict()\n",
        "for word, counter in vocabulary_with_counter.items():\n",
        "    if counter >= min_count:\n",
        "        word_count_dict[word] = counter\n",
        "\n",
        "vocabulary = set(word_count_dict.keys())\n",
        "del vocabulary_with_counter"
      ]
    },
    {
      "cell_type": "code",
      "execution_count": 10,
      "metadata": {
        "id": "mYrrTTWxNabq"
      },
      "outputs": [],
      "source": [
        "word_to_index = {word: index for index, word in enumerate(vocabulary)}\n",
        "index_to_word = {index: word for word, index in word_to_index.items()}"
      ]
    },
    {
      "cell_type": "markdown",
      "metadata": {
        "id": "4Y8rlBfqqU0x"
      },
      "source": [
        "Пары `(слово, контекст)` на основе доступного датасета сгенерированы ниже."
      ]
    },
    {
      "cell_type": "code",
      "execution_count": 11,
      "metadata": {
        "id": "h2-aqyyaqU0x",
        "outputId": "6fe38fb4-38a6-4975-f551-19df083753c2",
        "colab": {
          "base_uri": "https://localhost:8080/"
        }
      },
      "outputs": [
        {
          "output_type": "stream",
          "name": "stdout",
          "text": [
            "Generated 40220313 pairs of target and context words.\n"
          ]
        }
      ],
      "source": [
        "context_pairs = []\n",
        "\n",
        "for text in data_tok:\n",
        "    for i, central_word in enumerate(text):\n",
        "        context_indices = range(\n",
        "            max(0, i - window_radius), min(i + window_radius, len(text))\n",
        "        )\n",
        "        for j in context_indices:\n",
        "            if j == i:\n",
        "                continue\n",
        "            context_word = text[j]\n",
        "            if central_word in vocabulary and context_word in vocabulary:\n",
        "                context_pairs.append(\n",
        "                    (word_to_index[central_word], word_to_index[context_word])\n",
        "                )\n",
        "\n",
        "print(f\"Generated {len(context_pairs)} pairs of target and context words.\")"
      ]
    },
    {
      "cell_type": "markdown",
      "metadata": {
        "id": "B3OTc4SPNabr"
      },
      "source": [
        "#### Подзадача №1: subsampling\n",
        "Для того, чтобы сгладить разницу в частоте встречаемсости слов, необходимо реализовать механизм subsampling'а.\n",
        "Для этого вам необходимо реализовать функцию ниже.\n",
        "\n",
        "Вероятность **исключить** слово из обучения (на фиксированном шаге) вычисляется как\n",
        "$$\n",
        "P_\\text{drop}(w_i)=1 - \\sqrt{\\frac{t}{f(w_i)}},\n",
        "$$\n",
        "где $f(w_i)$ – нормированная частота встречаемости слова, а $t$ – заданный порог (threshold)."
      ]
    },
    {
      "cell_type": "code",
      "execution_count": 12,
      "metadata": {
        "id": "B66fX27iNabr",
        "outputId": "25e53300-b634-4920-cb75-3ee185ded8e2",
        "colab": {
          "base_uri": "https://localhost:8080/"
        }
      },
      "outputs": [
        {
          "output_type": "execute_result",
          "data": {
            "text/plain": [
              "{'the': 0.0034785054261852176,\n",
              " 'is': 0.007778174593052023,\n",
              " 'apple': 0.034785054261852175}"
            ]
          },
          "metadata": {},
          "execution_count": 12
        }
      ],
      "source": [
        "import math\n",
        "def subsample_frequent_words(word_count_dict, threshold=1e-5):\n",
        "    \"\"\"\n",
        "    Calculates the subsampling probabilities for words based on their frequencies.\n",
        "\n",
        "    This function is used to determine the probability of keeping a word in the dataset\n",
        "    when subsampling frequent words. The method used is inspired by the subsampling approach\n",
        "    in Word2Vec, where each word's frequency affects its probability of being kept.\n",
        "\n",
        "    Parameters:\n",
        "    - word_count_dict (dict): A dictionary where keys are words and values are the counts of those words.\n",
        "    - threshold (float, optional): A threshold parameter used to adjust the frequency of word subsampling.\n",
        "                                   Defaults to 1e-5.\n",
        "\n",
        "    Returns:\n",
        "    - dict: A dictionary where keys are words and values are the probabilities of keeping each word.\n",
        "\n",
        "    Example:\n",
        "    >>> word_counts = {'the': 5000, 'is': 1000, 'apple': 50}\n",
        "    >>> subsample_frequent_words(word_counts)\n",
        "    {'the': 0.028, 'is': 0.223, 'apple': 1.0}\n",
        "    \"\"\"\n",
        "\n",
        "    total_count = sum(word_count_dict.values())  # Суммарное количество слов\n",
        "    keep_prob_dict = {}\n",
        "\n",
        "    for word, count in word_count_dict.items():\n",
        "        # Относительная частота слова\n",
        "        freq = count / total_count\n",
        "\n",
        "        # Расчет вероятности сохранения\n",
        "        if freq > threshold:\n",
        "            prob = math.sqrt(threshold / freq)\n",
        "        else:\n",
        "            prob = 1.0  # Для редких слов вероятность сохранения равна 1.0\n",
        "\n",
        "        # # Ограничение вероятности единицей\n",
        "        # keep_prob_dict[word] = min(prob, 1)\n",
        "\n",
        "        keep_prob_dict[word] = prob\n",
        "\n",
        "    return keep_prob_dict\n",
        "\n",
        "word_counts = {'the': 5000, 'is': 1000, 'apple': 50}\n",
        "subsample_frequent_words(word_counts)"
      ]
    },
    {
      "cell_type": "markdown",
      "metadata": {
        "id": "RG-pXQztNabr"
      },
      "source": [
        "#### Подзадача №2: negative sampling\n",
        "Для более эффективного обучения необходимо не только предсказывать высокие вероятности для слов из контекста, но и предсказывать низкие для слов, не встреченных в контексте. Для этого вам необходимо вычислить вероятност использовать слово в качестве negative sample, реализовав функцию ниже.\n",
        "\n",
        "В оригинальной статье предлагается оценивать вероятность слов выступать в качестве negative sample согласно распределению $P_n(w)$\n",
        "$$\n",
        "P_n(w) = \\frac{U(w)^{3/4}}{Z},\n",
        "$$\n",
        "\n",
        "где $U(w)$ распределение слов по частоте (или, как его еще называют, по униграммам), а $Z$ – нормировочная константа, чтобы общая мера была равна $1$."
      ]
    },
    {
      "cell_type": "code",
      "execution_count": 13,
      "metadata": {
        "id": "Ldxi9uAGNabs",
        "outputId": "530e18ce-a674-4373-8677-28b77b6f38d4",
        "colab": {
          "base_uri": "https://localhost:8080/"
        }
      },
      "outputs": [
        {
          "output_type": "execute_result",
          "data": {
            "text/plain": [
              "{'the': 0.751488398196177,\n",
              " 'is': 0.2247474520689081,\n",
              " 'apple': 0.023764149734914898}"
            ]
          },
          "metadata": {},
          "execution_count": 13
        }
      ],
      "source": [
        "def get_negative_sampling_prob(word_count_dict):\n",
        "    \"\"\"\n",
        "    Calculates the negative sampling probabilities for words based on their frequencies.\n",
        "\n",
        "    This function adjusts the frequency of each word raised to the power of 0.75, which is\n",
        "    commonly used in algorithms like Word2Vec to moderate the influence of very frequent words.\n",
        "    It then normalizes these adjusted frequencies to ensure they sum to 1, forming a probability\n",
        "    distribution used for negative sampling.\n",
        "\n",
        "    Parameters:\n",
        "    - word_count_dict (dict): A dictionary where keys are words and values are the counts of those words.\n",
        "\n",
        "    Returns:\n",
        "    - dict: A dictionary where keys are words and values are the probabilities of selecting each word\n",
        "            for negative sampling.\n",
        "\n",
        "    Example:\n",
        "    >>> word_counts = {'the': 5000, 'is': 1000, 'apple': 50}\n",
        "    >>> get_negative_sampling_prob(word_counts)\n",
        "    {'the': 0.298, 'is': 0.160, 'apple': 0.042}\n",
        "    \"\"\"\n",
        "\n",
        "    adjusted_freqs = {word: count ** 0.75 for word, count in word_count_dict.items()}\n",
        "\n",
        "    total_adjusted_freq = sum(adjusted_freqs.values())\n",
        "\n",
        "    negative_sampling_prob_dict = {\n",
        "        word: adjusted_freq / total_adjusted_freq for word, adjusted_freq in adjusted_freqs.items()\n",
        "    }\n",
        "\n",
        "    return negative_sampling_prob_dict\n",
        "\n",
        "word_counts = {'the': 5000, 'is': 1000, 'apple': 50}\n",
        "get_negative_sampling_prob(word_counts)"
      ]
    },
    {
      "cell_type": "markdown",
      "metadata": {
        "id": "BlaRnFtJNabs"
      },
      "source": [
        "Для удобства, преобразуем полученные словари в массивы (т.к. все слова все равно уже пронумерованы)."
      ]
    },
    {
      "cell_type": "code",
      "execution_count": 14,
      "metadata": {
        "id": "8tVOQciwNabs"
      },
      "outputs": [],
      "source": [
        "keep_prob_dict = subsample_frequent_words(word_count_dict)\n",
        "assert keep_prob_dict.keys() == word_count_dict.keys()"
      ]
    },
    {
      "cell_type": "code",
      "execution_count": 15,
      "metadata": {
        "id": "FbTVbXCbNabs"
      },
      "outputs": [],
      "source": [
        "negative_sampling_prob_dict = get_negative_sampling_prob(word_count_dict)\n",
        "assert negative_sampling_prob_dict.keys() == negative_sampling_prob_dict.keys()\n",
        "assert np.allclose(sum(negative_sampling_prob_dict.values()), 1)"
      ]
    },
    {
      "cell_type": "code",
      "execution_count": 16,
      "metadata": {
        "id": "RZ7E0b0lNabs"
      },
      "outputs": [],
      "source": [
        "keep_prob_array = np.array(\n",
        "    [keep_prob_dict[index_to_word[idx]] for idx in range(len(word_to_index))]\n",
        ")\n",
        "negative_sampling_prob_array = np.array(\n",
        "    [\n",
        "        negative_sampling_prob_dict[index_to_word[idx]]\n",
        "        for idx in range(len(word_to_index))\n",
        "    ]\n",
        ")"
      ]
    },
    {
      "cell_type": "markdown",
      "metadata": {
        "id": "PT27T37WNabs"
      },
      "source": [
        "Если все прошло успешно, функция ниже поможет вам с генерацией подвыборок (батчей)."
      ]
    },
    {
      "cell_type": "code",
      "execution_count": 17,
      "metadata": {
        "id": "SR8-00S9Nabs"
      },
      "outputs": [],
      "source": [
        "def generate_batch_with_neg_samples(\n",
        "    context_pairs,\n",
        "    batch_size,\n",
        "    keep_prob_array,\n",
        "    word_to_index,\n",
        "    num_negatives,\n",
        "    negative_sampling_prob_array,\n",
        "):\n",
        "    batch = []\n",
        "    neg_samples = []\n",
        "\n",
        "    while len(batch) < batch_size:\n",
        "        center, context = random.choice(context_pairs)\n",
        "        if random.random() < keep_prob_array[center]:\n",
        "            batch.append((center, context))\n",
        "            neg_sample = np.random.choice(\n",
        "                range(len(negative_sampling_prob_array)),\n",
        "                size=num_negatives,\n",
        "                p=negative_sampling_prob_array,\n",
        "            )\n",
        "            neg_samples.append(neg_sample)\n",
        "    batch = np.array(batch)\n",
        "    neg_samples = np.vstack(neg_samples)\n",
        "    return batch, neg_samples"
      ]
    },
    {
      "cell_type": "code",
      "execution_count": 18,
      "metadata": {
        "id": "hBviUChwNabt"
      },
      "outputs": [],
      "source": [
        "batch_size = 4\n",
        "num_negatives = 15\n",
        "batch, neg_samples = generate_batch_with_neg_samples(\n",
        "    context_pairs,\n",
        "    batch_size,\n",
        "    keep_prob_array,\n",
        "    word_to_index,\n",
        "    num_negatives,\n",
        "    negative_sampling_prob_array,\n",
        ")"
      ]
    },
    {
      "cell_type": "markdown",
      "metadata": {
        "id": "BGonpbFgNabt"
      },
      "source": [
        "Наконец, время реализовать модель. Обращаем ваше внимание, использование линейных слоев (`nn.Linear`) далеко не всегда оправданно!\n",
        "\n",
        "Напомним, что в случае negative sampling решается задача максимизации следующего функционала:\n",
        "\n",
        "$$\n",
        "\\mathcal{L} = \\log \\sigma({\\mathbf{v}'_{w_O}}^\\top \\mathbf{v}_{w_I}) + \\sum_{i=1}^{k} \\mathbb{E}_{w_i \\sim P_n(w)} \\left[ \\log \\sigma({-\\mathbf{v}'_{w_i}}^\\top \\mathbf{v}_{w_I}) \\right],\n",
        "$$\n",
        "\n",
        "где:\n",
        "- $\\mathbf{v}_{w_I}$ – вектор центрального слова $w_I$,\n",
        "- $\\mathbf{v}'_{w_O}$ – вектор слова из контекста $w_O$,\n",
        "- $k$ – число negative samplesЮ,\n",
        "- $P_n(w)$ – распределение negative samples, заданное выше,\n",
        "- $\\sigma$ – сигмоида."
      ]
    },
    {
      "cell_type": "code",
      "execution_count": 19,
      "metadata": {
        "id": "NtHEPjJCNabt"
      },
      "outputs": [],
      "source": [
        "class SkipGramModelWithNegSampling(nn.Module):\n",
        "    def __init__(self, vocab_size, embedding_dim):\n",
        "        super().__init__()\n",
        "        # Инициализируем эмбеддинги для центральных и контекстных слов\n",
        "        self.center_embeddings = nn.Embedding(vocab_size, embedding_dim)\n",
        "        self.context_embeddings = nn.Embedding(vocab_size, embedding_dim)\n",
        "\n",
        "        # Полносвязные слои для центральных и контекстных слов\n",
        "        self.fc_center = nn.Linear(embedding_dim, hidden_dim)\n",
        "        self.fc_context = nn.Linear(embedding_dim, hidden_dim)\n",
        "\n",
        "        # Batch Normalization слои для стабильности\n",
        "        self.bn_center = nn.BatchNorm1d(hidden_dim)\n",
        "        self.bn_context = nn.BatchNorm1d(hidden_dim)\n",
        "\n",
        "        # Dropout для предотвращения переобучения\n",
        "        self.dropout = nn.Dropout(dropout_prob)\n",
        "\n",
        "    def forward(self, center_words, pos_context_words, neg_context_words):\n",
        "        # Получаем эмбеддинги для центральных слов\n",
        "        center_embeds = self.center_embeddings(center_words)  # Shape: (batch_size, embedding_dim)\n",
        "\n",
        "        # Положительные и отрицательные контекстные эмбеддинги\n",
        "        pos_context_embeds = self.context_embeddings(pos_context_words)  # Shape: (batch_size, embedding_dim)\n",
        "        neg_context_embeds = self.context_embeddings(neg_context_words)  # Shape: (batch_size, num_negatives, embedding_dim)\n",
        "\n",
        "        # Полносвязные слои с residual connections\n",
        "        center_embeds = self.fc_center(center_embeds) + center_embeds  # Residual connection\n",
        "        pos_context_embeds = self.fc_context(pos_context_embeds) + pos_context_embeds\n",
        "        neg_context_embeds = self.fc_context(neg_context_embeds) + neg_context_embeds\n",
        "\n",
        "        # Batch Normalization и Dropout\n",
        "        center_embeds = self.dropout(self.bn_center(torch.relu(center_embeds)))\n",
        "        pos_context_embeds = self.dropout(self.bn_context(torch.relu(pos_context_embeds)))\n",
        "        neg_context_embeds = self.dropout(self.bn_context(torch.relu(neg_context_embeds.view(-1, center_embeds.shape[1])))).view(\n",
        "            neg_context_embeds.shape[0], neg_context_embeds.shape[1], -1\n",
        "        )\n",
        "\n",
        "        # Нормализация эмбеддингов\n",
        "        center_embeds = F.normalize(center_embeds, p=2, dim=1)\n",
        "        pos_context_embeds = F.normalize(pos_context_embeds, p=2, dim=1)\n",
        "        neg_context_embeds = F.normalize(neg_context_embeds, p=2, dim=2)\n",
        "\n",
        "        # Скалярное произведение для положительных и отрицательных пар\n",
        "        pos_scores = torch.sum(center_embeds * pos_context_embeds, dim=1)  # Shape: (batch_size,)\n",
        "        neg_scores = torch.bmm(neg_context_embeds, center_embeds.unsqueeze(2)).squeeze(2)  # Shape: (batch_size, num_negatives)\n",
        "\n",
        "        return pos_scores, neg_scores  # Возвращаем отдельные положительные и отрицательные скорринги"
      ]
    },
    {
      "cell_type": "code",
      "execution_count": 20,
      "metadata": {
        "id": "grEojZeFNabt"
      },
      "outputs": [],
      "source": [
        "device = torch.device(\"cpu\")"
      ]
    },
    {
      "cell_type": "code",
      "execution_count": 21,
      "metadata": {
        "id": "iuQ0CH9TNabt"
      },
      "outputs": [],
      "source": [
        "vocab_size = len(word_to_index)\n",
        "embedding_dim = 32\n",
        "num_negatives = 15\n",
        "\n",
        "model = SkipGramModelWithNegSampling(vocab_size, embedding_dim).to(device)\n",
        "optimizer = optim.Adam(model.parameters(), lr=0.05)\n",
        "lr_scheduler = ReduceLROnPlateau(optimizer, factor=0.5, patience=150)\n",
        "criterion = nn.BCEWithLogitsLoss()"
      ]
    },
    {
      "cell_type": "code",
      "execution_count": 22,
      "metadata": {
        "id": "DRtkzXOCNabt"
      },
      "outputs": [],
      "source": [
        "params_counter = 0\n",
        "for weights in model.parameters():\n",
        "    params_counter += weights.shape.numel()\n",
        "assert params_counter == len(word_to_index) * embedding_dim * 2"
      ]
    },
    {
      "cell_type": "code",
      "execution_count": 23,
      "metadata": {
        "id": "08fmMt4qNabt"
      },
      "outputs": [],
      "source": [
        "def train_skipgram_with_neg_sampling(\n",
        "    model,\n",
        "    context_pairs,\n",
        "    keep_prob_array,\n",
        "    word_to_index,\n",
        "    batch_size,\n",
        "    num_negatives,\n",
        "    negative_sampling_prob_array,\n",
        "    steps,\n",
        "    optimizer=optimizer,\n",
        "    lr_scheduler=lr_scheduler,\n",
        "    device=device,\n",
        "):\n",
        "    pos_labels = torch.ones(batch_size).to(device)\n",
        "    neg_labels = torch.zeros(batch_size, num_negatives).to(device)\n",
        "    loss_history = []\n",
        "    for step in tqdma(range(steps)):\n",
        "        batch, neg_samples = generate_batch_with_neg_samples(\n",
        "            context_pairs,\n",
        "            batch_size,\n",
        "            keep_prob_array,\n",
        "            word_to_index,\n",
        "            num_negatives,\n",
        "            negative_sampling_prob_array,\n",
        "        )\n",
        "        center_words = torch.tensor([pair[0] for pair in batch], dtype=torch.long).to(\n",
        "            device\n",
        "        )\n",
        "        pos_context_words = torch.tensor(\n",
        "            [pair[1] for pair in batch], dtype=torch.long\n",
        "        ).to(device)\n",
        "        neg_context_words = torch.tensor(neg_samples, dtype=torch.long).to(device)\n",
        "\n",
        "        optimizer.zero_grad()\n",
        "        pos_scores, neg_scores = model(\n",
        "            center_words, pos_context_words, neg_context_words\n",
        "        )\n",
        "\n",
        "        loss_pos = criterion(pos_scores, pos_labels)\n",
        "        loss_neg = criterion(neg_scores, neg_labels)\n",
        "\n",
        "        loss = loss_pos + loss_neg\n",
        "        loss.backward()\n",
        "        optimizer.step()\n",
        "\n",
        "        loss_history.append(loss.item())\n",
        "        lr_scheduler.step(loss_history[-1])\n",
        "\n",
        "        if step % 100 == 0:\n",
        "            print(\n",
        "                f\"Step {step}, Loss: {np.mean(loss_history[-100:])}, learning rate: {lr_scheduler._last_lr}\"\n",
        "            )"
      ]
    },
    {
      "cell_type": "code",
      "execution_count": 24,
      "metadata": {
        "id": "77JOXdOyNabu",
        "outputId": "59028494-cc37-4f02-abda-ee0ddaa880c9",
        "colab": {
          "base_uri": "https://localhost:8080/",
          "height": 483,
          "referenced_widgets": [
            "31256a8c282049da94d7d33dabdf0fc1",
            "943adc4df39c4947b840e39d6c9c5ce9",
            "22a7d468b9754b65bc1dd36bc1d05eef",
            "f71d044309fb47199517c61310420483",
            "4720fd515ded42bd987ac95bd5186704",
            "f74b0e1e264b461ab724b328f5e13c30",
            "1aa89fa21bc74c0ab7f1e7623f819241",
            "14cfc91f99df421ca769e70323bad688",
            "e98b2e76ee21487e8485f7421c07703c",
            "8405618bafca4ed78a561b878d0f0409",
            "50aa6173dfdc4d399d15bd4a8c068110"
          ]
        }
      },
      "outputs": [
        {
          "output_type": "display_data",
          "data": {
            "text/plain": [
              "  0%|          | 0/2500 [00:00<?, ?it/s]"
            ],
            "application/vnd.jupyter.widget-view+json": {
              "version_major": 2,
              "version_minor": 0,
              "model_id": "31256a8c282049da94d7d33dabdf0fc1"
            }
          },
          "metadata": {}
        },
        {
          "output_type": "stream",
          "name": "stdout",
          "text": [
            "Step 0, Loss: 4.91074275970459, learning rate: [0.05]\n",
            "Step 100, Loss: 3.4855823254585268, learning rate: [0.05]\n",
            "Step 200, Loss: 2.571875207424164, learning rate: [0.05]\n",
            "Step 300, Loss: 2.2771790432929992, learning rate: [0.05]\n",
            "Step 400, Loss: 2.1259745728969572, learning rate: [0.05]\n",
            "Step 500, Loss: 2.05199865937233, learning rate: [0.05]\n",
            "Step 600, Loss: 2.04132732629776, learning rate: [0.05]\n",
            "Step 700, Loss: 2.0609500253200532, learning rate: [0.025]\n",
            "Step 800, Loss: 1.9623198652267455, learning rate: [0.025]\n",
            "Step 900, Loss: 1.8834702038764954, learning rate: [0.025]\n",
            "Step 1000, Loss: 1.8251274228096008, learning rate: [0.025]\n",
            "Step 1100, Loss: 1.790533927679062, learning rate: [0.025]\n",
            "Step 1200, Loss: 1.7576433527469635, learning rate: [0.025]\n",
            "Step 1300, Loss: 1.7232201063632966, learning rate: [0.0125]\n",
            "Step 1400, Loss: 1.6884269738197326, learning rate: [0.0125]\n",
            "Step 1500, Loss: 1.635457308292389, learning rate: [0.0125]\n",
            "Step 1600, Loss: 1.6150021839141846, learning rate: [0.0125]\n",
            "Step 1700, Loss: 1.596471518278122, learning rate: [0.0125]\n",
            "Step 1800, Loss: 1.5900176274776459, learning rate: [0.0125]\n",
            "Step 1900, Loss: 1.5574873828887938, learning rate: [0.0125]\n",
            "Step 2000, Loss: 1.5451021933555602, learning rate: [0.00625]\n",
            "Step 2100, Loss: 1.5425205159187316, learning rate: [0.00625]\n",
            "Step 2200, Loss: 1.524527019262314, learning rate: [0.00625]\n",
            "Step 2300, Loss: 1.5112378978729248, learning rate: [0.003125]\n",
            "Step 2400, Loss: 1.4958635783195495, learning rate: [0.0015625]\n"
          ]
        }
      ],
      "source": [
        "steps = 2500\n",
        "batch_size = 512\n",
        "train_skipgram_with_neg_sampling(\n",
        "    model,\n",
        "    context_pairs,\n",
        "    keep_prob_array,\n",
        "    word_to_index,\n",
        "    batch_size,\n",
        "    num_negatives,\n",
        "    negative_sampling_prob_array,\n",
        "    steps,\n",
        ")"
      ]
    },
    {
      "cell_type": "markdown",
      "metadata": {
        "id": "kltiSA-_Nabu"
      },
      "source": [
        "Наконец, используйте полученную матрицу весов в качестве матрицы в векторными представлениями слов. Рекомендуем использовать для сдачи матрицу, которая отвечала за слова из контекста (т.е. декодера)."
      ]
    },
    {
      "cell_type": "code",
      "execution_count": 25,
      "metadata": {
        "id": "UpfLHZjANabu"
      },
      "outputs": [],
      "source": [
        "_model_parameters = model.parameters()\n",
        "embedding_matrix_center = next(\n",
        "    _model_parameters\n",
        ").detach()  # Assuming that first matrix was for central word\n",
        "embedding_matrix_context = next(\n",
        "    _model_parameters\n",
        ").detach()  # Assuming that second matrix was for context word"
      ]
    },
    {
      "cell_type": "code",
      "execution_count": 26,
      "metadata": {
        "id": "wkREwVspNabu"
      },
      "outputs": [],
      "source": [
        "def get_word_vector(word, embedding_matrix, word_to_index=word_to_index):\n",
        "    return embedding_matrix[word_to_index[word]]"
      ]
    },
    {
      "cell_type": "markdown",
      "metadata": {
        "id": "uhE3ZxkINabu"
      },
      "source": [
        "Простые проверки:"
      ]
    },
    {
      "cell_type": "code",
      "execution_count": 27,
      "metadata": {
        "id": "JYQmPEsINabz"
      },
      "outputs": [],
      "source": [
        "similarity_1 = F.cosine_similarity(\n",
        "    get_word_vector(\"iphone\", embedding_matrix_context)[None, :],\n",
        "    get_word_vector(\"apple\", embedding_matrix_context)[None, :],\n",
        ")\n",
        "similarity_2 = F.cosine_similarity(\n",
        "    get_word_vector(\"iphone\", embedding_matrix_context)[None, :],\n",
        "    get_word_vector(\"dell\", embedding_matrix_context)[None, :],\n",
        ")\n",
        "assert similarity_1 > similarity_2"
      ]
    },
    {
      "cell_type": "code",
      "execution_count": 28,
      "metadata": {
        "id": "aSJNLSWENabz"
      },
      "outputs": [],
      "source": [
        "similarity_1 = F.cosine_similarity(\n",
        "    get_word_vector(\"windows\", embedding_matrix_context)[None, :],\n",
        "    get_word_vector(\"laptop\", embedding_matrix_context)[None, :],\n",
        ")\n",
        "similarity_2 = F.cosine_similarity(\n",
        "    get_word_vector(\"windows\", embedding_matrix_context)[None, :],\n",
        "    get_word_vector(\"macbook\", embedding_matrix_context)[None, :],\n",
        ")\n",
        "assert similarity_1 > similarity_2"
      ]
    },
    {
      "cell_type": "markdown",
      "metadata": {
        "id": "bkPj4s_RNabz"
      },
      "source": [
        "Наконец, взглянем на ближайшие по косинусной мере слова. Функция реализована ниже."
      ]
    },
    {
      "cell_type": "code",
      "execution_count": 29,
      "metadata": {
        "id": "dA0V6rOYtsLk"
      },
      "outputs": [],
      "source": [
        "def find_nearest(word, embedding_matrix, word_to_index=word_to_index, k=10):\n",
        "    word_vector = get_word_vector(word, embedding_matrix)[None, :]\n",
        "    dists = F.cosine_similarity(embedding_matrix, word_vector)\n",
        "    index_sorted = torch.argsort(dists)\n",
        "    top_k = index_sorted[-k:]\n",
        "    return [(index_to_word[x], dists[x].item()) for x in top_k.numpy()]"
      ]
    },
    {
      "cell_type": "code",
      "execution_count": 30,
      "metadata": {
        "id": "o3JhbnPYNabz",
        "outputId": "d4ec3d05-4465-48c9-d533-feae186bf77c",
        "colab": {
          "base_uri": "https://localhost:8080/"
        }
      },
      "outputs": [
        {
          "output_type": "execute_result",
          "data": {
            "text/plain": [
              "[('altruism', 0.6847396492958069),\n",
              " ('literate', 0.6886392831802368),\n",
              " ('writing', 0.6892127394676208),\n",
              " ('consultants', 0.6925324201583862),\n",
              " ('anne', 0.6975890398025513),\n",
              " ('capacitive', 0.7033064365386963),\n",
              " ('emulators', 0.7044589519500732),\n",
              " ('deemed', 0.7324650883674622),\n",
              " ('commandos', 0.751365065574646),\n",
              " ('python', 1.0)]"
            ]
          },
          "metadata": {},
          "execution_count": 30
        }
      ],
      "source": [
        "find_nearest(\"python\", embedding_matrix_context, k=10)"
      ]
    },
    {
      "cell_type": "markdown",
      "metadata": {
        "id": "xWHde9xCNabz"
      },
      "source": [
        "Также вы можете визуально проверить, как представлены в латентном пространстве часто встречающиеся слова."
      ]
    },
    {
      "cell_type": "code",
      "execution_count": 31,
      "metadata": {
        "id": "VtbXXw0qNab0"
      },
      "outputs": [],
      "source": [
        "top_k = 5000\n",
        "_top_words = sorted([x for x in word_count_dict.items()], key=lambda x: x[1])[\n",
        "    -top_k - 100 : -100\n",
        "]  # ignoring 100 most frequent words\n",
        "top_words = [x[0] for x in _top_words]\n",
        "del _top_words"
      ]
    },
    {
      "cell_type": "code",
      "execution_count": 32,
      "metadata": {
        "id": "8mdx0nBkNab0"
      },
      "outputs": [],
      "source": [
        "word_embeddings = torch.cat(\n",
        "    [embedding_matrix_context[word_to_index[x]][None, :] for x in top_words], dim=0\n",
        ").numpy()"
      ]
    },
    {
      "cell_type": "code",
      "execution_count": 33,
      "metadata": {
        "id": "N2MQD81JNab0"
      },
      "outputs": [],
      "source": [
        "import bokeh.models as bm\n",
        "import bokeh.plotting as pl\n",
        "from bokeh.io import output_notebook\n",
        "\n",
        "output_notebook()\n",
        "\n",
        "\n",
        "def draw_vectors(\n",
        "    x,\n",
        "    y,\n",
        "    radius=10,\n",
        "    alpha=0.25,\n",
        "    color=\"blue\",\n",
        "    width=600,\n",
        "    height=400,\n",
        "    show=True,\n",
        "    **kwargs,\n",
        "):\n",
        "    \"\"\"draws an interactive plot for data points with auxilirary info on hover\"\"\"\n",
        "    if isinstance(color, str):\n",
        "        color = [color] * len(x)\n",
        "    data_source = bm.ColumnDataSource({\"x\": x, \"y\": y, \"color\": color, **kwargs})\n",
        "\n",
        "    fig = pl.figure(active_scroll=\"wheel_zoom\", width=width, height=height)\n",
        "    fig.scatter(\"x\", \"y\", size=radius, color=\"color\", alpha=alpha, source=data_source)\n",
        "\n",
        "    fig.add_tools(bm.HoverTool(tooltips=[(key, \"@\" + key) for key in kwargs.keys()]))\n",
        "    if show:\n",
        "        pl.show(fig)\n",
        "    return fig"
      ]
    },
    {
      "cell_type": "code",
      "execution_count": 34,
      "metadata": {
        "id": "z6kNINPXNab0"
      },
      "outputs": [],
      "source": [
        "embedding = umap.UMAP(n_neighbors=5).fit_transform(word_embeddings)"
      ]
    },
    {
      "cell_type": "code",
      "execution_count": 35,
      "metadata": {
        "id": "HucRMFFiNab0",
        "outputId": "c8246678-2e5d-4f56-f10b-24847b813163",
        "colab": {
          "base_uri": "https://localhost:8080/",
          "height": 434
        }
      },
      "outputs": [
        {
          "output_type": "display_data",
          "data": {
            "application/javascript": [
              "'use strict';\n",
              "(function(root) {\n",
              "  function now() {\n",
              "    return new Date();\n",
              "  }\n",
              "\n",
              "  const force = true;\n",
              "\n",
              "  if (typeof root._bokeh_onload_callbacks === \"undefined\" || force === true) {\n",
              "    root._bokeh_onload_callbacks = [];\n",
              "    root._bokeh_is_loading = undefined;\n",
              "  }\n",
              "\n",
              "const JS_MIME_TYPE = 'application/javascript';\n",
              "  const HTML_MIME_TYPE = 'text/html';\n",
              "  const EXEC_MIME_TYPE = 'application/vnd.bokehjs_exec.v0+json';\n",
              "  const CLASS_NAME = 'output_bokeh rendered_html';\n",
              "\n",
              "  /**\n",
              "   * Render data to the DOM node\n",
              "   */\n",
              "  function render(props, node) {\n",
              "    const script = document.createElement(\"script\");\n",
              "    node.appendChild(script);\n",
              "  }\n",
              "\n",
              "  /**\n",
              "   * Handle when an output is cleared or removed\n",
              "   */\n",
              "  function handleClearOutput(event, handle) {\n",
              "    function drop(id) {\n",
              "      const view = Bokeh.index.get_by_id(id)\n",
              "      if (view != null) {\n",
              "        view.model.document.clear()\n",
              "        Bokeh.index.delete(view)\n",
              "      }\n",
              "    }\n",
              "\n",
              "    const cell = handle.cell;\n",
              "\n",
              "    const id = cell.output_area._bokeh_element_id;\n",
              "    const server_id = cell.output_area._bokeh_server_id;\n",
              "\n",
              "    // Clean up Bokeh references\n",
              "    if (id != null) {\n",
              "      drop(id)\n",
              "    }\n",
              "\n",
              "    if (server_id !== undefined) {\n",
              "      // Clean up Bokeh references\n",
              "      const cmd_clean = \"from bokeh.io.state import curstate; print(curstate().uuid_to_server['\" + server_id + \"'].get_sessions()[0].document.roots[0]._id)\";\n",
              "      cell.notebook.kernel.execute(cmd_clean, {\n",
              "        iopub: {\n",
              "          output: function(msg) {\n",
              "            const id = msg.content.text.trim()\n",
              "            drop(id)\n",
              "          }\n",
              "        }\n",
              "      });\n",
              "      // Destroy server and session\n",
              "      const cmd_destroy = \"import bokeh.io.notebook as ion; ion.destroy_server('\" + server_id + \"')\";\n",
              "      cell.notebook.kernel.execute(cmd_destroy);\n",
              "    }\n",
              "  }\n",
              "\n",
              "  /**\n",
              "   * Handle when a new output is added\n",
              "   */\n",
              "  function handleAddOutput(event, handle) {\n",
              "    const output_area = handle.output_area;\n",
              "    const output = handle.output;\n",
              "\n",
              "    // limit handleAddOutput to display_data with EXEC_MIME_TYPE content only\n",
              "    if ((output.output_type != \"display_data\") || (!Object.prototype.hasOwnProperty.call(output.data, EXEC_MIME_TYPE))) {\n",
              "      return\n",
              "    }\n",
              "\n",
              "    const toinsert = output_area.element.find(\".\" + CLASS_NAME.split(' ')[0]);\n",
              "\n",
              "    if (output.metadata[EXEC_MIME_TYPE][\"id\"] !== undefined) {\n",
              "      toinsert[toinsert.length - 1].firstChild.textContent = output.data[JS_MIME_TYPE];\n",
              "      // store reference to embed id on output_area\n",
              "      output_area._bokeh_element_id = output.metadata[EXEC_MIME_TYPE][\"id\"];\n",
              "    }\n",
              "    if (output.metadata[EXEC_MIME_TYPE][\"server_id\"] !== undefined) {\n",
              "      const bk_div = document.createElement(\"div\");\n",
              "      bk_div.innerHTML = output.data[HTML_MIME_TYPE];\n",
              "      const script_attrs = bk_div.children[0].attributes;\n",
              "      for (let i = 0; i < script_attrs.length; i++) {\n",
              "        toinsert[toinsert.length - 1].firstChild.setAttribute(script_attrs[i].name, script_attrs[i].value);\n",
              "        toinsert[toinsert.length - 1].firstChild.textContent = bk_div.children[0].textContent\n",
              "      }\n",
              "      // store reference to server id on output_area\n",
              "      output_area._bokeh_server_id = output.metadata[EXEC_MIME_TYPE][\"server_id\"];\n",
              "    }\n",
              "  }\n",
              "\n",
              "  function register_renderer(events, OutputArea) {\n",
              "\n",
              "    function append_mime(data, metadata, element) {\n",
              "      // create a DOM node to render to\n",
              "      const toinsert = this.create_output_subarea(\n",
              "        metadata,\n",
              "        CLASS_NAME,\n",
              "        EXEC_MIME_TYPE\n",
              "      );\n",
              "      this.keyboard_manager.register_events(toinsert);\n",
              "      // Render to node\n",
              "      const props = {data: data, metadata: metadata[EXEC_MIME_TYPE]};\n",
              "      render(props, toinsert[toinsert.length - 1]);\n",
              "      element.append(toinsert);\n",
              "      return toinsert\n",
              "    }\n",
              "\n",
              "    /* Handle when an output is cleared or removed */\n",
              "    events.on('clear_output.CodeCell', handleClearOutput);\n",
              "    events.on('delete.Cell', handleClearOutput);\n",
              "\n",
              "    /* Handle when a new output is added */\n",
              "    events.on('output_added.OutputArea', handleAddOutput);\n",
              "\n",
              "    /**\n",
              "     * Register the mime type and append_mime function with output_area\n",
              "     */\n",
              "    OutputArea.prototype.register_mime_type(EXEC_MIME_TYPE, append_mime, {\n",
              "      /* Is output safe? */\n",
              "      safe: true,\n",
              "      /* Index of renderer in `output_area.display_order` */\n",
              "      index: 0\n",
              "    });\n",
              "  }\n",
              "\n",
              "  // register the mime type if in Jupyter Notebook environment and previously unregistered\n",
              "  if (root.Jupyter !== undefined) {\n",
              "    const events = require('base/js/events');\n",
              "    const OutputArea = require('notebook/js/outputarea').OutputArea;\n",
              "\n",
              "    if (OutputArea.prototype.mime_types().indexOf(EXEC_MIME_TYPE) == -1) {\n",
              "      register_renderer(events, OutputArea);\n",
              "    }\n",
              "  }\n",
              "  if (typeof (root._bokeh_timeout) === \"undefined\" || force === true) {\n",
              "    root._bokeh_timeout = Date.now() + 5000;\n",
              "    root._bokeh_failed_load = false;\n",
              "  }\n",
              "\n",
              "  const NB_LOAD_WARNING = {'data': {'text/html':\n",
              "     \"<div style='background-color: #fdd'>\\n\"+\n",
              "     \"<p>\\n\"+\n",
              "     \"BokehJS does not appear to have successfully loaded. If loading BokehJS from CDN, this \\n\"+\n",
              "     \"may be due to a slow or bad network connection. Possible fixes:\\n\"+\n",
              "     \"</p>\\n\"+\n",
              "     \"<ul>\\n\"+\n",
              "     \"<li>re-rerun `output_notebook()` to attempt to load from CDN again, or</li>\\n\"+\n",
              "     \"<li>use INLINE resources instead, as so:</li>\\n\"+\n",
              "     \"</ul>\\n\"+\n",
              "     \"<code>\\n\"+\n",
              "     \"from bokeh.resources import INLINE\\n\"+\n",
              "     \"output_notebook(resources=INLINE)\\n\"+\n",
              "     \"</code>\\n\"+\n",
              "     \"</div>\"}};\n",
              "\n",
              "  function display_loaded(error = null) {\n",
              "    const el = document.getElementById(null);\n",
              "    if (el != null) {\n",
              "      const html = (() => {\n",
              "        if (typeof root.Bokeh === \"undefined\") {\n",
              "          if (error == null) {\n",
              "            return \"BokehJS is loading ...\";\n",
              "          } else {\n",
              "            return \"BokehJS failed to load.\";\n",
              "          }\n",
              "        } else {\n",
              "          const prefix = `BokehJS ${root.Bokeh.version}`;\n",
              "          if (error == null) {\n",
              "            return `${prefix} successfully loaded.`;\n",
              "          } else {\n",
              "            return `${prefix} <b>encountered errors</b> while loading and may not function as expected.`;\n",
              "          }\n",
              "        }\n",
              "      })();\n",
              "      el.innerHTML = html;\n",
              "\n",
              "      if (error != null) {\n",
              "        const wrapper = document.createElement(\"div\");\n",
              "        wrapper.style.overflow = \"auto\";\n",
              "        wrapper.style.height = \"5em\";\n",
              "        wrapper.style.resize = \"vertical\";\n",
              "        const content = document.createElement(\"div\");\n",
              "        content.style.fontFamily = \"monospace\";\n",
              "        content.style.whiteSpace = \"pre-wrap\";\n",
              "        content.style.backgroundColor = \"rgb(255, 221, 221)\";\n",
              "        content.textContent = error.stack ?? error.toString();\n",
              "        wrapper.append(content);\n",
              "        el.append(wrapper);\n",
              "      }\n",
              "    } else if (Date.now() < root._bokeh_timeout) {\n",
              "      setTimeout(() => display_loaded(error), 100);\n",
              "    }\n",
              "  }\n",
              "\n",
              "  function run_callbacks() {\n",
              "    try {\n",
              "      root._bokeh_onload_callbacks.forEach(function(callback) {\n",
              "        if (callback != null)\n",
              "          callback();\n",
              "      });\n",
              "    } finally {\n",
              "      delete root._bokeh_onload_callbacks\n",
              "    }\n",
              "    console.debug(\"Bokeh: all callbacks have finished\");\n",
              "  }\n",
              "\n",
              "  function load_libs(css_urls, js_urls, callback) {\n",
              "    if (css_urls == null) css_urls = [];\n",
              "    if (js_urls == null) js_urls = [];\n",
              "\n",
              "    root._bokeh_onload_callbacks.push(callback);\n",
              "    if (root._bokeh_is_loading > 0) {\n",
              "      console.debug(\"Bokeh: BokehJS is being loaded, scheduling callback at\", now());\n",
              "      return null;\n",
              "    }\n",
              "    if (js_urls == null || js_urls.length === 0) {\n",
              "      run_callbacks();\n",
              "      return null;\n",
              "    }\n",
              "    console.debug(\"Bokeh: BokehJS not loaded, scheduling load and callback at\", now());\n",
              "    root._bokeh_is_loading = css_urls.length + js_urls.length;\n",
              "\n",
              "    function on_load() {\n",
              "      root._bokeh_is_loading--;\n",
              "      if (root._bokeh_is_loading === 0) {\n",
              "        console.debug(\"Bokeh: all BokehJS libraries/stylesheets loaded\");\n",
              "        run_callbacks()\n",
              "      }\n",
              "    }\n",
              "\n",
              "    function on_error(url) {\n",
              "      console.error(\"failed to load \" + url);\n",
              "    }\n",
              "\n",
              "    for (let i = 0; i < css_urls.length; i++) {\n",
              "      const url = css_urls[i];\n",
              "      const element = document.createElement(\"link\");\n",
              "      element.onload = on_load;\n",
              "      element.onerror = on_error.bind(null, url);\n",
              "      element.rel = \"stylesheet\";\n",
              "      element.type = \"text/css\";\n",
              "      element.href = url;\n",
              "      console.debug(\"Bokeh: injecting link tag for BokehJS stylesheet: \", url);\n",
              "      document.body.appendChild(element);\n",
              "    }\n",
              "\n",
              "    for (let i = 0; i < js_urls.length; i++) {\n",
              "      const url = js_urls[i];\n",
              "      const element = document.createElement('script');\n",
              "      element.onload = on_load;\n",
              "      element.onerror = on_error.bind(null, url);\n",
              "      element.async = false;\n",
              "      element.src = url;\n",
              "      console.debug(\"Bokeh: injecting script tag for BokehJS library: \", url);\n",
              "      document.head.appendChild(element);\n",
              "    }\n",
              "  };\n",
              "\n",
              "  function inject_raw_css(css) {\n",
              "    const element = document.createElement(\"style\");\n",
              "    element.appendChild(document.createTextNode(css));\n",
              "    document.body.appendChild(element);\n",
              "  }\n",
              "\n",
              "  const js_urls = [\"https://cdn.bokeh.org/bokeh/release/bokeh-3.6.0.min.js\", \"https://cdn.bokeh.org/bokeh/release/bokeh-gl-3.6.0.min.js\", \"https://cdn.bokeh.org/bokeh/release/bokeh-widgets-3.6.0.min.js\", \"https://cdn.bokeh.org/bokeh/release/bokeh-tables-3.6.0.min.js\", \"https://cdn.bokeh.org/bokeh/release/bokeh-mathjax-3.6.0.min.js\"];\n",
              "  const css_urls = [];\n",
              "\n",
              "  const inline_js = [    function(Bokeh) {\n",
              "      Bokeh.set_log_level(\"info\");\n",
              "    },\n",
              "function(Bokeh) {\n",
              "    }\n",
              "  ];\n",
              "\n",
              "  function run_inline_js() {\n",
              "    if (root.Bokeh !== undefined || force === true) {\n",
              "      try {\n",
              "            for (let i = 0; i < inline_js.length; i++) {\n",
              "      inline_js[i].call(root, root.Bokeh);\n",
              "    }\n",
              "\n",
              "      } catch (error) {throw error;\n",
              "      }} else if (Date.now() < root._bokeh_timeout) {\n",
              "      setTimeout(run_inline_js, 100);\n",
              "    } else if (!root._bokeh_failed_load) {\n",
              "      console.log(\"Bokeh: BokehJS failed to load within specified timeout.\");\n",
              "      root._bokeh_failed_load = true;\n",
              "    } else if (force !== true) {\n",
              "      const cell = $(document.getElementById(null)).parents('.cell').data().cell;\n",
              "      cell.output_area.append_execute_result(NB_LOAD_WARNING)\n",
              "    }\n",
              "  }\n",
              "\n",
              "  if (root._bokeh_is_loading === 0) {\n",
              "    console.debug(\"Bokeh: BokehJS loaded, going straight to plotting\");\n",
              "    run_inline_js();\n",
              "  } else {\n",
              "    load_libs(css_urls, js_urls, function() {\n",
              "      console.debug(\"Bokeh: BokehJS plotting callback run at\", now());\n",
              "      run_inline_js();\n",
              "    });\n",
              "  }\n",
              "}(window));"
            ],
            "application/vnd.bokehjs_load.v0+json": "'use strict';\n(function(root) {\n  function now() {\n    return new Date();\n  }\n\n  const force = true;\n\n  if (typeof root._bokeh_onload_callbacks === \"undefined\" || force === true) {\n    root._bokeh_onload_callbacks = [];\n    root._bokeh_is_loading = undefined;\n  }\n\n\n  if (typeof (root._bokeh_timeout) === \"undefined\" || force === true) {\n    root._bokeh_timeout = Date.now() + 5000;\n    root._bokeh_failed_load = false;\n  }\n\n  const NB_LOAD_WARNING = {'data': {'text/html':\n     \"<div style='background-color: #fdd'>\\n\"+\n     \"<p>\\n\"+\n     \"BokehJS does not appear to have successfully loaded. If loading BokehJS from CDN, this \\n\"+\n     \"may be due to a slow or bad network connection. Possible fixes:\\n\"+\n     \"</p>\\n\"+\n     \"<ul>\\n\"+\n     \"<li>re-rerun `output_notebook()` to attempt to load from CDN again, or</li>\\n\"+\n     \"<li>use INLINE resources instead, as so:</li>\\n\"+\n     \"</ul>\\n\"+\n     \"<code>\\n\"+\n     \"from bokeh.resources import INLINE\\n\"+\n     \"output_notebook(resources=INLINE)\\n\"+\n     \"</code>\\n\"+\n     \"</div>\"}};\n\n  function display_loaded(error = null) {\n    const el = document.getElementById(null);\n    if (el != null) {\n      const html = (() => {\n        if (typeof root.Bokeh === \"undefined\") {\n          if (error == null) {\n            return \"BokehJS is loading ...\";\n          } else {\n            return \"BokehJS failed to load.\";\n          }\n        } else {\n          const prefix = `BokehJS ${root.Bokeh.version}`;\n          if (error == null) {\n            return `${prefix} successfully loaded.`;\n          } else {\n            return `${prefix} <b>encountered errors</b> while loading and may not function as expected.`;\n          }\n        }\n      })();\n      el.innerHTML = html;\n\n      if (error != null) {\n        const wrapper = document.createElement(\"div\");\n        wrapper.style.overflow = \"auto\";\n        wrapper.style.height = \"5em\";\n        wrapper.style.resize = \"vertical\";\n        const content = document.createElement(\"div\");\n        content.style.fontFamily = \"monospace\";\n        content.style.whiteSpace = \"pre-wrap\";\n        content.style.backgroundColor = \"rgb(255, 221, 221)\";\n        content.textContent = error.stack ?? error.toString();\n        wrapper.append(content);\n        el.append(wrapper);\n      }\n    } else if (Date.now() < root._bokeh_timeout) {\n      setTimeout(() => display_loaded(error), 100);\n    }\n  }\n\n  function run_callbacks() {\n    try {\n      root._bokeh_onload_callbacks.forEach(function(callback) {\n        if (callback != null)\n          callback();\n      });\n    } finally {\n      delete root._bokeh_onload_callbacks\n    }\n    console.debug(\"Bokeh: all callbacks have finished\");\n  }\n\n  function load_libs(css_urls, js_urls, callback) {\n    if (css_urls == null) css_urls = [];\n    if (js_urls == null) js_urls = [];\n\n    root._bokeh_onload_callbacks.push(callback);\n    if (root._bokeh_is_loading > 0) {\n      console.debug(\"Bokeh: BokehJS is being loaded, scheduling callback at\", now());\n      return null;\n    }\n    if (js_urls == null || js_urls.length === 0) {\n      run_callbacks();\n      return null;\n    }\n    console.debug(\"Bokeh: BokehJS not loaded, scheduling load and callback at\", now());\n    root._bokeh_is_loading = css_urls.length + js_urls.length;\n\n    function on_load() {\n      root._bokeh_is_loading--;\n      if (root._bokeh_is_loading === 0) {\n        console.debug(\"Bokeh: all BokehJS libraries/stylesheets loaded\");\n        run_callbacks()\n      }\n    }\n\n    function on_error(url) {\n      console.error(\"failed to load \" + url);\n    }\n\n    for (let i = 0; i < css_urls.length; i++) {\n      const url = css_urls[i];\n      const element = document.createElement(\"link\");\n      element.onload = on_load;\n      element.onerror = on_error.bind(null, url);\n      element.rel = \"stylesheet\";\n      element.type = \"text/css\";\n      element.href = url;\n      console.debug(\"Bokeh: injecting link tag for BokehJS stylesheet: \", url);\n      document.body.appendChild(element);\n    }\n\n    for (let i = 0; i < js_urls.length; i++) {\n      const url = js_urls[i];\n      const element = document.createElement('script');\n      element.onload = on_load;\n      element.onerror = on_error.bind(null, url);\n      element.async = false;\n      element.src = url;\n      console.debug(\"Bokeh: injecting script tag for BokehJS library: \", url);\n      document.head.appendChild(element);\n    }\n  };\n\n  function inject_raw_css(css) {\n    const element = document.createElement(\"style\");\n    element.appendChild(document.createTextNode(css));\n    document.body.appendChild(element);\n  }\n\n  const js_urls = [\"https://cdn.bokeh.org/bokeh/release/bokeh-3.6.0.min.js\", \"https://cdn.bokeh.org/bokeh/release/bokeh-gl-3.6.0.min.js\", \"https://cdn.bokeh.org/bokeh/release/bokeh-widgets-3.6.0.min.js\", \"https://cdn.bokeh.org/bokeh/release/bokeh-tables-3.6.0.min.js\", \"https://cdn.bokeh.org/bokeh/release/bokeh-mathjax-3.6.0.min.js\"];\n  const css_urls = [];\n\n  const inline_js = [    function(Bokeh) {\n      Bokeh.set_log_level(\"info\");\n    },\nfunction(Bokeh) {\n    }\n  ];\n\n  function run_inline_js() {\n    if (root.Bokeh !== undefined || force === true) {\n      try {\n            for (let i = 0; i < inline_js.length; i++) {\n      inline_js[i].call(root, root.Bokeh);\n    }\n\n      } catch (error) {throw error;\n      }} else if (Date.now() < root._bokeh_timeout) {\n      setTimeout(run_inline_js, 100);\n    } else if (!root._bokeh_failed_load) {\n      console.log(\"Bokeh: BokehJS failed to load within specified timeout.\");\n      root._bokeh_failed_load = true;\n    } else if (force !== true) {\n      const cell = $(document.getElementById(null)).parents('.cell').data().cell;\n      cell.output_area.append_execute_result(NB_LOAD_WARNING)\n    }\n  }\n\n  if (root._bokeh_is_loading === 0) {\n    console.debug(\"Bokeh: BokehJS loaded, going straight to plotting\");\n    run_inline_js();\n  } else {\n    load_libs(css_urls, js_urls, function() {\n      console.debug(\"Bokeh: BokehJS plotting callback run at\", now());\n      run_inline_js();\n    });\n  }\n}(window));"
          },
          "metadata": {}
        },
        {
          "output_type": "display_data",
          "data": {
            "text/html": [
              "\n",
              "  <div id=\"c3964da6-d32b-4c9c-9d8d-a38a8608bb77\" data-root-id=\"p1004\" style=\"display: contents;\"></div>\n"
            ]
          },
          "metadata": {}
        },
        {
          "output_type": "display_data",
          "data": {
            "application/javascript": [
              "(function(root) {\n",
              "  function embed_document(root) {\n",
              "  const docs_json = {\"56eb14d2-ea8b-4cf8-bdda-9c19ec4138e1\":{\"version\":\"3.6.0\",\"title\":\"Bokeh Application\",\"roots\":[{\"type\":\"object\",\"name\":\"Figure\",\"id\":\"p1004\",\"attributes\":{\"height\":400,\"x_range\":{\"type\":\"object\",\"name\":\"DataRange1d\",\"id\":\"p1005\"},\"y_range\":{\"type\":\"object\",\"name\":\"DataRange1d\",\"id\":\"p1006\"},\"x_scale\":{\"type\":\"object\",\"name\":\"LinearScale\",\"id\":\"p1013\"},\"y_scale\":{\"type\":\"object\",\"name\":\"LinearScale\",\"id\":\"p1014\"},\"title\":{\"type\":\"object\",\"name\":\"Title\",\"id\":\"p1011\"},\"renderers\":[{\"type\":\"object\",\"name\":\"GlyphRenderer\",\"id\":\"p1044\",\"attributes\":{\"data_source\":{\"type\":\"object\",\"name\":\"ColumnDataSource\",\"id\":\"p1001\",\"attributes\":{\"selected\":{\"type\":\"object\",\"name\":\"Selection\",\"id\":\"p1002\",\"attributes\":{\"indices\":[],\"line_indices\":[]}},\"selection_policy\":{\"type\":\"object\",\"name\":\"UnionRenderers\",\"id\":\"p1003\"},\"data\":{\"type\":\"map\",\"entries\":[[\"x\",{\"type\":\"ndarray\",\"array\":{\"type\":\"bytes\",\"data\":\"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\"},\"shape\":[5000],\"dtype\":\"float32\",\"order\":\"little\"}],[\"y\",{\"type\":\"ndarray\",\"array\":{\"type\":\"bytes\",\"data\":\"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\"},\"shape\":[5000],\"dtype\":\"float32\",\"order\":\"little\"}],[\"color\",[\"blue\",\"blue\",\"blue\",\"blue\",\"blue\",\"blue\",\"blue\",\"blue\",\"blue\",\"blue\",\"blue\",\"blue\",\"blue\",\"blue\",\"blue\",\"blue\",\"blue\",\"blue\",\"blue\",\"blue\",\"blue\",\"blue\",\"blue\",\"blue\",\"blue\",\"blue\",\"blue\",\"blue\",\"blue\",\"blue\",\"blue\",\"blue\",\"blue\",\"blue\",\"blue\",\"blue\",\"blue\",\"blue\",\"blue\",\"blue\",\"blue\",\"blue\",\"blue\",\"blue\",\"blue\",\"blue\",\"blue\",\"blue\",\"blue\",\"blue\",\"blue\",\"blue\",\"blue\",\"blue\",\"blue\",\"blue\",\"blue\",\"blue\",\"blue\",\"blue\",\"blue\",\"blue\",\"blue\",\"blue\",\"blue\",\"blue\",\"blue\",\"blue\",\"blue\",\"blue\",\"blue\",\"blue\",\"blue\",\"blue\",\"blue\",\"blue\",\"blue\",\"blue\",\"blue\",\"blue\",\"blue\",\"blue\",\"blue\",\"blue\",\"blue\",\"blue\",\"blue\",\"blue\",\"blue\",\"blue\",\"blue\",\"blue\",\"blue\",\"blue\",\"blue\",\"blue\",\"blue\",\"blue\",\"blue\",\"blue\",\"blue\",\"blue\",\"blue\",\"blue\",\"blue\",\"blue\",\"blue\",\"blue\",\"blue\",\"blue\",\"blue\",\"blue\",\"blue\",\"blue\",\"blue\",\"blue\",\"blue\",\"blue\",\"blue\",\"blue\",\"blue\",\"blue\",\"blue\",\"blue\",\"blue\",\"blue\",\"blue\",\"blue\",\"blue\",\"blue\",\"blue\",\"blue\",\"blue\",\"blue\",\"blue\",\"blue\",\"blue\",\"blue\",\"blue\",\"blue\",\"blue\",\"blue\",\"blue\",\"blue\",\"blue\",\"blue\",\"blue\",\"blue\",\"blue\",\"blue\",\"blue\",\"blue\",\"blue\",\"blue\",\"blue\",\"blue\",\"blue\",\"blue\",\"blue\",\"blue\",\"blue\",\"blue\",\"blue\",\"blue\",\"blue\",\"blue\",\"blue\",\"blue\",\"blue\",\"blue\",\"blue\",\"blue\",\"blue\",\"blue\",\"blue\",\"blue\",\"blue\",\"blue\",\"blue\",\"blue\",\"blue\",\"blue\",\"blue\",\"blue\",\"blue\",\"blue\",\"blue\",\"blue\",\"blue\",\"blue\",\"blue\",\"blue\",\"blue\",\"blue\",\"blue\",\"blue\",\"blue\",\"blue\",\"blue\",\"blue\",\"blue\",\"blue\",\"blue\",\"blue\",\"blue\",\"blue\",\"blue\",\"blue\",\"blue\",\"blue\",\"blue\",\"blue\",\"blue\",\"blue\",\"blue\",\"blue\",\"blue\",\"blue\",\"blue\",\"blue\",\"blue\",\"blue\",\"blue\",\"blue\",\"blue\",\"blue\",\"blue\",\"blue\",\"blue\",\"blue\",\"blue\",\"blue\",\"blue\",\"blue\",\"blue\",\"blue\",\"blue\",\"blue\",\"blue\",\"blue\",\"blue\",\"blue\",\"blue\",\"blue\",\"blue\",\"blue\",\"blue\",\"blue\",\"blue\",\"blue\",\"blue\",\"blue\",\"blue\",\"blue\",\"blue\",\"blue\",\"blue\",\"blue\",\"blue\",\"blue\",\"blue\",\"blue\",\"blue\",\"blue\",\"blue\",\"blue\",\"blue\",\"blue\",\"blue\",\"blue\",\"blue\",\"blue\",\"blue\",\"blue\",\"blue\",\"blue\",\"blue\",\"blue\",\"blue\",\"blue\",\"blue\",\"blue\",\"blue\",\"blue\",\"blue\",\"blue\",\"blue\",\"blue\",\"blue\",\"blue\",\"blue\",\"blue\",\"blue\",\"blue\",\"blue\",\"blue\",\"blue\",\"blue\",\"blue\",\"blue\",\"blue\",\"blue\",\"blue\",\"blue\",\"blue\",\"blue\",\"blue\",\"blue\",\"blue\",\"blue\",\"blue\",\"blue\",\"blue\",\"blue\",\"blue\",\"blue\",\"blue\",\"blue\",\"blue\",\"blue\",\"blue\",\"blue\",\"blue\",\"blue\",\"blue\",\"blue\",\"blue\",\"blue\",\"blue\",\"blue\",\"blue\",\"blue\",\"blue\",\"blue\",\"blue\",\"blue\",\"blue\",\"blue\",\"blue\",\"blue\",\"blue\",\"blue\",\"blue\",\"blue\",\"blue\",\"blue\",\"blue\",\"blue\",\"blue\",\"blue\",\"blue\",\"blue\",\"blue\",\"blue\",\"blue\",\"blue\",\"blue\",\"blue\",\"blue\",\"blue\",\"blue\",\"blue\",\"blue\",\"blue\",\"blue\",\"blue\",\"blue\",\"blue\",\"blue\",\"blue\",\"blue\",\"blue\",\"blue\",\"blue\",\"blue\",\"blue\",\"blue\",\"blue\",\"blue\",\"blue\",\"blue\",\"blue\",\"blue\",\"blue\",\"blue\",\"blue\",\"blue\",\"blue\",\"blue\",\"blue\",\"blue\",\"blue\",\"blue\",\"blue\",\"blue\",\"blue\",\"blue\",\"blue\",\"blue\",\"blue\",\"blue\",\"blue\",\"blue\",\"blue\",\"blue\",\"blue\",\"blue\",\"blue\",\"blue\",\"blue\",\"blue\",\"blue\",\"blue\",\"blue\",\"blue\",\"blue\",\"blue\",\"blue\",\"blue\",\"blue\",\"blue\",\"blue\",\"blue\",\"blue\",\"blue\",\"blue\",\"blue\",\"blue\",\"blue\",\"blue\",\"blue\",\"blue\",\"blue\",\"blue\",\"blue\",\"blue\",\"blue\",\"blue\",\"blue\",\"blue\",\"blue\",\"blue\",\"blue\",\"blue\",\"blue\",\"blue\",\"blue\",\"blue\",\"blue\",\"blue\",\"blue\",\"blue\",\"blue\",\"blue\",\"blue\",\"blue\",\"blue\",\"blue\",\"blue\",\"blue\",\"blue\",\"blue\",\"blue\",\"blue\",\"blue\",\"blue\",\"blue\",\"blue\",\"blue\",\"blue\",\"blue\",\"blue\",\"blue\",\"blue\",\"blue\",\"blue\",\"blue\",\"blue\",\"blue\",\"blue\",\"blue\",\"blue\",\"blue\",\"blue\",\"blue\",\"blue\",\"blue\",\"blue\",\"blue\",\"blue\",\"blue\",\"blue\",\"blue\",\"blue\",\"blue\",\"blue\",\"blue\",\"blue\",\"blue\",\"blue\",\"blue\",\"blue\",\"blue\",\"blue\",\"blue\",\"blue\",\"blue\",\"blue\",\"blue\",\"blue\",\"blue\",\"blue\",\"blue\",\"blue\",\"blue\",\"blue\",\"blue\",\"blue\",\"blue\",\"blue\",\"blue\",\"blue\",\"blue\",\"blue\",\"blue\",\"blue\",\"blue\",\"blue\",\"blue\",\"blue\",\"blue\",\"blue\",\"blue\",\"blue\",\"blue\",\"blue\",\"blue\",\"blue\",\"blue\",\"blue\",\"blue\",\"blue\",\"blue\",\"blue\",\"blue\",\"blue\",\"blue\",\"blue\",\"blue\",\"blue\",\"blue\",\"blue\",\"blue\",\"blue\",\"blue\",\"blue\",\"blue\",\"blue\",\"blue\",\"blue\",\"blue\",\"blue\",\"blue\",\"blue\",\"blue\",\"blue\",\"blue\",\"blue\",\"blue\",\"blue\",\"blue\",\"blue\",\"blue\",\"blue\",\"blue\",\"blue\",\"blue\",\"blue\",\"blue\",\"blue\",\"blue\",\"blue\",\"blue\",\"blue\",\"blue\",\"blue\",\"blue\",\"blue\",\"blue\",\"blue\",\"blue\",\"blue\",\"blue\",\"blue\",\"blue\",\"blue\",\"blue\",\"blue\",\"blue\",\"blue\",\"blue\",\"blue\",\"blue\",\"blue\",\"blue\",\"blue\",\"blue\",\"blue\",\"blue\",\"blue\",\"blue\",\"blue\",\"blue\",\"blue\",\"blue\",\"blue\",\"blue\",\"blue\",\"blue\",\"blue\",\"blue\",\"blue\",\"blue\",\"blue\",\"blue\",\"blue\",\"blue\",\"blue\",\"blue\",\"blue\",\"blue\",\"blue\",\"blue\",\"blue\",\"blue\",\"blue\",\"blue\",\"blue\",\"blue\",\"blue\",\"blue\",\"blue\",\"blue\",\"blue\",\"blue\",\"blue\",\"blue\",\"blue\",\"blue\",\"blue\",\"blue\",\"blue\",\"blue\",\"blue\",\"blue\",\"blue\",\"blue\",\"blue\",\"blue\",\"blue\",\"blue\",\"blue\",\"blue\",\"blue\",\"blue\",\"blue\",\"blue\",\"blue\",\"blue\",\"blue\",\"blue\",\"blue\",\"blue\",\"blue\",\"blue\",\"blue\",\"blue\",\"blue\",\"blue\",\"blue\",\"blue\",\"blue\",\"blue\",\"blue\",\"blue\",\"blue\",\"blue\",\"blue\",\"blue\",\"blue\",\"blue\",\"blue\",\"blue\",\"blue\",\"blue\",\"blue\",\"blue\",\"blue\",\"blue\",\"blue\",\"blue\",\"blue\",\"blue\",\"blue\",\"blue\",\"blue\",\"blue\",\"blue\",\"blue\",\"blue\",\"blue\",\"blue\",\"blue\",\"blue\",\"blue\",\"blue\",\"blue\",\"blue\",\"blue\",\"blue\",\"blue\",\"blue\",\"blue\",\"blue\",\"blue\",\"blue\",\"blue\",\"blue\",\"blue\",\"blue\",\"blue\",\"blue\",\"blue\",\"blue\",\"blue\",\"blue\",\"blue\",\"blue\",\"blue\",\"blue\",\"blue\",\"blue\",\"blue\",\"blue\",\"blue\",\"blue\",\"blue\",\"blue\",\"blue\",\"blue\",\"blue\",\"blue\",\"blue\",\"blue\",\"blue\",\"blue\",\"blue\",\"blue\",\"blue\",\"blue\",\"blue\",\"blue\",\"blue\",\"blue\",\"blue\",\"blue\",\"blue\",\"blue\",\"blue\",\"blue\",\"blue\",\"blue\",\"blue\",\"blue\",\"blue\",\"blue\",\"blue\",\"blue\",\"blue\",\"blue\",\"blue\",\"blue\",\"blue\",\"blue\",\"blue\",\"blue\",\"blue\",\"blue\",\"blue\",\"blue\",\"blue\",\"blue\",\"blue\",\"blue\",\"blue\",\"blue\",\"blue\",\"blue\",\"blue\",\"blue\",\"blue\",\"blue\",\"blue\",\"blue\",\"blue\",\"blue\",\"blue\",\"blue\",\"blue\",\"blue\",\"blue\",\"blue\",\"blue\",\"blue\",\"blue\",\"blue\",\"blue\",\"blue\",\"blue\",\"blue\",\"blue\",\"blue\",\"blue\",\"blue\",\"blue\",\"blue\",\"blue\",\"blue\",\"blue\",\"blue\",\"blue\",\"blue\",\"blue\",\"blue\",\"blue\",\"blue\",\"blue\",\"blue\",\"blue\",\"blue\",\"blue\",\"blue\",\"blue\",\"blue\",\"blue\",\"blue\",\"blue\",\"blue\",\"blue\",\"blue\",\"blue\",\"blue\",\"blue\",\"blue\",\"blue\",\"blue\",\"blue\",\"blue\",\"blue\",\"blue\",\"blue\",\"blue\",\"blue\",\"blue\",\"blue\",\"blue\",\"blue\",\"blue\",\"blue\",\"blue\",\"blue\",\"blue\",\"blue\",\"blue\",\"blue\",\"blue\",\"blue\",\"blue\",\"blue\",\"blue\",\"blue\",\"blue\",\"blue\",\"blue\",\"blue\",\"blue\",\"blue\",\"blue\",\"blue\",\"blue\",\"blue\",\"blue\",\"blue\",\"blue\",\"blue\",\"blue\",\"blue\",\"blue\",\"blue\",\"blue\",\"blue\",\"blue\",\"blue\",\"blue\",\"blue\",\"blue\",\"blue\",\"blue\",\"blue\",\"blue\",\"blue\",\"blue\",\"blue\",\"blue\",\"blue\",\"blue\",\"blue\",\"blue\",\"blue\",\"blue\",\"blue\",\"blue\",\"blue\",\"blue\",\"blue\",\"blue\",\"blue\",\"blue\",\"blue\",\"blue\",\"blue\",\"blue\",\"blue\",\"blue\",\"blue\",\"blue\",\"blue\",\"blue\",\"blue\",\"blue\",\"blue\",\"blue\",\"blue\",\"blue\",\"blue\",\"blue\",\"blue\",\"blue\",\"blue\",\"blue\",\"blue\",\"blue\",\"blue\",\"blue\",\"blue\",\"blue\",\"blue\",\"blue\",\"blue\",\"blue\",\"blue\",\"blue\",\"blue\",\"blue\",\"blue\",\"blue\",\"blue\",\"blue\",\"blue\",\"blue\",\"blue\",\"blue\",\"blue\",\"blue\",\"blue\",\"blue\",\"blue\",\"blue\",\"blue\",\"blue\",\"blue\",\"blue\",\"blue\",\"blue\",\"blue\",\"blue\",\"blue\",\"blue\",\"blue\",\"blue\",\"blue\",\"blue\",\"blue\",\"blue\",\"blue\",\"blue\",\"blue\",\"blue\",\"blue\",\"blue\",\"blue\",\"blue\",\"blue\",\"blue\",\"blue\",\"blue\",\"blue\",\"blue\",\"blue\",\"blue\",\"blue\",\"blue\",\"blue\",\"blue\",\"blue\",\"blue\",\"blue\",\"blue\",\"blue\",\"blue\",\"blue\",\"blue\",\"blue\",\"blue\",\"blue\",\"blue\",\"blue\",\"blue\",\"blue\",\"blue\",\"blue\",\"blue\",\"blue\",\"blue\",\"blue\",\"blue\",\"blue\",\"blue\",\"blue\",\"blue\",\"blue\",\"blue\",\"blue\",\"blue\",\"blue\",\"blue\",\"blue\",\"blue\",\"blue\",\"blue\",\"blue\",\"blue\",\"blue\",\"blue\",\"blue\",\"blue\",\"blue\",\"blue\",\"blue\",\"blue\",\"blue\",\"blue\",\"blue\",\"blue\",\"blue\",\"blue\",\"blue\",\"blue\",\"blue\",\"blue\",\"blue\",\"blue\",\"blue\",\"blue\",\"blue\",\"blue\",\"blue\",\"blue\",\"blue\",\"blue\",\"blue\",\"blue\",\"blue\",\"blue\",\"blue\",\"blue\",\"blue\",\"blue\",\"blue\",\"blue\",\"blue\",\"blue\",\"blue\",\"blue\",\"blue\",\"blue\",\"blue\",\"blue\",\"blue\",\"blue\",\"blue\",\"blue\",\"blue\",\"blue\",\"blue\",\"blue\",\"blue\",\"blue\",\"blue\",\"blue\",\"blue\",\"blue\",\"blue\",\"blue\",\"blue\",\"blue\",\"blue\",\"blue\",\"blue\",\"blue\",\"blue\",\"blue\",\"blue\",\"blue\",\"blue\",\"blue\",\"blue\",\"blue\",\"blue\",\"blue\",\"blue\",\"blue\",\"blue\",\"blue\",\"blue\",\"blue\",\"blue\",\"blue\",\"blue\",\"blue\",\"blue\",\"blue\",\"blue\",\"blue\",\"blue\",\"blue\",\"blue\",\"blue\",\"blue\",\"blue\",\"blue\",\"blue\",\"blue\",\"blue\",\"blue\",\"blue\",\"blue\",\"blue\",\"blue\",\"blue\",\"blue\",\"blue\",\"blue\",\"blue\",\"blue\",\"blue\",\"blue\",\"blue\",\"blue\",\"blue\",\"blue\",\"blue\",\"blue\",\"blue\",\"blue\",\"blue\",\"blue\",\"blue\",\"blue\",\"blue\",\"blue\",\"blue\",\"blue\",\"blue\",\"blue\",\"blue\",\"blue\",\"blue\",\"blue\",\"blue\",\"blue\",\"blue\",\"blue\",\"blue\",\"blue\",\"blue\",\"blue\",\"blue\",\"blue\",\"blue\",\"blue\",\"blue\",\"blue\",\"blue\",\"blue\",\"blue\",\"blue\",\"blue\",\"blue\",\"blue\",\"blue\",\"blue\",\"blue\",\"blue\",\"blue\",\"blue\",\"blue\",\"blue\",\"blue\",\"blue\",\"blue\",\"blue\",\"blue\",\"blue\",\"blue\",\"blue\",\"blue\",\"blue\",\"blue\",\"blue\",\"blue\",\"blue\",\"blue\",\"blue\",\"blue\",\"blue\",\"blue\",\"blue\",\"blue\",\"blue\",\"blue\",\"blue\",\"blue\",\"blue\",\"blue\",\"blue\",\"blue\",\"blue\",\"blue\",\"blue\",\"blue\",\"blue\",\"blue\",\"blue\",\"blue\",\"blue\",\"blue\",\"blue\",\"blue\",\"blue\",\"blue\",\"blue\",\"blue\",\"blue\",\"blue\",\"blue\",\"blue\",\"blue\",\"blue\",\"blue\",\"blue\",\"blue\",\"blue\",\"blue\",\"blue\",\"blue\",\"blue\",\"blue\",\"blue\",\"blue\",\"blue\",\"blue\",\"blue\",\"blue\",\"blue\",\"blue\",\"blue\",\"blue\",\"blue\",\"blue\",\"blue\",\"blue\",\"blue\",\"blue\",\"blue\",\"blue\",\"blue\",\"blue\",\"blue\",\"blue\",\"blue\",\"blue\",\"blue\",\"blue\",\"blue\",\"blue\",\"blue\",\"blue\",\"blue\",\"blue\",\"blue\",\"blue\",\"blue\",\"blue\",\"blue\",\"blue\",\"blue\",\"blue\",\"blue\",\"blue\",\"blue\",\"blue\",\"blue\",\"blue\",\"blue\",\"blue\",\"blue\",\"blue\",\"blue\",\"blue\",\"blue\",\"blue\",\"blue\",\"blue\",\"blue\",\"blue\",\"blue\",\"blue\",\"blue\",\"blue\",\"blue\",\"blue\",\"blue\",\"blue\",\"blue\",\"blue\",\"blue\",\"blue\",\"blue\",\"blue\",\"blue\",\"blue\",\"blue\",\"blue\",\"blue\",\"blue\",\"blue\",\"blue\",\"blue\",\"blue\",\"blue\",\"blue\",\"blue\",\"blue\",\"blue\",\"blue\",\"blue\",\"blue\",\"blue\",\"blue\",\"blue\",\"blue\",\"blue\",\"blue\",\"blue\",\"blue\",\"blue\",\"blue\",\"blue\",\"blue\",\"blue\",\"blue\",\"blue\",\"blue\",\"blue\",\"blue\",\"blue\",\"blue\",\"blue\",\"blue\",\"blue\",\"blue\",\"blue\",\"blue\",\"blue\",\"blue\",\"blue\",\"blue\",\"blue\",\"blue\",\"blue\",\"blue\",\"blue\",\"blue\",\"blue\",\"blue\",\"blue\",\"blue\",\"blue\",\"blue\",\"blue\",\"blue\",\"blue\",\"blue\",\"blue\",\"blue\",\"blue\",\"blue\",\"blue\",\"blue\",\"blue\",\"blue\",\"blue\",\"blue\",\"blue\",\"blue\",\"blue\",\"blue\",\"blue\",\"blue\",\"blue\",\"blue\",\"blue\",\"blue\",\"blue\",\"blue\",\"blue\",\"blue\",\"blue\",\"blue\",\"blue\",\"blue\",\"blue\",\"blue\",\"blue\",\"blue\",\"blue\",\"blue\",\"blue\",\"blue\",\"blue\",\"blue\",\"blue\",\"blue\",\"blue\",\"blue\",\"blue\",\"blue\",\"blue\",\"blue\",\"blue\",\"blue\",\"blue\",\"blue\",\"blue\",\"blue\",\"blue\",\"blue\",\"blue\",\"blue\",\"blue\",\"blue\",\"blue\",\"blue\",\"blue\",\"blue\",\"blue\",\"blue\",\"blue\",\"blue\",\"blue\",\"blue\",\"blue\",\"blue\",\"blue\",\"blue\",\"blue\",\"blue\",\"blue\",\"blue\",\"blue\",\"blue\",\"blue\",\"blue\",\"blue\",\"blue\",\"blue\",\"blue\",\"blue\",\"blue\",\"blue\",\"blue\",\"blue\",\"blue\",\"blue\",\"blue\",\"blue\",\"blue\",\"blue\",\"blue\",\"blue\",\"blue\",\"blue\",\"blue\",\"blue\",\"blue\",\"blue\",\"blue\",\"blue\",\"blue\",\"blue\",\"blue\",\"blue\",\"blue\",\"blue\",\"blue\",\"blue\",\"blue\",\"blue\",\"blue\",\"blue\",\"blue\",\"blue\",\"blue\",\"blue\",\"blue\",\"blue\",\"blue\",\"blue\",\"blue\",\"blue\",\"blue\",\"blue\",\"blue\",\"blue\",\"blue\",\"blue\",\"blue\",\"blue\",\"blue\",\"blue\",\"blue\",\"blue\",\"blue\",\"blue\",\"blue\",\"blue\",\"blue\",\"blue\",\"blue\",\"blue\",\"blue\",\"blue\",\"blue\",\"blue\",\"blue\",\"blue\",\"blue\",\"blue\",\"blue\",\"blue\",\"blue\",\"blue\",\"blue\",\"blue\",\"blue\",\"blue\",\"blue\",\"blue\",\"blue\",\"blue\",\"blue\",\"blue\",\"blue\",\"blue\",\"blue\",\"blue\",\"blue\",\"blue\",\"blue\",\"blue\",\"blue\",\"blue\",\"blue\",\"blue\",\"blue\",\"blue\",\"blue\",\"blue\",\"blue\",\"blue\",\"blue\",\"blue\",\"blue\",\"blue\",\"blue\",\"blue\",\"blue\",\"blue\",\"blue\",\"blue\",\"blue\",\"blue\",\"blue\",\"blue\",\"blue\",\"blue\",\"blue\",\"blue\",\"blue\",\"blue\",\"blue\",\"blue\",\"blue\",\"blue\",\"blue\",\"blue\",\"blue\",\"blue\",\"blue\",\"blue\",\"blue\",\"blue\",\"blue\",\"blue\",\"blue\",\"blue\",\"blue\",\"blue\",\"blue\",\"blue\",\"blue\",\"blue\",\"blue\",\"blue\",\"blue\",\"blue\",\"blue\",\"blue\",\"blue\",\"blue\",\"blue\",\"blue\",\"blue\",\"blue\",\"blue\",\"blue\",\"blue\",\"blue\",\"blue\",\"blue\",\"blue\",\"blue\",\"blue\",\"blue\",\"blue\",\"blue\",\"blue\",\"blue\",\"blue\",\"blue\",\"blue\",\"blue\",\"blue\",\"blue\",\"blue\",\"blue\",\"blue\",\"blue\",\"blue\",\"blue\",\"blue\",\"blue\",\"blue\",\"blue\",\"blue\",\"blue\",\"blue\",\"blue\",\"blue\",\"blue\",\"blue\",\"blue\",\"blue\",\"blue\",\"blue\",\"blue\",\"blue\",\"blue\",\"blue\",\"blue\",\"blue\",\"blue\",\"blue\",\"blue\",\"blue\",\"blue\",\"blue\",\"blue\",\"blue\",\"blue\",\"blue\",\"blue\",\"blue\",\"blue\",\"blue\",\"blue\",\"blue\",\"blue\",\"blue\",\"blue\",\"blue\",\"blue\",\"blue\",\"blue\",\"blue\",\"blue\",\"blue\",\"blue\",\"blue\",\"blue\",\"blue\",\"blue\",\"blue\",\"blue\",\"blue\",\"blue\",\"blue\",\"blue\",\"blue\",\"blue\",\"blue\",\"blue\",\"blue\",\"blue\",\"blue\",\"blue\",\"blue\",\"blue\",\"blue\",\"blue\",\"blue\",\"blue\",\"blue\",\"blue\",\"blue\",\"blue\",\"blue\",\"blue\",\"blue\",\"blue\",\"blue\",\"blue\",\"blue\",\"blue\",\"blue\",\"blue\",\"blue\",\"blue\",\"blue\",\"blue\",\"blue\",\"blue\",\"blue\",\"blue\",\"blue\",\"blue\",\"blue\",\"blue\",\"blue\",\"blue\",\"blue\",\"blue\",\"blue\",\"blue\",\"blue\",\"blue\",\"blue\",\"blue\",\"blue\",\"blue\",\"blue\",\"blue\",\"blue\",\"blue\",\"blue\",\"blue\",\"blue\",\"blue\",\"blue\",\"blue\",\"blue\",\"blue\",\"blue\",\"blue\",\"blue\",\"blue\",\"blue\",\"blue\",\"blue\",\"blue\",\"blue\",\"blue\",\"blue\",\"blue\",\"blue\",\"blue\",\"blue\",\"blue\",\"blue\",\"blue\",\"blue\",\"blue\",\"blue\",\"blue\",\"blue\",\"blue\",\"blue\",\"blue\",\"blue\",\"blue\",\"blue\",\"blue\",\"blue\",\"blue\",\"blue\",\"blue\",\"blue\",\"blue\",\"blue\",\"blue\",\"blue\",\"blue\",\"blue\",\"blue\",\"blue\",\"blue\",\"blue\",\"blue\",\"blue\",\"blue\",\"blue\",\"blue\",\"blue\",\"blue\",\"blue\",\"blue\",\"blue\",\"blue\",\"blue\",\"blue\",\"blue\",\"blue\",\"blue\",\"blue\",\"blue\",\"blue\",\"blue\",\"blue\",\"blue\",\"blue\",\"blue\",\"blue\",\"blue\",\"blue\",\"blue\",\"blue\",\"blue\",\"blue\",\"blue\",\"blue\",\"blue\",\"blue\",\"blue\",\"blue\",\"blue\",\"blue\",\"blue\",\"blue\",\"blue\",\"blue\",\"blue\",\"blue\",\"blue\",\"blue\",\"blue\",\"blue\",\"blue\",\"blue\",\"blue\",\"blue\",\"blue\",\"blue\",\"blue\",\"blue\",\"blue\",\"blue\",\"blue\",\"blue\",\"blue\",\"blue\",\"blue\",\"blue\",\"blue\",\"blue\",\"blue\",\"blue\",\"blue\",\"blue\",\"blue\",\"blue\",\"blue\",\"blue\",\"blue\",\"blue\",\"blue\",\"blue\",\"blue\",\"blue\",\"blue\",\"blue\",\"blue\",\"blue\",\"blue\",\"blue\",\"blue\",\"blue\",\"blue\",\"blue\",\"blue\",\"blue\",\"blue\",\"blue\",\"blue\",\"blue\",\"blue\",\"blue\",\"blue\",\"blue\",\"blue\",\"blue\",\"blue\",\"blue\",\"blue\",\"blue\",\"blue\",\"blue\",\"blue\",\"blue\",\"blue\",\"blue\",\"blue\",\"blue\",\"blue\",\"blue\",\"blue\",\"blue\",\"blue\",\"blue\",\"blue\",\"blue\",\"blue\",\"blue\",\"blue\",\"blue\",\"blue\",\"blue\",\"blue\",\"blue\",\"blue\",\"blue\",\"blue\",\"blue\",\"blue\",\"blue\",\"blue\",\"blue\",\"blue\",\"blue\",\"blue\",\"blue\",\"blue\",\"blue\",\"blue\",\"blue\",\"blue\",\"blue\",\"blue\",\"blue\",\"blue\",\"blue\",\"blue\",\"blue\",\"blue\",\"blue\",\"blue\",\"blue\",\"blue\",\"blue\",\"blue\",\"blue\",\"blue\",\"blue\",\"blue\",\"blue\",\"blue\",\"blue\",\"blue\",\"blue\",\"blue\",\"blue\",\"blue\",\"blue\",\"blue\",\"blue\",\"blue\",\"blue\",\"blue\",\"blue\",\"blue\",\"blue\",\"blue\",\"blue\",\"blue\",\"blue\",\"blue\",\"blue\",\"blue\",\"blue\",\"blue\",\"blue\",\"blue\",\"blue\",\"blue\",\"blue\",\"blue\",\"blue\",\"blue\",\"blue\",\"blue\",\"blue\",\"blue\",\"blue\",\"blue\",\"blue\",\"blue\",\"blue\",\"blue\",\"blue\",\"blue\",\"blue\",\"blue\",\"blue\",\"blue\",\"blue\",\"blue\",\"blue\",\"blue\",\"blue\",\"blue\",\"blue\",\"blue\",\"blue\",\"blue\",\"blue\",\"blue\",\"blue\",\"blue\",\"blue\",\"blue\",\"blue\",\"blue\",\"blue\",\"blue\",\"blue\",\"blue\",\"blue\",\"blue\",\"blue\",\"blue\",\"blue\",\"blue\",\"blue\",\"blue\",\"blue\",\"blue\",\"blue\",\"blue\",\"blue\",\"blue\",\"blue\",\"blue\",\"blue\",\"blue\",\"blue\",\"blue\",\"blue\",\"blue\",\"blue\",\"blue\",\"blue\",\"blue\",\"blue\",\"blue\",\"blue\",\"blue\",\"blue\",\"blue\",\"blue\",\"blue\",\"blue\",\"blue\",\"blue\",\"blue\",\"blue\",\"blue\",\"blue\",\"blue\",\"blue\",\"blue\",\"blue\",\"blue\",\"blue\",\"blue\",\"blue\",\"blue\",\"blue\",\"blue\",\"blue\",\"blue\",\"blue\",\"blue\",\"blue\",\"blue\",\"blue\",\"blue\",\"blue\",\"blue\",\"blue\",\"blue\",\"blue\",\"blue\",\"blue\",\"blue\",\"blue\",\"blue\",\"blue\",\"blue\",\"blue\",\"blue\",\"blue\",\"blue\",\"blue\",\"blue\",\"blue\",\"blue\",\"blue\",\"blue\",\"blue\",\"blue\",\"blue\",\"blue\",\"blue\",\"blue\",\"blue\",\"blue\",\"blue\",\"blue\",\"blue\",\"blue\",\"blue\",\"blue\",\"blue\",\"blue\",\"blue\",\"blue\",\"blue\",\"blue\",\"blue\",\"blue\",\"blue\",\"blue\",\"blue\",\"blue\",\"blue\",\"blue\",\"blue\",\"blue\",\"blue\",\"blue\",\"blue\",\"blue\",\"blue\",\"blue\",\"blue\",\"blue\",\"blue\",\"blue\",\"blue\",\"blue\",\"blue\",\"blue\",\"blue\",\"blue\",\"blue\",\"blue\",\"blue\",\"blue\",\"blue\",\"blue\",\"blue\",\"blue\",\"blue\",\"blue\",\"blue\",\"blue\",\"blue\",\"blue\",\"blue\",\"blue\",\"blue\",\"blue\",\"blue\",\"blue\",\"blue\",\"blue\",\"blue\",\"blue\",\"blue\",\"blue\",\"blue\",\"blue\",\"blue\",\"blue\",\"blue\",\"blue\",\"blue\",\"blue\",\"blue\",\"blue\",\"blue\",\"blue\",\"blue\",\"blue\",\"blue\",\"blue\",\"blue\",\"blue\",\"blue\",\"blue\",\"blue\",\"blue\",\"blue\",\"blue\",\"blue\",\"blue\",\"blue\",\"blue\",\"blue\",\"blue\",\"blue\",\"blue\",\"blue\",\"blue\",\"blue\",\"blue\",\"blue\",\"blue\",\"blue\",\"blue\",\"blue\",\"blue\",\"blue\",\"blue\",\"blue\",\"blue\",\"blue\",\"blue\",\"blue\",\"blue\",\"blue\",\"blue\",\"blue\",\"blue\",\"blue\",\"blue\",\"blue\",\"blue\",\"blue\",\"blue\",\"blue\",\"blue\",\"blue\",\"blue\",\"blue\",\"blue\",\"blue\",\"blue\",\"blue\",\"blue\",\"blue\",\"blue\",\"blue\",\"blue\",\"blue\",\"blue\",\"blue\",\"blue\",\"blue\",\"blue\",\"blue\",\"blue\",\"blue\",\"blue\",\"blue\",\"blue\",\"blue\",\"blue\",\"blue\",\"blue\",\"blue\",\"blue\",\"blue\",\"blue\",\"blue\",\"blue\",\"blue\",\"blue\",\"blue\",\"blue\",\"blue\",\"blue\",\"blue\",\"blue\",\"blue\",\"blue\",\"blue\",\"blue\",\"blue\",\"blue\",\"blue\",\"blue\",\"blue\",\"blue\",\"blue\",\"blue\",\"blue\",\"blue\",\"blue\",\"blue\",\"blue\",\"blue\",\"blue\",\"blue\",\"blue\",\"blue\",\"blue\",\"blue\",\"blue\",\"blue\",\"blue\",\"blue\",\"blue\",\"blue\",\"blue\",\"blue\",\"blue\",\"blue\",\"blue\",\"blue\",\"blue\",\"blue\",\"blue\",\"blue\",\"blue\",\"blue\",\"blue\",\"blue\",\"blue\",\"blue\",\"blue\",\"blue\",\"blue\",\"blue\",\"blue\",\"blue\",\"blue\",\"blue\",\"blue\",\"blue\",\"blue\",\"blue\",\"blue\",\"blue\",\"blue\",\"blue\",\"blue\",\"blue\",\"blue\",\"blue\",\"blue\",\"blue\",\"blue\",\"blue\",\"blue\",\"blue\",\"blue\",\"blue\",\"blue\",\"blue\",\"blue\",\"blue\",\"blue\",\"blue\",\"blue\",\"blue\",\"blue\",\"blue\",\"blue\",\"blue\",\"blue\",\"blue\",\"blue\",\"blue\",\"blue\",\"blue\",\"blue\",\"blue\",\"blue\",\"blue\",\"blue\",\"blue\",\"blue\",\"blue\",\"blue\",\"blue\",\"blue\",\"blue\",\"blue\",\"blue\",\"blue\",\"blue\",\"blue\",\"blue\",\"blue\",\"blue\",\"blue\",\"blue\",\"blue\",\"blue\",\"blue\",\"blue\",\"blue\",\"blue\",\"blue\",\"blue\",\"blue\",\"blue\",\"blue\",\"blue\",\"blue\",\"blue\",\"blue\",\"blue\",\"blue\",\"blue\",\"blue\",\"blue\",\"blue\",\"blue\",\"blue\",\"blue\",\"blue\",\"blue\",\"blue\",\"blue\",\"blue\",\"blue\",\"blue\",\"blue\",\"blue\",\"blue\",\"blue\",\"blue\",\"blue\",\"blue\",\"blue\",\"blue\",\"blue\",\"blue\",\"blue\",\"blue\",\"blue\",\"blue\",\"blue\",\"blue\",\"blue\",\"blue\",\"blue\",\"blue\",\"blue\",\"blue\",\"blue\",\"blue\",\"blue\",\"blue\",\"blue\",\"blue\",\"blue\",\"blue\",\"blue\",\"blue\",\"blue\",\"blue\",\"blue\",\"blue\",\"blue\",\"blue\",\"blue\",\"blue\",\"blue\",\"blue\",\"blue\",\"blue\",\"blue\",\"blue\",\"blue\",\"blue\",\"blue\",\"blue\",\"blue\",\"blue\",\"blue\",\"blue\",\"blue\",\"blue\",\"blue\",\"blue\",\"blue\",\"blue\",\"blue\",\"blue\",\"blue\",\"blue\",\"blue\",\"blue\",\"blue\",\"blue\",\"blue\",\"blue\",\"blue\",\"blue\",\"blue\",\"blue\",\"blue\",\"blue\",\"blue\",\"blue\",\"blue\",\"blue\",\"blue\",\"blue\",\"blue\",\"blue\",\"blue\",\"blue\",\"blue\",\"blue\",\"blue\",\"blue\",\"blue\",\"blue\",\"blue\",\"blue\",\"blue\",\"blue\",\"blue\",\"blue\",\"blue\",\"blue\",\"blue\",\"blue\",\"blue\",\"blue\",\"blue\",\"blue\",\"blue\",\"blue\",\"blue\",\"blue\",\"blue\",\"blue\",\"blue\",\"blue\",\"blue\",\"blue\",\"blue\",\"blue\",\"blue\",\"blue\",\"blue\",\"blue\",\"blue\",\"blue\",\"blue\",\"blue\",\"blue\",\"blue\",\"blue\",\"blue\",\"blue\",\"blue\",\"blue\",\"blue\",\"blue\",\"blue\",\"blue\",\"blue\",\"blue\",\"blue\",\"blue\",\"blue\",\"blue\",\"blue\",\"blue\",\"blue\",\"blue\",\"blue\",\"blue\",\"blue\",\"blue\",\"blue\",\"blue\",\"blue\",\"blue\",\"blue\",\"blue\",\"blue\",\"blue\",\"blue\",\"blue\",\"blue\",\"blue\",\"blue\",\"blue\",\"blue\",\"blue\",\"blue\",\"blue\",\"blue\",\"blue\",\"blue\",\"blue\",\"blue\",\"blue\",\"blue\",\"blue\",\"blue\",\"blue\",\"blue\",\"blue\",\"blue\",\"blue\",\"blue\",\"blue\",\"blue\",\"blue\",\"blue\",\"blue\",\"blue\",\"blue\",\"blue\",\"blue\",\"blue\",\"blue\",\"blue\",\"blue\",\"blue\",\"blue\",\"blue\",\"blue\",\"blue\",\"blue\",\"blue\",\"blue\",\"blue\",\"blue\",\"blue\",\"blue\",\"blue\",\"blue\",\"blue\",\"blue\",\"blue\",\"blue\",\"blue\",\"blue\",\"blue\",\"blue\",\"blue\",\"blue\",\"blue\",\"blue\",\"blue\",\"blue\",\"blue\",\"blue\",\"blue\",\"blue\",\"blue\",\"blue\",\"blue\",\"blue\",\"blue\",\"blue\",\"blue\",\"blue\",\"blue\",\"blue\",\"blue\",\"blue\",\"blue\",\"blue\",\"blue\",\"blue\",\"blue\",\"blue\",\"blue\",\"blue\",\"blue\",\"blue\",\"blue\",\"blue\",\"blue\",\"blue\",\"blue\",\"blue\",\"blue\",\"blue\",\"blue\",\"blue\",\"blue\",\"blue\",\"blue\",\"blue\",\"blue\",\"blue\",\"blue\",\"blue\",\"blue\",\"blue\",\"blue\",\"blue\",\"blue\",\"blue\",\"blue\",\"blue\",\"blue\",\"blue\",\"blue\",\"blue\",\"blue\",\"blue\",\"blue\",\"blue\",\"blue\",\"blue\",\"blue\",\"blue\",\"blue\",\"blue\",\"blue\",\"blue\",\"blue\",\"blue\",\"blue\",\"blue\",\"blue\",\"blue\",\"blue\",\"blue\",\"blue\",\"blue\",\"blue\",\"blue\",\"blue\",\"blue\",\"blue\",\"blue\",\"blue\",\"blue\",\"blue\",\"blue\",\"blue\",\"blue\",\"blue\",\"blue\",\"blue\",\"blue\",\"blue\",\"blue\",\"blue\",\"blue\",\"blue\",\"blue\",\"blue\",\"blue\",\"blue\",\"blue\",\"blue\",\"blue\",\"blue\",\"blue\",\"blue\",\"blue\",\"blue\",\"blue\",\"blue\",\"blue\",\"blue\",\"blue\",\"blue\",\"blue\",\"blue\",\"blue\",\"blue\",\"blue\",\"blue\",\"blue\",\"blue\",\"blue\",\"blue\",\"blue\",\"blue\",\"blue\",\"blue\",\"blue\",\"blue\",\"blue\",\"blue\",\"blue\",\"blue\",\"blue\",\"blue\",\"blue\",\"blue\",\"blue\",\"blue\",\"blue\",\"blue\",\"blue\",\"blue\",\"blue\",\"blue\",\"blue\",\"blue\",\"blue\",\"blue\",\"blue\",\"blue\",\"blue\",\"blue\",\"blue\",\"blue\",\"blue\",\"blue\",\"blue\",\"blue\",\"blue\",\"blue\",\"blue\",\"blue\",\"blue\",\"blue\",\"blue\",\"blue\",\"blue\",\"blue\",\"blue\",\"blue\",\"blue\",\"blue\",\"blue\",\"blue\",\"blue\",\"blue\",\"blue\",\"blue\",\"blue\",\"blue\",\"blue\",\"blue\",\"blue\",\"blue\",\"blue\",\"blue\",\"blue\",\"blue\",\"blue\",\"blue\",\"blue\",\"blue\",\"blue\",\"blue\",\"blue\",\"blue\",\"blue\",\"blue\",\"blue\",\"blue\",\"blue\",\"blue\",\"blue\",\"blue\",\"blue\",\"blue\",\"blue\",\"blue\",\"blue\",\"blue\",\"blue\",\"blue\",\"blue\",\"blue\",\"blue\",\"blue\",\"blue\",\"blue\",\"blue\",\"blue\",\"blue\",\"blue\",\"blue\",\"blue\",\"blue\",\"blue\",\"blue\",\"blue\",\"blue\",\"blue\",\"blue\",\"blue\",\"blue\",\"blue\",\"blue\",\"blue\",\"blue\",\"blue\",\"blue\",\"blue\",\"blue\",\"blue\",\"blue\",\"blue\",\"blue\",\"blue\",\"blue\",\"blue\",\"blue\",\"blue\",\"blue\",\"blue\",\"blue\",\"blue\",\"blue\",\"blue\",\"blue\",\"blue\",\"blue\",\"blue\",\"blue\",\"blue\",\"blue\",\"blue\",\"blue\",\"blue\",\"blue\",\"blue\",\"blue\",\"blue\",\"blue\",\"blue\",\"blue\",\"blue\",\"blue\",\"blue\",\"blue\",\"blue\",\"blue\",\"blue\",\"blue\",\"blue\",\"blue\",\"blue\",\"blue\",\"blue\",\"blue\",\"blue\",\"blue\",\"blue\",\"blue\",\"blue\",\"blue\",\"blue\",\"blue\",\"blue\",\"blue\",\"blue\",\"blue\",\"blue\",\"blue\",\"blue\",\"blue\",\"blue\",\"blue\",\"blue\",\"blue\",\"blue\",\"blue\",\"blue\",\"blue\",\"blue\",\"blue\",\"blue\",\"blue\",\"blue\",\"blue\",\"blue\",\"blue\",\"blue\",\"blue\",\"blue\",\"blue\",\"blue\",\"blue\",\"blue\",\"blue\",\"blue\",\"blue\",\"blue\",\"blue\",\"blue\",\"blue\",\"blue\",\"blue\",\"blue\",\"blue\",\"blue\",\"blue\",\"blue\",\"blue\",\"blue\",\"blue\",\"blue\",\"blue\",\"blue\",\"blue\",\"blue\",\"blue\",\"blue\",\"blue\",\"blue\",\"blue\",\"blue\",\"blue\",\"blue\",\"blue\",\"blue\",\"blue\",\"blue\",\"blue\",\"blue\",\"blue\",\"blue\",\"blue\",\"blue\",\"blue\",\"blue\",\"blue\",\"blue\",\"blue\",\"blue\",\"blue\",\"blue\",\"blue\",\"blue\",\"blue\",\"blue\",\"blue\",\"blue\",\"blue\",\"blue\",\"blue\",\"blue\",\"blue\",\"blue\",\"blue\",\"blue\",\"blue\",\"blue\",\"blue\",\"blue\",\"blue\",\"blue\",\"blue\",\"blue\",\"blue\",\"blue\",\"blue\",\"blue\",\"blue\",\"blue\",\"blue\",\"blue\",\"blue\",\"blue\",\"blue\",\"blue\",\"blue\",\"blue\",\"blue\",\"blue\",\"blue\",\"blue\",\"blue\",\"blue\",\"blue\",\"blue\",\"blue\",\"blue\",\"blue\",\"blue\",\"blue\",\"blue\",\"blue\",\"blue\",\"blue\",\"blue\",\"blue\",\"blue\",\"blue\",\"blue\",\"blue\",\"blue\",\"blue\",\"blue\",\"blue\",\"blue\",\"blue\",\"blue\",\"blue\",\"blue\",\"blue\",\"blue\",\"blue\",\"blue\",\"blue\",\"blue\",\"blue\",\"blue\",\"blue\",\"blue\",\"blue\",\"blue\",\"blue\",\"blue\",\"blue\",\"blue\",\"blue\",\"blue\",\"blue\",\"blue\",\"blue\",\"blue\",\"blue\",\"blue\",\"blue\",\"blue\",\"blue\",\"blue\",\"blue\",\"blue\",\"blue\",\"blue\",\"blue\",\"blue\",\"blue\",\"blue\",\"blue\",\"blue\",\"blue\",\"blue\",\"blue\",\"blue\",\"blue\",\"blue\",\"blue\",\"blue\",\"blue\",\"blue\",\"blue\",\"blue\",\"blue\",\"blue\",\"blue\",\"blue\",\"blue\",\"blue\",\"blue\",\"blue\",\"blue\",\"blue\",\"blue\",\"blue\",\"blue\",\"blue\",\"blue\",\"blue\",\"blue\",\"blue\",\"blue\",\"blue\",\"blue\",\"blue\",\"blue\",\"blue\",\"blue\",\"blue\",\"blue\",\"blue\",\"blue\",\"blue\",\"blue\",\"blue\",\"blue\",\"blue\",\"blue\",\"blue\",\"blue\",\"blue\",\"blue\",\"blue\",\"blue\",\"blue\",\"blue\",\"blue\",\"blue\",\"blue\",\"blue\",\"blue\",\"blue\",\"blue\",\"blue\",\"blue\",\"blue\",\"blue\",\"blue\",\"blue\",\"blue\",\"blue\",\"blue\",\"blue\",\"blue\",\"blue\",\"blue\",\"blue\",\"blue\",\"blue\",\"blue\",\"blue\",\"blue\",\"blue\",\"blue\",\"blue\",\"blue\",\"blue\",\"blue\",\"blue\",\"blue\",\"blue\",\"blue\",\"blue\",\"blue\",\"blue\",\"blue\",\"blue\",\"blue\",\"blue\",\"blue\",\"blue\",\"blue\",\"blue\",\"blue\",\"blue\",\"blue\",\"blue\",\"blue\",\"blue\",\"blue\",\"blue\",\"blue\",\"blue\",\"blue\",\"blue\",\"blue\",\"blue\",\"blue\",\"blue\",\"blue\",\"blue\",\"blue\",\"blue\",\"blue\",\"blue\",\"blue\",\"blue\",\"blue\",\"blue\",\"blue\",\"blue\",\"blue\",\"blue\",\"blue\",\"blue\",\"blue\",\"blue\",\"blue\",\"blue\",\"blue\",\"blue\",\"blue\",\"blue\",\"blue\",\"blue\",\"blue\",\"blue\",\"blue\",\"blue\",\"blue\",\"blue\",\"blue\",\"blue\",\"blue\",\"blue\",\"blue\",\"blue\",\"blue\",\"blue\",\"blue\",\"blue\",\"blue\",\"blue\",\"blue\",\"blue\",\"blue\",\"blue\",\"blue\",\"blue\",\"blue\",\"blue\",\"blue\",\"blue\",\"blue\",\"blue\",\"blue\",\"blue\",\"blue\",\"blue\",\"blue\",\"blue\",\"blue\",\"blue\",\"blue\",\"blue\",\"blue\",\"blue\",\"blue\",\"blue\",\"blue\",\"blue\",\"blue\",\"blue\",\"blue\",\"blue\",\"blue\",\"blue\",\"blue\",\"blue\",\"blue\",\"blue\",\"blue\",\"blue\",\"blue\",\"blue\",\"blue\",\"blue\",\"blue\",\"blue\",\"blue\",\"blue\",\"blue\",\"blue\",\"blue\",\"blue\",\"blue\",\"blue\",\"blue\",\"blue\",\"blue\",\"blue\",\"blue\",\"blue\",\"blue\",\"blue\",\"blue\",\"blue\",\"blue\",\"blue\",\"blue\",\"blue\",\"blue\",\"blue\",\"blue\",\"blue\",\"blue\",\"blue\",\"blue\",\"blue\",\"blue\",\"blue\",\"blue\",\"blue\",\"blue\",\"blue\",\"blue\",\"blue\",\"blue\",\"blue\",\"blue\",\"blue\",\"blue\",\"blue\",\"blue\",\"blue\",\"blue\",\"blue\",\"blue\",\"blue\",\"blue\",\"blue\",\"blue\",\"blue\",\"blue\",\"blue\",\"blue\",\"blue\",\"blue\",\"blue\",\"blue\",\"blue\",\"blue\",\"blue\",\"blue\",\"blue\",\"blue\",\"blue\",\"blue\",\"blue\",\"blue\",\"blue\",\"blue\",\"blue\",\"blue\",\"blue\",\"blue\",\"blue\",\"blue\",\"blue\",\"blue\",\"blue\",\"blue\",\"blue\",\"blue\",\"blue\",\"blue\",\"blue\",\"blue\",\"blue\",\"blue\",\"blue\",\"blue\",\"blue\",\"blue\",\"blue\",\"blue\",\"blue\",\"blue\",\"blue\",\"blue\",\"blue\",\"blue\",\"blue\",\"blue\",\"blue\",\"blue\",\"blue\",\"blue\",\"blue\",\"blue\",\"blue\",\"blue\",\"blue\",\"blue\",\"blue\",\"blue\",\"blue\",\"blue\",\"blue\",\"blue\",\"blue\",\"blue\",\"blue\",\"blue\",\"blue\",\"blue\",\"blue\",\"blue\",\"blue\",\"blue\",\"blue\",\"blue\",\"blue\",\"blue\",\"blue\",\"blue\",\"blue\",\"blue\",\"blue\",\"blue\",\"blue\",\"blue\",\"blue\",\"blue\",\"blue\",\"blue\",\"blue\",\"blue\",\"blue\",\"blue\",\"blue\",\"blue\",\"blue\",\"blue\",\"blue\",\"blue\",\"blue\",\"blue\",\"blue\",\"blue\",\"blue\",\"blue\",\"blue\",\"blue\",\"blue\",\"blue\",\"blue\",\"blue\",\"blue\",\"blue\",\"blue\",\"blue\",\"blue\",\"blue\",\"blue\",\"blue\",\"blue\",\"blue\",\"blue\",\"blue\",\"blue\",\"blue\",\"blue\",\"blue\",\"blue\",\"blue\",\"blue\",\"blue\",\"blue\",\"blue\",\"blue\",\"blue\",\"blue\",\"blue\",\"blue\",\"blue\",\"blue\",\"blue\",\"blue\",\"blue\",\"blue\",\"blue\",\"blue\",\"blue\",\"blue\",\"blue\",\"blue\",\"blue\",\"blue\",\"blue\",\"blue\",\"blue\",\"blue\",\"blue\",\"blue\",\"blue\",\"blue\",\"blue\",\"blue\",\"blue\",\"blue\",\"blue\",\"blue\",\"blue\",\"blue\",\"blue\",\"blue\",\"blue\",\"blue\",\"blue\",\"blue\",\"blue\",\"blue\",\"blue\",\"blue\",\"blue\",\"blue\",\"blue\",\"blue\",\"blue\",\"blue\",\"blue\",\"blue\",\"blue\",\"blue\",\"blue\",\"blue\",\"blue\",\"blue\",\"blue\",\"blue\",\"blue\",\"blue\",\"blue\",\"blue\",\"blue\",\"blue\",\"blue\",\"blue\",\"blue\",\"blue\",\"blue\",\"blue\",\"blue\",\"blue\",\"blue\",\"blue\",\"blue\",\"blue\",\"blue\",\"blue\",\"blue\",\"blue\",\"blue\",\"blue\",\"blue\",\"blue\",\"blue\",\"blue\",\"blue\",\"blue\",\"blue\",\"blue\",\"blue\",\"blue\",\"blue\",\"blue\",\"blue\",\"blue\",\"blue\",\"blue\",\"blue\",\"blue\",\"blue\",\"blue\",\"blue\",\"blue\",\"blue\",\"blue\",\"blue\",\"blue\",\"blue\",\"blue\",\"blue\",\"blue\",\"blue\",\"blue\",\"blue\",\"blue\",\"blue\",\"blue\",\"blue\",\"blue\",\"blue\",\"blue\",\"blue\",\"blue\",\"blue\",\"blue\",\"blue\",\"blue\",\"blue\",\"blue\",\"blue\",\"blue\",\"blue\",\"blue\",\"blue\",\"blue\",\"blue\",\"blue\",\"blue\",\"blue\",\"blue\",\"blue\",\"blue\",\"blue\",\"blue\",\"blue\",\"blue\",\"blue\",\"blue\",\"blue\",\"blue\",\"blue\",\"blue\",\"blue\",\"blue\",\"blue\",\"blue\",\"blue\",\"blue\",\"blue\",\"blue\",\"blue\",\"blue\",\"blue\",\"blue\",\"blue\",\"blue\",\"blue\",\"blue\",\"blue\",\"blue\",\"blue\",\"blue\",\"blue\",\"blue\",\"blue\",\"blue\",\"blue\",\"blue\",\"blue\",\"blue\",\"blue\",\"blue\",\"blue\",\"blue\",\"blue\",\"blue\",\"blue\",\"blue\",\"blue\",\"blue\",\"blue\",\"blue\",\"blue\",\"blue\",\"blue\",\"blue\",\"blue\",\"blue\",\"blue\",\"blue\",\"blue\",\"blue\",\"blue\",\"blue\",\"blue\",\"blue\",\"blue\",\"blue\",\"blue\",\"blue\",\"blue\",\"blue\",\"blue\",\"blue\",\"blue\",\"blue\",\"blue\",\"blue\",\"blue\",\"blue\",\"blue\",\"blue\",\"blue\",\"blue\",\"blue\",\"blue\",\"blue\",\"blue\",\"blue\",\"blue\",\"blue\",\"blue\",\"blue\",\"blue\",\"blue\",\"blue\",\"blue\",\"blue\",\"blue\",\"blue\",\"blue\",\"blue\",\"blue\",\"blue\",\"blue\",\"blue\",\"blue\",\"blue\",\"blue\",\"blue\",\"blue\",\"blue\",\"blue\",\"blue\",\"blue\",\"blue\",\"blue\",\"blue\",\"blue\",\"blue\",\"blue\",\"blue\",\"blue\",\"blue\",\"blue\",\"blue\",\"blue\",\"blue\",\"blue\",\"blue\",\"blue\",\"blue\",\"blue\",\"blue\",\"blue\",\"blue\",\"blue\",\"blue\",\"blue\",\"blue\",\"blue\",\"blue\",\"blue\",\"blue\",\"blue\",\"blue\",\"blue\",\"blue\",\"blue\",\"blue\",\"blue\",\"blue\",\"blue\",\"blue\",\"blue\",\"blue\",\"blue\",\"blue\",\"blue\",\"blue\",\"blue\",\"blue\",\"blue\",\"blue\",\"blue\",\"blue\",\"blue\",\"blue\",\"blue\",\"blue\",\"blue\",\"blue\",\"blue\",\"blue\",\"blue\",\"blue\",\"blue\",\"blue\",\"blue\",\"blue\",\"blue\",\"blue\",\"blue\",\"blue\",\"blue\",\"blue\",\"blue\",\"blue\",\"blue\",\"blue\",\"blue\",\"blue\",\"blue\",\"blue\",\"blue\",\"blue\",\"blue\",\"blue\",\"blue\",\"blue\",\"blue\",\"blue\",\"blue\",\"blue\",\"blue\",\"blue\",\"blue\",\"blue\",\"blue\",\"blue\",\"blue\",\"blue\",\"blue\",\"blue\",\"blue\",\"blue\",\"blue\",\"blue\",\"blue\",\"blue\",\"blue\",\"blue\",\"blue\",\"blue\",\"blue\",\"blue\",\"blue\",\"blue\",\"blue\",\"blue\",\"blue\",\"blue\",\"blue\",\"blue\",\"blue\",\"blue\",\"blue\",\"blue\",\"blue\",\"blue\",\"blue\",\"blue\",\"blue\",\"blue\",\"blue\",\"blue\",\"blue\",\"blue\",\"blue\",\"blue\",\"blue\",\"blue\",\"blue\",\"blue\",\"blue\",\"blue\",\"blue\",\"blue\",\"blue\",\"blue\",\"blue\",\"blue\",\"blue\",\"blue\",\"blue\",\"blue\",\"blue\",\"blue\",\"blue\",\"blue\",\"blue\",\"blue\",\"blue\",\"blue\",\"blue\",\"blue\",\"blue\",\"blue\",\"blue\",\"blue\",\"blue\",\"blue\",\"blue\",\"blue\",\"blue\",\"blue\",\"blue\",\"blue\",\"blue\",\"blue\",\"blue\",\"blue\",\"blue\",\"blue\",\"blue\",\"blue\",\"blue\",\"blue\",\"blue\",\"blue\",\"blue\",\"blue\",\"blue\",\"blue\",\"blue\",\"blue\",\"blue\",\"blue\",\"blue\",\"blue\",\"blue\",\"blue\",\"blue\",\"blue\",\"blue\",\"blue\",\"blue\",\"blue\",\"blue\",\"blue\",\"blue\",\"blue\",\"blue\",\"blue\",\"blue\",\"blue\",\"blue\",\"blue\",\"blue\",\"blue\",\"blue\",\"blue\",\"blue\",\"blue\",\"blue\",\"blue\",\"blue\",\"blue\",\"blue\",\"blue\",\"blue\",\"blue\",\"blue\",\"blue\",\"blue\",\"blue\",\"blue\",\"blue\",\"blue\",\"blue\",\"blue\",\"blue\",\"blue\",\"blue\",\"blue\",\"blue\",\"blue\",\"blue\",\"blue\",\"blue\",\"blue\",\"blue\",\"blue\",\"blue\",\"blue\",\"blue\",\"blue\",\"blue\",\"blue\",\"blue\",\"blue\",\"blue\",\"blue\",\"blue\",\"blue\",\"blue\",\"blue\",\"blue\",\"blue\",\"blue\",\"blue\",\"blue\",\"blue\",\"blue\",\"blue\",\"blue\",\"blue\",\"blue\",\"blue\",\"blue\",\"blue\",\"blue\",\"blue\",\"blue\",\"blue\",\"blue\",\"blue\",\"blue\",\"blue\",\"blue\",\"blue\",\"blue\",\"blue\",\"blue\",\"blue\",\"blue\",\"blue\",\"blue\",\"blue\",\"blue\",\"blue\",\"blue\",\"blue\",\"blue\",\"blue\",\"blue\",\"blue\",\"blue\",\"blue\",\"blue\",\"blue\",\"blue\",\"blue\",\"blue\",\"blue\",\"blue\",\"blue\",\"blue\",\"blue\",\"blue\",\"blue\",\"blue\",\"blue\",\"blue\",\"blue\",\"blue\",\"blue\",\"blue\",\"blue\",\"blue\",\"blue\",\"blue\",\"blue\",\"blue\",\"blue\",\"blue\",\"blue\",\"blue\",\"blue\",\"blue\",\"blue\",\"blue\",\"blue\",\"blue\",\"blue\",\"blue\",\"blue\",\"blue\",\"blue\",\"blue\",\"blue\",\"blue\",\"blue\",\"blue\",\"blue\",\"blue\",\"blue\",\"blue\",\"blue\",\"blue\",\"blue\",\"blue\",\"blue\",\"blue\",\"blue\",\"blue\",\"blue\",\"blue\",\"blue\",\"blue\",\"blue\",\"blue\",\"blue\",\"blue\",\"blue\",\"blue\",\"blue\",\"blue\",\"blue\",\"blue\",\"blue\",\"blue\",\"blue\",\"blue\",\"blue\",\"blue\",\"blue\",\"blue\",\"blue\",\"blue\",\"blue\",\"blue\",\"blue\",\"blue\",\"blue\",\"blue\",\"blue\",\"blue\",\"blue\",\"blue\",\"blue\",\"blue\",\"blue\",\"blue\",\"blue\",\"blue\",\"blue\",\"blue\",\"blue\",\"blue\",\"blue\",\"blue\",\"blue\",\"blue\",\"blue\",\"blue\",\"blue\",\"blue\",\"blue\",\"blue\",\"blue\",\"blue\",\"blue\",\"blue\",\"blue\",\"blue\",\"blue\",\"blue\",\"blue\",\"blue\",\"blue\",\"blue\",\"blue\",\"blue\",\"blue\",\"blue\",\"blue\",\"blue\",\"blue\",\"blue\",\"blue\",\"blue\",\"blue\",\"blue\",\"blue\",\"blue\",\"blue\",\"blue\",\"blue\",\"blue\",\"blue\",\"blue\",\"blue\",\"blue\",\"blue\",\"blue\",\"blue\",\"blue\",\"blue\",\"blue\",\"blue\",\"blue\",\"blue\",\"blue\",\"blue\",\"blue\",\"blue\",\"blue\",\"blue\",\"blue\",\"blue\",\"blue\",\"blue\",\"blue\",\"blue\",\"blue\",\"blue\",\"blue\",\"blue\",\"blue\",\"blue\",\"blue\",\"blue\",\"blue\",\"blue\",\"blue\",\"blue\",\"blue\",\"blue\",\"blue\",\"blue\",\"blue\",\"blue\",\"blue\",\"blue\",\"blue\",\"blue\",\"blue\",\"blue\",\"blue\",\"blue\",\"blue\",\"blue\",\"blue\",\"blue\",\"blue\",\"blue\",\"blue\",\"blue\",\"blue\",\"blue\",\"blue\",\"blue\",\"blue\",\"blue\",\"blue\",\"blue\",\"blue\",\"blue\",\"blue\",\"blue\",\"blue\",\"blue\",\"blue\",\"blue\",\"blue\",\"blue\",\"blue\",\"blue\",\"blue\",\"blue\",\"blue\",\"blue\",\"blue\",\"blue\",\"blue\",\"blue\",\"blue\",\"blue\",\"blue\",\"blue\",\"blue\",\"blue\",\"blue\",\"blue\",\"blue\",\"blue\",\"blue\",\"blue\",\"blue\",\"blue\",\"blue\",\"blue\",\"blue\",\"blue\",\"blue\",\"blue\",\"blue\",\"blue\",\"blue\",\"blue\",\"blue\",\"blue\",\"blue\",\"blue\",\"blue\",\"blue\",\"blue\",\"blue\",\"blue\",\"blue\",\"blue\",\"blue\",\"blue\",\"blue\",\"blue\",\"blue\",\"blue\",\"blue\",\"blue\",\"blue\",\"blue\",\"blue\",\"blue\",\"blue\",\"blue\",\"blue\",\"blue\",\"blue\",\"blue\",\"blue\",\"blue\",\"blue\",\"blue\",\"blue\",\"blue\",\"blue\",\"blue\",\"blue\",\"blue\",\"blue\",\"blue\",\"blue\",\"blue\",\"blue\",\"blue\",\"blue\",\"blue\",\"blue\",\"blue\",\"blue\",\"blue\",\"blue\",\"blue\",\"blue\",\"blue\",\"blue\",\"blue\",\"blue\",\"blue\",\"blue\",\"blue\",\"blue\",\"blue\",\"blue\",\"blue\",\"blue\",\"blue\",\"blue\",\"blue\",\"blue\",\"blue\",\"blue\",\"blue\",\"blue\",\"blue\",\"blue\",\"blue\",\"blue\",\"blue\",\"blue\",\"blue\",\"blue\",\"blue\",\"blue\",\"blue\",\"blue\",\"blue\",\"blue\",\"blue\",\"blue\",\"blue\",\"blue\",\"blue\",\"blue\",\"blue\",\"blue\",\"blue\",\"blue\",\"blue\",\"blue\",\"blue\",\"blue\",\"blue\",\"blue\",\"blue\",\"blue\",\"blue\",\"blue\",\"blue\",\"blue\",\"blue\",\"blue\",\"blue\",\"blue\",\"blue\",\"blue\",\"blue\",\"blue\",\"blue\",\"blue\",\"blue\",\"blue\",\"blue\",\"blue\",\"blue\",\"blue\",\"blue\",\"blue\",\"blue\",\"blue\",\"blue\",\"blue\",\"blue\",\"blue\",\"blue\",\"blue\",\"blue\",\"blue\",\"blue\",\"blue\",\"blue\",\"blue\",\"blue\",\"blue\",\"blue\",\"blue\",\"blue\",\"blue\",\"blue\",\"blue\",\"blue\",\"blue\",\"blue\",\"blue\",\"blue\",\"blue\",\"blue\",\"blue\",\"blue\",\"blue\",\"blue\",\"blue\",\"blue\",\"blue\",\"blue\",\"blue\",\"blue\",\"blue\",\"blue\",\"blue\",\"blue\",\"blue\",\"blue\",\"blue\",\"blue\",\"blue\",\"blue\",\"blue\",\"blue\",\"blue\",\"blue\",\"blue\",\"blue\",\"blue\",\"blue\",\"blue\",\"blue\",\"blue\",\"blue\",\"blue\",\"blue\",\"blue\",\"blue\",\"blue\",\"blue\",\"blue\",\"blue\",\"blue\",\"blue\",\"blue\",\"blue\",\"blue\",\"blue\",\"blue\",\"blue\",\"blue\",\"blue\",\"blue\",\"blue\",\"blue\",\"blue\",\"blue\",\"blue\",\"blue\",\"blue\",\"blue\",\"blue\",\"blue\",\"blue\",\"blue\",\"blue\",\"blue\",\"blue\",\"blue\",\"blue\",\"blue\",\"blue\",\"blue\",\"blue\",\"blue\",\"blue\",\"blue\",\"blue\",\"blue\",\"blue\",\"blue\",\"blue\",\"blue\",\"blue\",\"blue\",\"blue\",\"blue\",\"blue\",\"blue\",\"blue\",\"blue\",\"blue\",\"blue\",\"blue\",\"blue\",\"blue\",\"blue\",\"blue\",\"blue\",\"blue\",\"blue\",\"blue\",\"blue\",\"blue\",\"blue\",\"blue\",\"blue\",\"blue\",\"blue\",\"blue\",\"blue\",\"blue\",\"blue\",\"blue\",\"blue\",\"blue\",\"blue\",\"blue\",\"blue\",\"blue\",\"blue\",\"blue\",\"blue\",\"blue\",\"blue\",\"blue\",\"blue\",\"blue\",\"blue\",\"blue\",\"blue\",\"blue\",\"blue\",\"blue\",\"blue\",\"blue\",\"blue\",\"blue\",\"blue\",\"blue\",\"blue\",\"blue\",\"blue\",\"blue\",\"blue\",\"blue\",\"blue\",\"blue\",\"blue\",\"blue\",\"blue\",\"blue\",\"blue\",\"blue\",\"blue\",\"blue\",\"blue\",\"blue\",\"blue\",\"blue\",\"blue\",\"blue\",\"blue\",\"blue\",\"blue\",\"blue\",\"blue\",\"blue\",\"blue\",\"blue\",\"blue\",\"blue\",\"blue\",\"blue\",\"blue\",\"blue\",\"blue\",\"blue\",\"blue\",\"blue\",\"blue\",\"blue\",\"blue\",\"blue\",\"blue\",\"blue\",\"blue\",\"blue\",\"blue\",\"blue\",\"blue\",\"blue\",\"blue\",\"blue\",\"blue\",\"blue\",\"blue\",\"blue\",\"blue\",\"blue\",\"blue\",\"blue\",\"blue\",\"blue\",\"blue\",\"blue\",\"blue\",\"blue\",\"blue\",\"blue\",\"blue\",\"blue\",\"blue\",\"blue\",\"blue\",\"blue\",\"blue\",\"blue\",\"blue\",\"blue\",\"blue\",\"blue\",\"blue\",\"blue\",\"blue\",\"blue\",\"blue\",\"blue\",\"blue\",\"blue\",\"blue\",\"blue\",\"blue\",\"blue\",\"blue\",\"blue\",\"blue\",\"blue\",\"blue\",\"blue\",\"blue\",\"blue\",\"blue\",\"blue\",\"blue\",\"blue\",\"blue\",\"blue\",\"blue\",\"blue\",\"blue\",\"blue\",\"blue\",\"blue\",\"blue\",\"blue\",\"blue\",\"blue\",\"blue\",\"blue\",\"blue\",\"blue\",\"blue\",\"blue\",\"blue\",\"blue\",\"blue\",\"blue\",\"blue\",\"blue\",\"blue\",\"blue\",\"blue\",\"blue\",\"blue\",\"blue\",\"blue\",\"blue\",\"blue\",\"blue\",\"blue\",\"blue\",\"blue\",\"blue\",\"blue\",\"blue\",\"blue\",\"blue\",\"blue\",\"blue\",\"blue\",\"blue\",\"blue\",\"blue\",\"blue\",\"blue\",\"blue\",\"blue\",\"blue\",\"blue\",\"blue\",\"blue\",\"blue\",\"blue\",\"blue\",\"blue\",\"blue\",\"blue\",\"blue\",\"blue\",\"blue\",\"blue\",\"blue\",\"blue\",\"blue\",\"blue\",\"blue\",\"blue\",\"blue\",\"blue\",\"blue\",\"blue\",\"blue\",\"blue\",\"blue\",\"blue\",\"blue\",\"blue\",\"blue\",\"blue\",\"blue\",\"blue\",\"blue\",\"blue\",\"blue\",\"blue\",\"blue\",\"blue\",\"blue\",\"blue\",\"blue\",\"blue\",\"blue\",\"blue\",\"blue\",\"blue\",\"blue\",\"blue\",\"blue\",\"blue\",\"blue\",\"blue\",\"blue\",\"blue\",\"blue\",\"blue\",\"blue\",\"blue\",\"blue\",\"blue\",\"blue\",\"blue\",\"blue\",\"blue\",\"blue\",\"blue\",\"blue\",\"blue\",\"blue\",\"blue\",\"blue\",\"blue\",\"blue\",\"blue\",\"blue\",\"blue\",\"blue\",\"blue\",\"blue\",\"blue\",\"blue\",\"blue\",\"blue\",\"blue\",\"blue\",\"blue\",\"blue\",\"blue\",\"blue\",\"blue\",\"blue\",\"blue\",\"blue\",\"blue\",\"blue\",\"blue\",\"blue\",\"blue\",\"blue\",\"blue\",\"blue\",\"blue\",\"blue\",\"blue\",\"blue\",\"blue\",\"blue\",\"blue\",\"blue\",\"blue\",\"blue\",\"blue\",\"blue\",\"blue\",\"blue\",\"blue\",\"blue\",\"blue\",\"blue\",\"blue\",\"blue\",\"blue\",\"blue\",\"blue\",\"blue\",\"blue\",\"blue\",\"blue\",\"blue\",\"blue\",\"blue\"]],[\"token\",[\"verified\",\"2gb\",\"illinois\",\"jazz\",\"checking\",\"telescope\",\"seasons\",\"astrologer\",\"contribution\",\"homemade\",\"heroes\",\"warcraft\",\"kumar\",\"tester\",\"politically\",\"conquer\",\"columbia\",\"quiet\",\"repeat\",\"kapil\",\"involve\",\"mckinsey\",\"switched\",\"att\",\"instance\",\"innocent\",\"portuguese\",\"subscribers\",\"cabinet\",\"terror\",\"85\",\"rotation\",\"shirts\",\"drawn\",\"bi\",\"aspergers\",\"inspiration\",\"beats\",\"\\u00a3\",\"approximately\",\"asset\",\"empathy\",\"rooting\",\"ia\",\"dandruff\",\"slab\",\"operator\",\"horrible\",\"dominant\",\"ocd\",\"spacetime\",\"blow\",\"installing\",\"learnt\",\"separation\",\"institution\",\"temples\",\"hons\",\"pound\",\"removing\",\"unemployment\",\"greenlit\",\"audit\",\"supplement\",\"roller\",\"dota\",\"tiny\",\"equally\",\"braces\",\"aggressive\",\"corn\",\"camps\",\"additional\",\"consent\",\"granted\",\"welfare\",\"myths\",\"stations\",\"timeline\",\"psychologist\",\"nagpur\",\"herself\",\"cooper\",\"exgirlfriend\",\"intercourse\",\"flip\",\"hurts\",\"lpa\",\"nerve\",\"tvs\",\"halloween\",\"screenshot\",\"biomedical\",\"covered\",\"milky\",\"onsite\",\"aside\",\"meaningful\",\"stretch\",\"joker\",\"encounter\",\"tone\",\"founders\",\"talked\",\"respectively\",\"downloads\",\"cocaine\",\"toxic\",\"sword\",\"fuck\",\"trainer\",\"partition\",\"boxing\",\"grid\",\"practicing\",\"menu\",\"cms\",\"indore\",\"ate\",\"volunteer\",\"misconceptions\",\"pics\",\"flies\",\"instantly\",\"trans\",\"friday\",\"sociopaths\",\"ctc\",\"hoax\",\"detailed\",\"sizes\",\"rejection\",\"limitations\",\"bharat\",\"kissing\",\"renewable\",\"oriented\",\"countrys\",\"dumps\",\"spiders\",\"technological\",\"advertisement\",\"headache\",\"zodiac\",\"accommodation\",\"venus\",\"calcium\",\"passenger\",\"falls\",\"overnight\",\"pickup\",\"gary\",\"transportation\",\"odds\",\"jupiter\",\"purchasing\",\"fluently\",\"flu\",\"photons\",\"conductor\",\"ohio\",\"balaji\",\"mcdonalds\",\"betting\",\"irrational\",\"sachin\",\"deactivate\",\"estimate\",\"hairs\",\"fluent\",\"errors\",\"remaining\",\"marriages\",\"medieval\",\"charles\",\"spider\",\"oxford\",\"gita\",\"races\",\"liquor\",\"poland\",\"lease\",\"co2\",\"selenium\",\"attempts\",\"crystal\",\"manaphy\",\"knight\",\"collapsed\",\"wheels\",\"behaviour\",\"bitcoins\",\"parliament\",\"himher\",\"handsome\",\"thousands\",\"caring\",\"kings\",\"lucky\",\"workplace\",\"condom\",\"intuitive\",\"chronic\",\"eyesight\",\"simulation\",\"prank\",\"quickest\",\"concert\",\"popularity\",\"connections\",\"disorders\",\"scripting\",\"appearance\",\"js\",\"depth\",\"cheque\",\"longterm\",\"documentaries\",\"dioxide\",\"bright\",\"info\",\"diseases\",\"appeal\",\"snap\",\"smoked\",\"singers\",\"boil\",\"probably\",\"temperatures\",\"appearing\",\"olive\",\"ntse\",\"telecom\",\"brief\",\"discrimination\",\"ethnic\",\"cache\",\"passionate\",\"shoulder\",\"assault\",\"marshmallow\",\"momentum\",\"yr\",\"migrate\",\"retire\",\"cet\",\"canvas\",\"vietnamese\",\"institutions\",\"meter\",\"roots\",\"integer\",\"imported\",\"ants\",\"lyft\",\"piercing\",\"il\",\"poop\",\"organisms\",\"ve\",\"entropy\",\"calm\",\"saddest\",\"toward\",\"myth\",\"sight\",\"filling\",\"hdmi\",\"satisfied\",\"transactions\",\"pharmacy\",\"nursing\",\"correlation\",\"regression\",\"awake\",\"md\",\"nri\",\"recommendations\",\"bin\",\"finland\",\"multi\",\"voted\",\"discovery\",\"edward\",\"touching\",\"immigrant\",\"geometry\",\"indicate\",\"ourselves\",\"texting\",\"seek\",\"expecting\",\"dj\",\"brake\",\"helicopter\",\"blonde\",\"triple\",\"ladies\",\"vivekananda\",\"switching\",\"prostitution\",\"banana\",\"magazines\",\"shippuden\",\"lucknow\",\"2019\",\"failing\",\"elizabeth\",\"irish\",\"ebook\",\"temporary\",\"governor\",\"wasting\",\"weekends\",\"cpt\",\"wax\",\"labor\",\"instruments\",\"instrumentation\",\"hates\",\"hip\",\"arnab\",\"bubble\",\"employers\",\"aadhaar\",\"boyfriends\",\"jake\",\"explained\",\"yesterday\",\"beta\",\"extrovert\",\"andhra\",\"micromax\",\"vertical\",\"lay\",\"nonprofit\",\"dubbed\",\"typing\",\"automotive\",\"thomas\",\"procedures\",\"priority\",\"funded\",\"arabs\",\"siblings\",\"guinea\",\"missile\",\"luck\",\"strategic\",\"defend\",\"module\",\"tuition\",\"acids\",\"controller\",\"committee\",\"housing\",\"integral\",\"peaceful\",\"refugees\",\"prescription\",\"interns\",\"supported\",\"womans\",\"dentist\",\"wives\",\"village\",\"affecting\",\"lte\",\"beaches\",\"austin\",\"substance\",\"engagement\",\"trainee\",\"measures\",\"trailer\",\"purchased\",\"15000\",\"uttar\",\"glue\",\"dtu\",\"medal\",\"photon\",\"engg\",\"violin\",\"column\",\"somehow\",\"rotate\",\"3000\",\"virat\",\"forgotten\",\"fingers\",\"slim\",\"arrest\",\"covalent\",\"ncert\",\"kernel\",\"da\",\"alarm\",\"ngo\",\"4gb\",\"productivity\",\"planned\",\"district\",\"berlin\",\"lists\",\"leads\",\"slang\",\"defence\",\"aspiring\",\"56\",\"enemy\",\"farming\",\"muller\",\"pays\",\"liver\",\"membrane\",\"secretly\",\"plug\",\"gum\",\"eclipse\",\"chewing\",\"labs\",\"zombie\",\"authority\",\"males\",\"argentina\",\"tasks\",\"fell\",\"nails\",\"palestine\",\"tanks\",\"identical\",\"deck\",\"qualification\",\"leadership\",\"kohli\",\"pronunciation\",\"hello\",\"violent\",\"sabha\",\"respiration\",\"transform\",\"warranty\",\"faculty\",\"adolf\",\"expenses\",\"jersey\",\"mercury\",\"whiskey\",\"tackle\",\"tweet\",\"blame\",\"cruise\",\"mahindra\",\"discharge\",\"reduced\",\"vodka\",\"mahatma\",\"bass\",\"compete\",\"stains\",\"pill\",\"swim\",\"ali\",\"gf\",\"ford\",\"prince\",\"sweat\",\"performing\",\"limits\",\"leonardo\",\"cow\",\"resolve\",\"matters\",\"pharmaceutical\",\"ray\",\"remotely\",\"pf\",\"clinical\",\"bpo\",\"homeless\",\"husbands\",\"rising\",\"newtons\",\"outcome\",\"derivative\",\"alpha\",\"grown\",\"capitalism\",\"astronaut\",\"hybrid\",\"palm\",\"teens\",\"hits\",\"airplanes\",\"none\",\"admin\",\"applicable\",\"amcat\",\"spam\",\"neutrality\",\"pixel\",\"festival\",\"faces\",\"molar\",\"snakes\",\"sip\",\"kik\",\"farm\",\"ltd\",\"votes\",\"publishing\",\"comfort\",\"frontend\",\"spin\",\"diagnosed\",\"buildings\",\"\\u00b0\",\"cashless\",\"addictive\",\"extinct\",\"ugc\",\"coke\",\"llb\",\"phrases\",\"struggle\",\"drives\",\"fiber\",\"grocery\",\"achieved\",\"penny\",\"bath\",\"allies\",\"uninstall\",\"ny\",\"appears\",\"effort\",\"satellites\",\"confirmed\",\"loneliness\",\"illuminati\",\"uri\",\"lucid\",\"preferably\",\"neither\",\"\\u221a\",\"pacific\",\"americas\",\"bs\",\"graduated\",\"bills\",\"tube\",\"germans\",\"assume\",\"cleared\",\"mate\",\"divide\",\"versions\",\"fallen\",\"journey\",\"anthem\",\"certificates\",\"looked\",\"sponsor\",\"useless\",\"dependent\",\"invite\",\"guru\",\"keyword\",\"aipmt\",\"clone\",\"kgs\",\"chip\",\"origins\",\"wide\",\"motivational\",\"elite\",\"wanna\",\"unity\",\"cough\",\"connecting\",\"mystery\",\"kim\",\"syrian\",\"voldemort\",\"responsibilities\",\"molecules\",\"boobs\",\"holidays\",\"tutorial\",\"circumstances\",\"fiitjee\",\"islands\",\"bypass\",\"slowly\",\"mixture\",\"aluminum\",\"salesforce\",\"twin\",\"iot\",\"remedy\",\"sheets\",\"pole\",\"hated\",\"females\",\"protected\",\"irs\",\"insecure\",\"entering\",\"neuroscience\",\"offices\",\"delta\",\"suggestion\",\"snapdeal\",\"backstory\",\"periodic\",\"cancelled\",\"mans\",\"complicated\",\"bitsat\",\"pleasure\",\"loop\",\"dropbox\",\"selfish\",\"nude\",\"20000\",\"voter\",\"variables\",\"victory\",\"closest\",\"compensation\",\"extended\",\"locations\",\"cracked\",\"perks\",\"ended\",\"exit\",\"awareness\",\"pakistanis\",\"ebooks\",\"bull\",\"unblock\",\"100000\",\"entrepreneurship\",\"infrastructure\",\"scotland\",\"guest\",\"attacked\",\"hurting\",\"lion\",\"reject\",\"purposes\",\"knife\",\"thai\",\"ipl\",\"knee\",\"accepting\",\"spent\",\"punjabi\",\"tab\",\"quoras\",\"caffeine\",\"athletes\",\"ink\",\"cooked\",\"improving\",\"invaded\",\"allah\",\"thermodynamics\",\"mortgage\",\"firsttime\",\"achievements\",\"issued\",\"breath\",\"award\",\"llc\",\"legends\",\"mood\",\"influenced\",\"proteins\",\"holy\",\"performed\",\"pee\",\"blocks\",\"molecule\",\"interests\",\"imei\",\"requires\",\"cisco\",\"moves\",\"marrying\",\"mca\",\"perfectly\",\"iisc\",\"corporation\",\"shiva\",\"viruses\",\"difficulty\",\"50000\",\"volte\",\"shampoo\",\"secular\",\"transplant\",\"ghz\",\"ahead\",\"crew\",\"interact\",\"depend\",\"hawaii\",\"hiv\",\"evening\",\"vegetable\",\"revenge\",\"suppose\",\"busy\",\"label\",\"rogue\",\"rational\",\"hillstation\",\"brains\",\"urdu\",\"imagine\",\"salaries\",\"survey\",\"g4\",\"butt\",\"manufacturers\",\"saas\",\"residency\",\"recommendation\",\"purple\",\"fault\",\"aadhar\",\"aging\",\"bhopal\",\"conducted\",\"loses\",\"infection\",\"forest\",\"impacts\",\"collection\",\"fridge\",\"diamond\",\"mis\",\"recorded\",\"march\",\"conditioner\",\"signature\",\"listed\",\"branches\",\"manchester\",\"wanting\",\"perception\",\"absolutely\",\"servers\",\"soluble\",\"swami\",\"lumia\",\"directors\",\"52\",\"2008\",\"gaining\",\"stereotypes\",\"homes\",\"vegas\",\"jam\",\"behave\",\"relatively\",\"forum\",\"ib\",\"earphones\",\"facilities\",\"april\",\"finally\",\"tail\",\"capacitor\",\"tiger\",\"deaf\",\"deliver\",\"django\",\"expand\",\"skip\",\"nearly\",\"maybe\",\"task\",\"gateway\",\"strangest\",\"abstract\",\"adding\",\"suck\",\"tim\",\"printed\",\"sigma\",\"immigrate\",\"decline\",\"arrested\",\"95\",\"narcissistic\",\"freelancing\",\"patterns\",\"expired\",\"casual\",\"tablets\",\"patients\",\"lean\",\"pieces\",\"laymans\",\"whatever\",\"polish\",\"lemon\",\"abortion\",\"i3\",\"theorem\",\"h\",\"compulsory\",\"helped\",\"sons\",\"feminism\",\"compiler\",\"tested\",\"enhance\",\"adhd\",\"manhattan\",\"iii\",\"nail\",\"eee\",\"deals\",\"excellent\",\"ipo\",\"folder\",\"sand\",\"continuous\",\"capable\",\"libraries\",\"aggregate\",\"64\",\"bsnl\",\"profiles\",\"spirit\",\"pulled\",\"owns\",\"deloitte\",\"therapist\",\"acts\",\"millions\",\"authors\",\"marathi\",\"dvd\",\"coconut\",\"swiss\",\"interaction\",\"ncr\",\"kannada\",\"smallest\",\"advisable\",\"smartest\",\"sorry\",\"normally\",\"ends\",\"rome\",\"spectrum\",\"cousin\",\"75\",\"suzuki\",\"nights\",\"cap\",\"enable\",\"counselling\",\"proxy\",\"margin\",\"shops\",\"hackers\",\"tatkal\",\"opened\",\"cinema\",\"consumption\",\"coal\",\"silent\",\"choosing\",\"introduction\",\"electromagnetic\",\"hcl\",\"complaint\",\"puppies\",\"vc\",\"symbols\",\"lenses\",\"username\",\"arrow\",\"adopted\",\"affects\",\"sudden\",\"pcm\",\"gel\",\"affair\",\"pinterest\",\"statements\",\"supplements\",\"justified\",\"turns\",\"santa\",\"shoe\",\"trek\",\"headphone\",\"girlfriends\",\"verizon\",\"rocket\",\"conference\",\"ego\",\"srm\",\"afghanistan\",\"nucleus\",\"generated\",\"chinas\",\"ww1\",\"consultancy\",\"socially\",\"allen\",\"berkeley\",\"missed\",\"crying\",\"introduced\",\"ps3\",\"flour\",\"brought\",\"elder\",\"minecraft\",\"9th\",\"freelancer\",\"circles\",\"scars\",\"entertainment\",\"turbine\",\"deeply\",\"rom\",\"evolved\",\"nato\",\"strengths\",\"ide\",\"tweets\",\"scholarships\",\"mentor\",\"collect\",\"hdfc\",\"mandarin\",\"solo\",\"terrible\",\"influential\",\"professionals\",\"65\",\"recognition\",\"nvidia\",\"cia\",\"designs\",\"10k\",\"creation\",\"tom\",\"rated\",\"introverts\",\"boiling\",\"communism\",\"treaty\",\"whereas\",\"thanks\",\"cigarette\",\"bengaluru\",\"oneplus\",\"reserve\",\"advertise\",\"nits\",\"helping\",\"bruce\",\"mp3\",\"severe\",\"proposal\",\"cultures\",\"tap\",\"animated\",\"planes\",\"hall\",\"cognitive\",\"supports\",\"keys\",\"gotten\",\"feedback\",\"recording\",\"proceed\",\"membership\",\"console\",\"overseas\",\"hows\",\"william\",\"billionaires\",\"updated\",\"pre\",\"organizations\",\"messi\",\"unexpected\",\"nitrogen\",\"hungry\",\"nigeria\",\"sync\",\"arduino\",\"gross\",\"outer\",\"searching\",\"workers\",\"outlook\",\"europeans\",\"founder\",\"lectures\",\"legitimate\",\"camp\",\"ordinary\",\"investments\",\"bone\",\"raising\",\"quite\",\"ages\",\"joint\",\"johnson\",\"destination\",\"concerned\",\"belief\",\"refrigerator\",\"implications\",\"manga\",\"mandatory\",\"obamas\",\"lawyers\",\"bedroom\",\"icon\",\"qualifications\",\"qa\",\"bikes\",\"boston\",\"holding\",\"session\",\"appointment\",\"weaknesses\",\"iphones\",\"motorcycle\",\"schizophrenia\",\"5th\",\"intellectual\",\"eaten\",\"attending\",\"medals\",\"adsense\",\"nda\",\"6th\",\"kali\",\"georgia\",\"wechat\",\"earlier\",\"drone\",\"truck\",\"horse\",\"merchant\",\"torque\",\"seed\",\"backend\",\"holmes\",\"graduating\",\"400\",\"bones\",\"sufficient\",\"participate\",\"rifle\",\"shock\",\"downloaded\",\"earthquake\",\"breasts\",\"secretary\",\"insert\",\"damaged\",\"massive\",\"standing\",\"remainder\",\"programme\",\"holocaust\",\"totally\",\"belt\",\"affairs\",\"nokia\",\"mechanism\",\"pin\",\"scan\",\"fought\",\"superpower\",\"poetry\",\"signals\",\"educated\",\"scariest\",\"trains\",\"closer\",\"weapon\",\"icici\",\"serial\",\"bicycle\",\"terminal\",\"finished\",\"stolen\",\"inspiring\",\"cuisine\",\"spark\",\"sounds\",\"pricing\",\"click\",\"underwear\",\"kidney\",\"bengal\",\"invention\",\"discount\",\"chase\",\"evaluate\",\"distributed\",\"themes\",\"amd\",\"stem\",\"st\",\"genre\",\"vegetables\",\"council\",\"bihar\",\"thick\",\"mouse\",\"worry\",\"newly\",\"updates\",\"candy\",\"prepaid\",\"wet\",\"rap\",\"motors\",\"implemented\",\"theoretical\",\"fabric\",\"mexican\",\"portfolio\",\"technique\",\"icse\",\"expansion\",\"evolutionary\",\"justify\",\"trick\",\"attached\",\"lightning\",\"pitch\",\"armed\",\"einstein\",\"conversion\",\"iitjee\",\"declared\",\"admit\",\"acquisition\",\"innovation\",\"runs\",\"wwe\",\"trial\",\"memories\",\"refuse\",\"netherlands\",\"committed\",\"fraud\",\"jailbreak\",\"settle\",\"badly\",\"approved\",\"eligibility\",\"trend\",\"increases\",\"comic\",\"quorans\",\"cellular\",\"matches\",\"receiving\",\"bmw\",\"vlsi\",\"signed\",\"lakes\",\"350\",\"communications\",\"pork\",\"joined\",\"anyway\",\"differentiate\",\"actresses\",\"29\",\"ethics\",\"premier\",\"hearing\",\"vehicles\",\"drama\",\"instant\",\"lips\",\"dates\",\"july\",\"holiday\",\"coach\",\"malayalam\",\"superior\",\"soviet\",\"plate\",\"throw\",\"worship\",\"bars\",\"sharma\",\"mothers\",\"integrated\",\"clubs\",\"bug\",\"melbourne\",\"co\",\"bisexual\",\"regions\",\"lesson\",\"heads\",\"reader\",\"snake\",\"qualify\",\"paul\",\"causing\",\"disappear\",\"era\",\"lets\",\"qualified\",\"spiritual\",\"wolf\",\"requirement\",\"journalism\",\"studied\",\"lowest\",\"vader\",\"coursera\",\"stark\",\"configuration\",\"verbal\",\"undergrad\",\"dimensions\",\"transition\",\"efficiently\",\"interstellar\",\"locked\",\"summary\",\"chandigarh\",\"ghosts\",\"included\",\"operate\",\"dimension\",\"mount\",\"noticed\",\"rating\",\"somewhere\",\"martin\",\"bra\",\"bird\",\"zuckerberg\",\"sensor\",\"audience\",\"dirty\",\"starbucks\",\"permission\",\"residential\",\"wholesale\",\"assets\",\"clearly\",\"km\",\"invade\",\"ipcc\",\"fb\",\"shell\",\"shave\",\"loud\",\"tip\",\"seeds\",\"sets\",\"polar\",\"although\",\"june\",\"judaism\",\"anti\",\"instrument\",\"seven\",\"shooting\",\"j\",\"portal\",\"tower\",\"github\",\"linked\",\"admitted\",\"punishment\",\"mid\",\"micro\",\"cured\",\"lifestyle\",\"nor\",\"upset\",\"challenge\",\"soap\",\"standards\",\"integration\",\"lottery\",\"lab\",\"williams\",\"odd\",\"soil\",\"sensitive\",\"route\",\"tattoos\",\"coin\",\"declare\",\"frame\",\"differential\",\"bowl\",\"softwares\",\"notifications\",\"maintenance\",\"inner\",\"apples\",\"converted\",\"recruiter\",\"bombay\",\"command\",\"posting\",\"controlled\",\"balls\",\"personally\",\"poker\",\"extract\",\"hired\",\"bugs\",\"providers\",\"loans\",\"calculator\",\"attractions\",\"torrents\",\"keywords\",\"profession\",\"blogging\",\"transport\",\"sue\",\"anonymously\",\"compounds\",\"robot\",\"buddhism\",\"sweet\",\"defense\",\"nobody\",\"uc\",\"defined\",\"division\",\"bags\",\"epic\",\"unhealthy\",\"craziest\",\"urban\",\"combination\",\"pair\",\"laugh\",\"cv\",\"usd\",\"launched\",\"usps\",\"visited\",\"nexus\",\"regularly\",\"brothers\",\"broker\",\"concentrate\",\"agreement\",\"nervous\",\"frozen\",\"detail\",\"sir\",\"situations\",\"borderline\",\"angularjs\",\"abusive\",\"tourism\",\"relate\",\"august\",\"communist\",\"accountant\",\"dumb\",\"arab\",\"b2b\",\"du\",\"thermal\",\"asians\",\"threat\",\"karma\",\"passive\",\"homosexuality\",\"putting\",\"quantitative\",\"relativity\",\"sanskrit\",\"opinions\",\"verify\",\"bear\",\"roll\",\"expanding\",\"teenage\",\"jeans\",\"providing\",\"shared\",\"extreme\",\"mi\",\"vr\",\"progress\",\"greece\",\"cpu\",\"ips\",\"merge\",\"reputation\",\"loving\",\"salman\",\"iss\",\"warm\",\"dental\",\"extension\",\"attraction\",\"fictional\",\"journal\",\"login\",\"secondary\",\"recognize\",\"southern\",\"ph\",\"lunch\",\"wallet\",\"ronaldo\",\"larger\",\"actions\",\"fathers\",\"adopt\",\"claims\",\"bottom\",\"therapy\",\"patient\",\"described\",\"virginity\",\"functional\",\"ionic\",\"chartered\",\"discover\",\"55\",\"21st\",\"biased\",\"mad\",\"northern\",\"onto\",\"liberals\",\"premium\",\"neutral\",\"detect\",\"diagram\",\"sperm\",\"ga\",\"bleach\",\"spread\",\"contributions\",\"activate\",\"prior\",\"safest\",\"holder\",\"360\",\"aim\",\"rental\",\"families\",\"everybody\",\"shut\",\"payments\",\"150\",\"cube\",\"vegan\",\"newspaper\",\"beef\",\"houses\",\"preferred\",\"simultaneously\",\"marked\",\"reactions\",\"emergency\",\"protection\",\"cab\",\"forex\",\"norway\",\"immigrants\",\"googles\",\"ssb\",\"wing\",\"yrs\",\"ensure\",\"spy\",\"reasoning\",\"strange\",\"forgive\",\"turkish\",\"tag\",\"ranking\",\"platforms\",\"fox\",\"existed\",\"walmart\",\"lazy\",\"ears\",\"clock\",\"beam\",\"rare\",\"bush\",\"2011\",\"stops\",\"batteries\",\"certified\",\"naked\",\"worldwide\",\"staying\",\"lifetime\",\"ted\",\"lake\",\"wealthy\",\"transit\",\"stephen\",\"rural\",\"versa\",\"pets\",\"commonly\",\"adults\",\"ultimate\",\"genius\",\"vinegar\",\"allows\",\"aid\",\"retirement\",\"airtel\",\"sciences\",\"mountain\",\"drinks\",\"tour\",\"wind\",\"seattle\",\"disabled\",\"bodies\",\"lesbian\",\"governments\",\"kinetic\",\"tumblr\",\"absolute\",\"author\",\"toilet\",\"whey\",\"sleepy\",\"molecular\",\"watches\",\"inventions\",\"rain\",\"34\",\"angular\",\"o\",\"dish\",\"however\",\"agents\",\"abs\",\"switzerland\",\"transformer\",\"clearing\",\"consciousness\",\"broadband\",\"uae\",\"automatic\",\"opposed\",\"geography\",\"astronauts\",\"decisions\",\"cement\",\"induction\",\"luxury\",\"upvotes\",\"politicians\",\"posted\",\"toefl\",\"kitchen\",\"noise\",\"radius\",\"dye\",\"miles\",\"risks\",\"scientifically\",\"mnc\",\"propose\",\"prepared\",\"iiit\",\"mention\",\"equipment\",\"darth\",\"january\",\"surname\",\"raised\",\"attitude\",\"gta\",\"david\",\"hike\",\"awkward\",\"proven\",\"productive\",\"lg\",\"filled\",\"atmosphere\",\"lee\",\"irctc\",\"addicted\",\"dynamic\",\"employment\",\"weekend\",\"replacement\",\"singing\",\"owners\",\"bipolar\",\"tomorrow\",\"poems\",\"default\",\"kvpy\",\"sauce\",\"competitors\",\"russians\",\"sample\",\"crimes\",\"hang\",\"inspired\",\"furniture\",\"throughout\",\"presence\",\"efficiency\",\"leg\",\"biological\",\"pilani\",\"conversations\",\"inspirational\",\"bachelor\",\"centers\",\"withdraw\",\"fundamental\",\"comparison\",\"november\",\"fifa\",\"penalty\",\"algebra\",\"joke\",\"htc\",\"pilots\",\"collapse\",\"texts\",\"vocabulary\",\"moved\",\"sc\",\"smile\",\"october\",\"dot\",\"genetic\",\"architect\",\"url\",\"51\",\"sore\",\"uniform\",\"re\",\"rails\",\"smaller\",\"marine\",\"terrorists\",\"nazi\",\"breast\",\"politician\",\"subtitles\",\"chosen\",\"egypt\",\"thin\",\"packages\",\"editor\",\"bands\",\"mythology\",\"reasonable\",\"permit\",\"acceptable\",\"seriously\",\"iraq\",\"fever\",\"visitor\",\"honest\",\"friction\",\"offering\",\"smarter\",\"ahmedabad\",\"replaced\",\"resolution\",\"burning\",\"bridge\",\"catholic\",\"calendar\",\"resident\",\"policies\",\"forced\",\"leading\",\"arm\",\"deserve\",\"context\",\"coolest\",\"arranged\",\"arizona\",\"comics\",\"harm\",\"democrats\",\"jail\",\"breed\",\"anywhere\",\"psu\",\"christ\",\"violence\",\"agriculture\",\"objective\",\"moments\",\"infinity\",\"supporting\",\"critical\",\"trees\",\"beyond\",\"bag\",\"vitamin\",\"assembly\",\"solved\",\"array\",\"perspective\",\"pas\",\"wwii\",\"skinny\",\"contains\",\"lift\",\"cleaning\",\"peter\",\"aap\",\"pimples\",\"initial\",\"lesserknown\",\"sights\",\"principles\",\"realize\",\"millionaire\",\"faux\",\"orbit\",\"desire\",\"hi\",\"prophet\",\"suits\",\"careers\",\"thinks\",\"quantity\",\"spots\",\"wage\",\"asleep\",\"sociology\",\"guard\",\"units\",\"structural\",\"operation\",\"pants\",\"w\",\"bulk\",\"possibly\",\"drunk\",\"fired\",\"accident\",\"inch\",\"bottle\",\"aerospace\",\"narcissist\",\"ux\",\"angeles\",\"wood\",\"index\",\"safely\",\"robotics\",\"edition\",\"metals\",\"practices\",\"scheme\",\"interior\",\"diabetes\",\"nobel\",\"youth\",\"lived\",\"september\",\"chief\",\"proposed\",\"assuming\",\"sin\",\"counter\",\"disable\",\"introduce\",\"restore\",\"swimming\",\"intern\",\"answering\",\"mentioned\",\"crash\",\"laser\",\"teenagers\",\"presentation\",\"quran\",\"classified\",\"demonetisation\",\"communicate\",\"cotton\",\"autism\",\"anger\",\"environmental\",\"stable\",\"7th\",\"bread\",\"invited\",\"wisdom\",\"wrote\",\"widely\",\"minor\",\"formal\",\"dreaming\",\"managers\",\"escape\",\"pollution\",\"taiwan\",\"verification\",\"los\",\"figures\",\"26\",\"illness\",\"sides\",\"compatible\",\"pack\",\"conspiracy\",\"hedge\",\"flights\",\"dropped\",\"former\",\"suffer\",\"aware\",\"designers\",\"mahabharata\",\"evolve\",\"weigh\",\"dies\",\"fruits\",\"cc\",\"butter\",\"sharing\",\"atoms\",\"tongue\",\"transaction\",\"poverty\",\"suffering\",\"presidents\",\"resistance\",\"adam\",\"civilization\",\"mining\",\"toronto\",\"stick\",\"increased\",\"wild\",\"freelance\",\"removal\",\"aws\",\"rio\",\"principle\",\"asus\",\"cute\",\"consumer\",\"pool\",\"variable\",\"tutorials\",\"advance\",\"keeping\",\"visible\",\"cognizant\",\"equations\",\"rooms\",\"krishna\",\"printer\",\"tooth\",\"mentally\",\"realistic\",\"automobile\",\"cake\",\"tie\",\"beach\",\"ghost\",\"comfortable\",\"mysql\",\"oral\",\"closed\",\"helps\",\"maharashtra\",\"admissions\",\"i5\",\"partners\",\"axis\",\"beliefs\",\"neck\",\"clans\",\"hidden\",\"cyber\",\"voting\",\"bacteria\",\"layer\",\"chhattisgarh\",\"5000\",\"sitting\",\"murder\",\"argument\",\"f\",\"privacy\",\"syndrome\",\"2010\",\"bite\",\"vacation\",\"isro\",\"trouble\",\"records\",\"answered\",\"digit\",\"defeat\",\"childhood\",\"5s\",\"gates\",\"f1\",\"town\",\"anal\",\"copper\",\"talks\",\"affiliate\",\"sociopath\",\"installed\",\"static\",\"copyright\",\"animation\",\"donate\",\"stranger\",\"bcom\",\"destroyed\",\"gujarat\",\"foundation\",\"prize\",\"components\",\"foreigner\",\"arms\",\"unlimited\",\"needing\",\"settings\",\"item\",\"eve\",\"competition\",\"landing\",\"beard\",\"patent\",\"ending\",\"2020\",\"incident\",\"petroleum\",\"florida\",\"particularly\",\"ups\",\"generator\",\"leather\",\"heal\",\"experiment\",\"28\",\"passing\",\"talent\",\"remote\",\"300\",\"published\",\"impossible\",\"steam\",\"80\",\"washing\",\"guilty\",\"punjab\",\"70\",\"album\",\"bullet\",\"paris\",\"interface\",\"agencies\",\"mission\",\"digits\",\"modis\",\"recruitment\",\"manipal\",\"telling\",\"meal\",\"orange\",\"stone\",\"links\",\"ab\",\"upper\",\"cameras\",\"p\",\"combat\",\"passion\",\"shower\",\"thailand\",\"beings\",\"grad\",\"27\",\"finger\",\"jump\",\"lights\",\"ui\",\"bba\",\"sweden\",\"arrive\",\"4th\",\"amendment\",\"window\",\"satellite\",\"al\",\"matlab\",\"jokes\",\"muhammad\",\"expression\",\"booking\",\"dinner\",\"skype\",\"lots\",\"2018\",\"teen\",\"finish\",\"dslr\",\"mens\",\"proud\",\"entrepreneurs\",\"ukraine\",\"coins\",\"scenario\",\"transmission\",\"ignore\",\"pride\",\"contribute\",\"grand\",\"curve\",\"false\",\"operations\",\"breakup\",\"eventually\",\"acquire\",\"commission\",\"lies\",\"spoken\",\"pills\",\"masturbating\",\"jackson\",\"airbnb\",\"delivered\",\"disk\",\"radiation\",\"plays\",\"marvel\",\"particle\",\"breakfast\",\"smartphones\",\"relevant\",\"quota\",\"refund\",\"inches\",\"telugu\",\"angel\",\"eastern\",\"inflation\",\"predict\",\"annoying\",\"obc\",\"tough\",\"conduct\",\"originate\",\"notification\",\"backup\",\"harder\",\"richest\",\"pronounce\",\"sri\",\"wheel\",\"wasnt\",\"oldest\",\"sheet\",\"soda\",\"20s\",\"wipro\",\"awesome\",\"facial\",\"z\",\"noida\",\"confident\",\"fbi\",\"corrupt\",\"succeed\",\"reddit\",\"associate\",\"input\",\"guns\",\"rahul\",\"baking\",\"description\",\"musical\",\"apache\",\"nowadays\",\"fluid\",\"capacity\",\"loose\",\"freshman\",\"cfa\",\"optional\",\"theres\",\"ps4\",\"trends\",\"jon\",\"richard\",\"legit\",\"nodejs\",\"document\",\"sexually\",\"particles\",\"singer\",\"printing\",\"captain\",\"valuable\",\"several\",\"aiims\",\"boot\",\"sit\",\"zone\",\"billionaire\",\"floor\",\"gravitational\",\"export\",\"motivation\",\"golden\",\"transgender\",\"healthcare\",\"heaven\",\"81\",\"leaves\",\"listening\",\"overall\",\"press\",\"dishes\",\"railways\",\"warming\",\"enfield\",\"extent\",\"acceleration\",\"afford\",\"bonds\",\"border\",\"registration\",\"cast\",\"hope\",\"shipping\",\"karnataka\",\"specifically\",\"opportunity\",\"arabia\",\"pump\",\"pg\",\"carrier\",\"plot\",\"kingdom\",\"contract\",\"painful\",\"kindle\",\"boring\",\"essential\",\"disney\",\"charger\",\"seconds\",\"measured\",\"honda\",\"ba\",\"makeup\",\"\\u2013\",\"mini\",\"annual\",\"traits\",\"retrieve\",\"willing\",\"swift\",\"consume\",\"hindus\",\"psychopath\",\"tells\",\"solving\",\"conditions\",\"artists\",\"spotify\",\"bomb\",\"integrate\",\"stuck\",\"nikon\",\"gadgets\",\"womens\",\"judge\",\"republicans\",\"vacuum\",\"felt\",\"putin\",\"tennis\",\"concentration\",\"fans\",\"constantly\",\"matrix\",\"secrets\",\"spot\",\"soft\",\"stored\",\"neural\",\"submit\",\"scores\",\"ola\",\"wire\",\"gdp\",\"jaipur\",\"typically\",\"airline\",\"roles\",\"cheaper\",\"machines\",\"shift\",\"impress\",\"basics\",\"32\",\"conservative\",\"birds\",\"tend\",\"duty\",\"setup\",\"rude\",\"pink\",\"church\",\"mine\",\"jack\",\"sending\",\"cooking\",\"versus\",\"expert\",\"olympic\",\"biotechnology\",\"gurgaon\",\"worked\",\"codes\",\"successfully\",\"hardware\",\"faith\",\"pr\",\"television\",\"compound\",\"vit\",\"universal\",\"thank\",\"grammatically\",\"chicago\",\"ivy\",\"worried\",\"enterprise\",\"sodium\",\"railway\",\"remedies\",\"racism\",\"tracking\",\"psychological\",\"apartment\",\"magazine\",\"martial\",\"beauty\",\"waiting\",\"attacks\",\"horror\",\"fantasy\",\"ma\",\"select\",\"increasing\",\"metro\",\"opt\",\"map\",\"watched\",\"gear\",\"icloud\",\"james\",\"comedy\",\"lollipop\",\"ireland\",\"upcoming\",\"italian\",\"oven\",\"emotionally\",\"decided\",\"lakh\",\"grey\",\"kept\",\"produced\",\"mouth\",\"manual\",\"dhoni\",\"fill\",\"throat\",\"shoot\",\"liked\",\"innovative\",\"immediately\",\"lonely\",\"fighting\",\"max\",\"accidentally\",\"schedule\",\"orgasm\",\"rape\",\"ride\",\"muscles\",\"graduates\",\"taller\",\"boost\",\"lakhs\",\"microwave\",\"electrons\",\"upon\",\"attract\",\"ap\",\"abuse\",\"earths\",\"forever\",\"underrated\",\"facing\",\"terrorist\",\"alien\",\"celebrity\",\"frequently\",\"vpn\",\"wales\",\"powder\",\"superman\",\"mixed\",\"caught\",\"goods\",\"beginning\",\"starts\",\"atomic\",\"associated\",\"triangle\",\"parties\",\"banning\",\"k\",\"honey\",\"monitor\",\"graph\",\"leaders\",\"embedded\",\"juice\",\"split\",\"lady\",\"sequence\",\"911\",\"harassment\",\"nepal\",\"pop\",\"habit\",\"setting\",\"edge\",\"ww2\",\"gps\",\"federal\",\"charged\",\"lying\",\"empty\",\"whenever\",\"airplane\",\"jet\",\"destroy\",\"ies\",\"wouldnt\",\"quick\",\"decrease\",\"robert\",\"pradesh\",\"professors\",\"massage\",\"held\",\"spending\",\"markets\",\"objects\",\"chart\",\"mechanics\",\"silver\",\"usage\",\"basketball\",\"gen\",\"periods\",\"identity\",\"individuals\",\"css\",\"soul\",\"ipod\",\"chest\",\"understanding\",\"coast\",\"classic\",\"spain\",\"babies\",\"sd\",\"hostel\",\"shirt\",\"further\",\"logical\",\"franchise\",\"obtain\",\"foreigners\",\"fully\",\"region\",\"designed\",\"cheated\",\"beneficial\",\"shes\",\"accent\",\"couldnt\",\"queen\",\"sick\",\"blowing\",\"properly\",\"stronger\",\"returns\",\"condition\",\"musk\",\"ugly\",\"teams\",\"filter\",\"snow\",\"glasses\",\"employer\",\"solid\",\"followed\",\"embarrassing\",\"auto\",\"meeting\",\"belong\",\"strike\",\"internships\",\"bachelors\",\"administration\",\"temple\",\"wealth\",\"retail\",\"speakers\",\"electoral\",\"headphones\",\"streaming\",\"mirror\",\"diesel\",\"republic\",\"antivirus\",\"customers\",\"atm\",\"vagina\",\"cigarettes\",\"aptitude\",\"lewis\",\"saudi\",\"puppy\",\"recovery\",\"jimmy\",\"obsessed\",\"domestic\",\"pen\",\"batch\",\"de\",\"drawing\",\"ai\",\"medium\",\"simply\",\"photoshop\",\"sms\",\"turning\",\"nadu\",\"appropriate\",\"adobe\",\"substitute\",\"fruit\",\"recipes\",\"fighter\",\"saving\",\"greater\",\"cheat\",\"routine\",\"push\",\"sherlock\",\"arguments\",\"sony\",\"import\",\"soldiers\",\"charges\",\"emotions\",\"ibm\",\"un\",\"innovations\",\"itunes\",\"consultant\",\"iims\",\"relations\",\"psychopaths\",\"existing\",\"angle\",\"clash\",\"bus\",\"australian\",\"crazy\",\"pull\",\"theories\",\"savings\",\"suit\",\"contrast\",\"calculus\",\"pi\",\"credits\",\"bluetooth\",\"himself\",\"traveling\",\"criminal\",\"xiaomi\",\"zealand\",\"seats\",\"electron\",\"script\",\"11th\",\"lessons\",\"programmers\",\"december\",\"flag\",\"singh\",\"arabic\",\"sale\",\"nfl\",\"grammar\",\"killing\",\"virgin\",\"differently\",\"poem\",\"provided\",\"automation\",\"shy\",\"translation\",\"mathematical\",\"45\",\"celebrities\",\"spring\",\"downloading\",\"dr\",\"organization\",\"majority\",\"clients\",\"hd\",\"motivate\",\"thats\",\"thesis\",\"door\",\"weakest\",\"saw\",\"canon\",\"younger\",\"costs\",\"river\",\"rings\",\"factory\",\"decent\",\"clintons\",\"holes\",\"desert\",\"divorce\",\"sold\",\"cheese\",\"atom\",\"taught\",\"minute\",\"ocean\",\"crisis\",\"represent\",\"surgical\",\"parent\",\"brexit\",\"possibility\",\"longest\",\"edit\",\"scholarship\",\"motivated\",\"chocolate\",\"faced\",\"90\",\"parallel\",\"foot\",\"examination\",\"friendly\",\"kinds\",\"wins\",\"islamic\",\"degrees\",\"registered\",\"distribution\",\"junior\",\"gave\",\"sing\",\"articles\",\"hadoop\",\"saved\",\"hero\",\"ear\",\"asks\",\"improved\",\"teenager\",\"forms\",\"wash\",\"provides\",\"washington\",\"strikes\",\"binary\",\"syria\",\"indonesia\",\"powers\",\"highly\",\"heshe\",\"happiness\",\"director\",\"citizenship\",\"knew\",\"humanity\",\"translate\",\"nba\",\"permanently\",\"soccer\",\"todays\",\"challenges\",\"barack\",\"title\",\"latin\",\"fitness\",\"genuine\",\"investor\",\"dislike\",\"scenes\",\"hacker\",\"bangladesh\",\"ebay\",\"earning\",\"dell\",\"paytm\",\"spouse\",\"bored\",\"roman\",\"official\",\"dragon\",\"park\",\"except\",\"habits\",\"quote\",\"astrology\",\"congress\",\"automatically\",\"island\",\"religions\",\"christianity\",\"supreme\",\"owner\",\"hell\",\"wikipedia\",\"cancel\",\"industries\",\"actress\",\"client\",\"visual\",\"michael\",\"remain\",\"ability\",\"concrete\",\"conflict\",\"string\",\"linear\",\"supposed\",\"engines\",\"2012\",\"\\u2018\",\"lesser\",\"traditional\",\"episodes\",\"goals\",\"tata\",\"opening\",\"target\",\"weak\",\"anonymous\",\"bjp\",\"resource\",\"concepts\",\"ruby\",\"friendship\",\"nyc\",\"pretty\",\"implement\",\"painting\",\"ill\",\"agency\",\"reverse\",\"confused\",\"italy\",\"response\",\"yellow\",\"dance\",\"contain\",\"vice\",\"editing\",\"acting\",\"weirdest\",\"feels\",\"govt\",\"accounting\",\"rise\",\"wise\",\"leaving\",\"lens\",\"artist\",\"arvind\",\"pattern\",\"scared\",\"attention\",\"airlines\",\"sky\",\"malaysia\",\"port\",\"attempt\",\"element\",\"classical\",\"shown\",\"safety\",\"including\",\"tablet\",\"la\",\"terrorism\",\"commit\",\"maps\",\"african\",\"viewed\",\"calling\",\"6s\",\"agent\",\"output\",\"justice\",\"don\",\"addiction\",\"lock\",\"vegetarian\",\"britain\",\"percent\",\"meditation\",\"ibps\",\"monthly\",\"writers\",\"forward\",\"stuff\",\"mr\",\"ready\",\"forgot\",\"flying\",\"recommended\",\"fields\",\"blind\",\"l\",\"hinduism\",\"desktop\",\"host\",\"tattoo\",\"maintain\",\"boards\",\"helpful\",\"semester\",\"load\",\"tier\",\"agree\",\"factor\",\"elon\",\"freshers\",\"sql\",\"cases\",\"exact\",\"confidence\",\"behavior\",\"hacked\",\"quotes\",\"hydrogen\",\"pakistani\",\"masturbate\",\"divided\",\"skill\",\"fine\",\"falling\",\"chess\",\"charging\",\"pages\",\"vector\",\"supporters\",\"waste\",\"sanders\",\"affordable\",\"unlock\",\"techniques\",\"wine\",\"keyboard\",\"cm\",\"wireless\",\"lawyer\",\"egg\",\"cope\",\"mindblowing\",\"recipe\",\"corruption\",\"scored\",\"secure\",\"teaching\",\"opposite\",\"educational\",\"bernie\",\"y\",\"library\",\"models\",\"kid\",\"stack\",\"separate\",\"19\",\"extremely\",\"properties\",\"cable\",\"magic\",\"removed\",\"computing\",\"hospital\",\"beer\",\"christians\",\"twice\",\"kg\",\"consulting\",\"whose\",\"serious\",\"petrol\",\"travelling\",\"revolution\",\"custom\",\"structures\",\"guide\",\"celebrate\",\"lenovo\",\"turned\",\"ielts\",\"grades\",\"fuel\",\"relative\",\"oracle\",\"academy\",\"lack\",\"passed\",\"relation\",\"values\",\"movement\",\"strategies\",\"eu\",\"emotional\",\"legs\",\"pokemon\",\"3g\",\"iran\",\"mostly\",\"jewish\",\"offered\",\"log\",\"hasnt\",\"explanation\",\"signal\",\"stores\",\"syllabus\",\"bits\",\"yoga\",\"weapons\",\"gods\",\"10000\",\"delivery\",\"gb\",\"sum\",\"letters\",\"venture\",\"selection\",\"winning\",\"35\",\"comment\",\"consequences\",\"sport\",\"items\",\"seems\",\"ring\",\"jealous\",\"laptops\",\"criteria\",\"fresh\",\"reference\",\"bitcoin\",\"infinite\",\"perform\",\"brazil\",\"density\",\"plans\",\"hosting\",\"clothing\",\"hong\",\"dying\",\"heavy\",\"steve\",\"gone\",\"damage\",\"missing\",\"ethical\",\"republican\",\"contacts\",\"activity\",\"electronic\",\"qualities\",\"piano\",\"hisher\",\"repair\",\"posts\",\"disease\",\"winter\",\"ten\",\"publish\",\"paint\",\"physically\",\"executive\",\"deposit\",\"elements\",\"xbox\",\"ceo\",\"visitors\",\"discovered\",\"tickets\",\"literature\",\"primary\",\"naturally\",\"senior\",\"u\",\"hardest\",\"debate\",\"frequency\",\"vietnam\",\"cry\",\"assistant\",\"gifts\",\"practical\",\"funny\",\"valid\",\"liberal\",\"refer\",\"beat\",\"shape\",\"institutes\",\"msc\",\"internal\",\"located\",\"significant\",\"scientists\",\"g\",\"ship\",\"proper\",\"independence\",\"added\",\"hes\",\"catch\",\"urine\",\"effectively\",\"named\",\"responsible\",\"strength\",\"whos\",\"immigration\",\"vehicle\",\"tesla\",\"kong\",\"meth\",\"england\",\"huge\",\"pizza\",\"rejected\",\"george\",\"fan\",\"salt\",\"browser\",\"sat\",\"loved\",\"fees\",\"walking\",\"symbol\",\"equity\",\"ubuntu\",\"alternatives\",\"theme\",\"virus\",\"manufacturing\",\"cutoff\",\"pure\",\"22\",\"introvert\",\"unable\",\"greek\",\"rice\",\"gst\",\"happening\",\"centre\",\"kiss\",\"prison\",\"bigger\",\"font\",\"construction\",\"exercises\",\"keeps\",\"gmat\",\"offers\",\"cross\",\"nasa\",\"unit\",\"advertising\",\"cup\",\"fixed\",\"limited\",\"billion\",\"subjects\",\"arts\",\"worlds\",\"stupid\",\"breaking\",\"funding\",\"tank\",\"generate\",\"efficient\",\"exists\",\"atheist\",\"entrepreneur\",\"direction\",\"broken\",\"offline\",\"firms\",\"station\",\"magnetic\",\"include\",\"aliens\",\"tinder\",\"logo\",\"photography\",\"worse\",\"besides\",\"path\",\"somebody\",\"interviews\",\"persons\",\"figure\",\"placed\",\"nation\",\"knows\",\"unmarried\",\"hp\",\"profitable\",\"tricks\",\"boss\",\"reply\",\"scam\",\"circle\",\"processor\",\"debt\",\"growing\",\"royal\",\"fiction\",\"department\",\"mistake\",\"weird\",\"graphics\",\"external\",\"article\",\"volume\",\"scratch\",\"chain\",\"protect\",\"storage\",\"texas\",\"liquid\",\"circuit\",\"graphic\",\"tired\",\"weather\",\"oxygen\",\"velocity\",\"dad\",\"band\",\"teachers\",\"drugs\",\"complex\",\"studio\",\"accenture\",\"leader\",\"levels\",\"goal\",\"logic\",\"acne\",\"plastic\",\"motion\",\"button\",\"peoples\",\"vision\",\"gap\",\"dollar\",\"computers\",\"stomach\",\"sources\",\"constant\",\"draw\",\"dress\",\"calculated\",\"sort\",\"3rd\",\"club\",\"channels\",\"creating\",\"candidates\",\"kejriwal\",\"broke\",\"sentences\",\"format\",\"emails\",\"raw\",\"stanford\",\"completed\",\"documents\",\"pan\",\"showing\",\"enter\",\"unknown\",\"bought\",\"router\",\"claim\",\"six\",\"technologies\",\"\\u20b9\",\"flipkart\",\"infosys\",\"mutual\",\"angry\",\"iits\",\"affected\",\"prices\",\"shares\",\"naruto\",\"processing\",\"finding\",\"democratic\",\"evolution\",\"harmful\",\"dual\",\"virtual\",\"member\",\"wave\",\"actual\",\"extra\",\"radio\",\"citizens\",\"e\",\"hr\",\"previous\",\"stopped\",\"walk\",\"redmi\",\"speaker\",\"torrent\",\"smoke\",\"mistakes\",\"flash\",\"iron\",\"entire\",\"individual\",\"express\",\"flow\",\"mode\",\"aircraft\",\"section\",\"planets\",\"10th\",\"respond\",\"easier\",\"evil\",\"percentile\",\"seeing\",\"calories\",\"upgrade\",\"professor\",\"v\",\"launch\",\"staff\",\"till\",\"silicon\",\"entry\",\"constitution\",\"century\",\"notice\",\"ie\",\"atheists\",\"tests\",\"21\",\"became\",\"kerala\",\"truly\",\"count\",\"essay\",\"papers\",\"accurate\",\"colors\",\"respect\",\"ideal\",\"rock\",\"reliance\",\"peace\",\"masturbation\",\"audio\",\"random\",\"independent\",\"colour\",\"hotels\",\"presidency\",\"generation\",\"paypal\",\"shot\",\"central\",\"released\",\"occur\",\"display\",\"industrial\",\"particular\",\"risk\",\"eg\",\"belly\",\"pet\",\"similarities\",\"organic\",\"marijuana\",\"networks\",\"aspects\",\"flat\",\"d\",\"comments\",\"nose\",\"identify\",\"rbi\",\"improvement\",\"directly\",\"framework\",\"suggestions\",\"designing\",\"brands\",\"religious\",\"influence\",\"novels\",\"statistics\",\"historical\",\"ground\",\"commerce\",\"pregnancy\",\"romantic\",\"failure\",\"wearing\",\"john\",\"apart\",\"bay\",\"symptoms\",\"200\",\"couple\",\"60\",\"canadian\",\"lie\",\"print\",\"carry\",\"gender\",\"experienced\",\"pounds\",\"reservation\",\"either\",\"stage\",\"artificial\",\"fit\",\"blogs\",\"developing\",\"environment\",\"learned\",\"copy\",\"phase\",\"bond\",\"democracy\",\"cgpa\",\"operating\",\"surface\",\"officers\",\"h1b\",\"ip\",\"workout\",\"fee\",\"elected\",\"hands\",\"largest\",\"sad\",\"shouldnt\",\"seat\",\"sister\",\"developers\",\"despite\",\"scene\",\"po\",\"diploma\",\"request\",\"empire\",\"ratio\",\"considering\",\"academic\",\"tree\",\"register\",\"advantage\",\"eligible\",\"nit\",\"shop\",\"intel\",\"funniest\",\"alternative\",\"fail\",\"ads\",\"nature\",\"miss\",\"involved\",\"overrated\",\"attend\",\"freedom\",\"dna\",\"beginners\",\"raise\",\"dry\",\"failed\",\"legally\",\"batman\",\"upload\",\"carbon\",\"regret\",\"applied\",\"points\",\"investors\",\"pick\",\"equivalent\",\"connected\",\"christmas\",\"lyrics\",\"nations\",\"caused\",\"bsc\",\"1st\",\"action\",\"activities\",\"biology\",\"hide\",\"asia\",\"takes\",\"require\",\"alive\",\"mom\",\"cycle\",\"generally\",\"campaign\",\"fair\",\"wake\",\"bit\",\"rules\",\"olympics\",\"racist\",\"areas\",\"eggs\",\"feature\",\"sap\",\"taxes\",\"ad\",\"shall\",\"theyre\",\"species\",\"pilot\",\"firm\",\"fish\",\"define\",\"doctors\",\"piece\",\"itself\",\"bang\",\"solutions\",\"iim\",\"2013\",\"wanted\",\"length\",\"burn\",\"waves\",\"bar\",\"gives\",\"forces\",\"christian\",\"anybody\",\"relationships\",\"nice\",\"wedding\",\"various\",\"brother\",\"films\",\"cream\",\"suddenly\",\"philippines\",\"fashion\",\"truth\",\"gpa\",\"cgl\",\"tall\",\"goa\",\"hacking\",\"statement\",\"reset\",\"materials\",\"played\",\"match\",\"usb\",\"novel\",\"unusual\",\"knowing\",\"selected\",\"valley\",\"chrome\",\"couples\",\"becomes\",\"died\",\"cheating\",\"community\",\"groups\",\"category\",\"pursuing\",\"writer\",\"mexico\",\"anymore\",\"sugar\",\"climate\",\"brown\",\"players\",\"ii\",\"reviews\",\"took\",\"led\",\"connection\",\"begin\",\"html\",\"changing\",\"received\",\"plants\",\"debit\",\"record\",\"revenue\",\"mars\",\"strongest\",\"members\",\"formed\",\"union\",\"thought\",\"existence\",\"kashmir\",\"gandhi\",\"pdf\",\"banned\",\"0\",\"plane\",\"treated\",\"electricity\",\"scale\",\"basis\",\"moral\",\"images\",\"methods\",\"certification\",\"voltage\",\"style\",\"base\",\"excel\",\"amazing\",\"regarding\",\"result\",\"rates\",\"hold\",\"indias\",\"airport\",\"businesses\",\"feet\",\"built\",\"linkedin\",\"signs\",\"above\",\"networking\",\"r\",\"shopping\",\"looks\",\"went\",\"placements\",\"bed\",\"experiences\",\"daughter\",\"tourist\",\"employee\",\"caste\",\"wait\",\"direct\",\"especially\",\"feed\",\"continue\",\"expected\",\"algorithm\",\"depressed\",\"shoes\",\"soon\",\"supply\",\"stress\",\"24\",\"inr\",\"foods\",\"rent\",\"architecture\",\"ban\",\"entrance\",\"actors\",\"messenger\",\"unique\",\"kolkata\",\"funds\",\"rupee\",\"promote\",\"rupees\",\"jews\",\"23\",\"cook\",\"cultural\",\"accepted\",\"hear\",\"glass\",\"road\",\"joining\",\"measure\",\"havent\",\"metal\",\"resume\",\"afraid\",\"turkey\",\"meat\",\"goes\",\"installation\",\"netflix\",\"benefit\",\"demand\",\"release\",\"produce\",\"report\",\"cover\",\"changes\",\"double\",\"2nd\",\"reaction\",\"killed\",\"steel\",\"requirements\",\"france\",\"exchange\",\"ac\",\"quantum\",\"reliable\",\"box\",\"results\",\"lives\",\"treatment\",\"4g\",\"ece\",\"probability\",\"sleeping\",\"philosophy\",\"handle\",\"forget\",\"driver\",\"demonetization\",\"algorithms\",\"trade\",\"rule\",\"muscle\",\"calls\",\"tried\",\"mental\",\"sure\",\"quit\",\"navy\",\"achieve\",\"francisco\",\"location\",\"until\",\"sense\",\"anxiety\",\"wordpress\",\"focus\",\"fact\",\"production\",\"conversation\",\"motor\",\"five\",\"attracted\",\"hit\",\"analyst\",\"moto\",\"isis\",\"chicken\",\"sector\",\"permanent\",\"along\",\"king\",\"slow\",\"candidate\",\"minutes\",\"purchase\",\"gun\",\"selling\",\"usually\",\"\\u2026\",\"fly\",\"round\",\"panel\",\"error\",\"stocks\",\"api\",\"remember\",\"africa\",\"paying\",\"hitler\",\"3d\",\"regular\",\"losing\",\"mail\",\"yahoo\",\"cheapest\",\"older\",\"concept\",\"characters\",\"definition\",\"lines\",\"pm\",\"cloud\",\"cats\",\"russian\",\"ipad\",\"korean\",\"proof\",\"battle\",\"stars\",\"stream\",\"recent\",\"typical\",\"performance\",\"harvard\",\"restaurant\",\"origin\",\"listen\",\"smell\",\"decide\",\"serve\",\"undergraduate\",\"profit\",\"situation\",\"surgery\",\"asking\",\"plant\",\"link\",\"square\",\"completing\",\"four\",\"trust\",\"payment\",\"gym\",\"andor\",\"worklife\",\"guitar\",\"elections\",\"half\",\"investing\",\"scientist\",\"street\",\"needs\",\"native\",\"thoughts\",\"reality\",\"40\",\"medicine\",\"race\",\"choice\",\"longer\",\"came\",\"applying\",\"hiring\",\"west\",\"weed\",\"hacks\",\"step\",\"sea\",\"crime\",\"devices\",\"event\",\"citizen\",\"14\",\"17\",\"ticket\",\"fund\",\"equation\",\"suicide\",\"whom\",\"met\",\"almost\",\"designer\",\"local\",\"departments\",\"khan\",\"customer\",\"banking\",\"javascript\",\"trip\",\"issue\",\"react\",\"cannot\",\"dubai\",\"wall\",\"touch\",\"parts\",\"loves\",\"clothes\",\"straight\",\"sexual\",\"active\",\"inpatient\",\"dreams\",\"protein\",\"table\",\"exercise\",\"lord\",\"mtech\",\"creative\",\"ball\",\"speaking\",\"son\",\"receive\",\"dollars\",\"domain\",\"prospects\",\"hour\",\"graduation\",\"commercial\",\"themselves\",\"factors\",\"jesus\",\"programmer\",\"recommend\",\"replace\",\"chat\",\"placement\",\"episode\",\"fastest\",\"restaurants\",\"object\",\"drivers\",\"gaming\",\"mark\",\"taste\",\"seem\",\"perfect\",\"potential\",\"trumps\",\"appear\",\"rights\",\"equal\",\"rest\",\"package\",\"meant\",\"drop\",\"cool\",\"material\",\"potter\",\"events\",\"convince\",\"completely\",\"n\",\"zero\",\"significance\",\"lower\",\"feelings\",\"followers\",\"evidence\",\"certain\",\"later\",\"original\",\"bible\",\"disorder\",\"testing\",\"via\",\"stand\",\"actor\",\"characteristics\",\"cities\",\"reach\",\"ago\",\"mbbs\",\"speech\",\"electric\",\"approach\",\"scientific\",\"root\",\"analytics\",\"below\",\"grade\",\"mains\",\"topic\",\"fun\",\"ancient\",\"adult\",\"standard\",\"ice\",\"everyday\",\"population\",\"invented\",\"european\",\"intelligent\",\"11\",\"subject\",\"rehab\",\"background\",\"giving\",\"platform\",\"flight\",\"thrones\",\"maths\",\"dc\",\"teeth\",\"mit\",\"weeks\",\"east\",\"means\",\"programs\",\"beginner\",\"heat\",\"third\",\"tea\",\"range\",\"london\",\"maximum\",\"enjoy\",\"2000\",\"cells\",\"quickly\",\"here\",\"expensive\",\"phrase\",\"partner\",\"league\",\"anime\",\"latest\",\"specific\",\"whether\",\"functions\",\"os\",\"fire\",\"saying\",\"secret\",\"13\",\"planet\",\"hole\",\"super\",\"teacher\",\"strong\",\"accounts\",\"minister\",\"database\",\"economic\",\"channel\",\"estate\",\"ram\",\"switch\",\"asian\",\"smoking\",\"branch\",\"israel\",\"18\",\"features\",\"success\",\"lead\",\"total\",\"key\",\"master\",\"ok\",\"favourite\",\"psychology\",\"pok\\u00e9mon\",\"nothing\",\"clean\",\"25\",\"politics\",\"drinking\",\"sometimes\",\"recently\",\"korea\",\"sent\",\"poor\",\"hindu\",\"hollywood\",\"survive\",\"cure\",\"property\",\"return\",\"narendra\",\"budget\",\"sports\",\"limit\",\"arent\",\"boys\",\"driving\",\"whole\",\"cash\",\"smartphone\",\"php\",\"developed\",\"ssc\",\"hot\",\"attractive\",\"tool\",\"physical\",\"ecommerce\",\"sbi\",\"morning\",\"animal\",\"multiple\",\"loan\",\"acid\",\"fresher\",\"spanish\",\"moving\",\"decision\",\"county\",\"determined\",\"becoming\",\"seo\",\"summer\",\"manage\",\"server\",\"competitive\",\"milk\",\"importance\",\"banks\",\"cheap\",\"powerful\",\"issues\",\"penis\",\"according\",\"analysis\",\"bike\",\"position\",\"western\",\"advanced\",\"campus\",\"highest\",\"front\",\"court\",\"status\",\"gravity\",\"positions\",\"comes\",\"steps\",\"complete\",\"electronics\",\"won\",\"hurt\",\"certificate\",\"temperature\",\"player\",\"someones\",\"communication\",\"million\",\"talking\",\"preparing\",\"finance\",\"cancer\",\"9\",\"harry\",\"accept\",\"2014\",\"plus\",\"born\",\"tcs\",\"license\",\"bring\",\"teach\",\"practice\",\"trading\",\"m\",\"might\",\"opportunities\",\"global\",\"wish\",\"outside\",\"attack\",\"procedure\",\"needed\",\"update\",\"coffee\",\"provider\",\"rather\",\"16\",\"allow\",\"tamil\",\"mix\",\"connect\",\"room\",\"watching\",\"deep\",\"york\",\"image\",\"birth\",\"sign\",\"birthday\",\"playing\",\"wars\",\"grads\",\"hire\",\"phones\",\"cbse\",\"details\",\"clear\",\"cricket\",\"dangerous\",\"track\",\"corporate\",\"voice\",\"upsc\",\"content\",\"okay\",\"san\",\"heart\",\"far\",\"heard\",\"prove\",\"positive\",\"moment\",\"sales\",\"opinion\",\"engineers\",\"block\",\"diet\",\"coding\",\"core\",\"baby\",\"father\",\"little\",\"large\",\"blocked\",\"distance\",\"land\",\"simple\",\"husband\",\"told\",\"traffic\",\"prevent\",\"pictures\",\"planning\",\"fear\",\"classes\",\"towards\",\"technical\",\"building\",\"trying\",\"photo\",\"early\",\"uses\",\"sydney\",\"startups\",\"act\",\"id\",\"describe\",\"12th\",\"may\",\"formula\",\"gets\",\"present\",\"wont\",\"cut\",\"treat\",\"mathematics\",\"visiting\",\"eye\",\"policy\",\"close\",\"cse\",\"suitable\",\"version\",\"tools\",\"head\",\"minimum\",\"chennai\",\"easily\",\"method\",\"intelligence\",\"gre\",\"mother\",\"doctor\",\"macbook\",\"deleted\",\"gas\",\"suggest\",\"cards\",\"files\",\"loss\",\"art\",\"easiest\",\"late\",\"among\",\"together\",\"depression\",\"higher\",\"alone\",\"economics\",\"dead\",\"growth\",\"insurance\",\"gold\",\"necessary\",\"neet\",\"blog\",\"example\",\"memory\",\"crack\",\"consider\",\"works\",\"currency\",\"recruit\",\"pursue\",\"strategy\",\"young\",\"cs\",\"projects\",\"50\",\"manager\",\"abroad\",\"schools\",\"illegal\",\"inside\",\"stories\",\"hand\",\"t\",\"greatest\",\"personality\",\"galaxy\",\"device\",\"views\",\"user\",\"chemistry\",\"cars\",\"iq\",\"prefer\",\"picture\",\"nuclear\",\"middle\",\"applications\",\"gmail\",\"laws\",\"final\",\"capital\",\"kids\",\"society\",\"fake\",\"bill\",\"save\",\"though\",\"likely\",\"determine\",\"shows\",\"character\",\"snapchat\",\"youre\",\"eyes\",\"islam\",\"marry\",\"brand\",\"yet\",\"impact\",\"speak\",\"within\",\"rich\",\"resources\",\"net\",\"non\",\"pressure\",\"changed\",\"allowed\",\"obama\",\"cold\",\"running\",\"feeling\",\"jio\",\"football\",\"gift\",\"written\",\"buying\",\"mac\",\"spend\",\"prime\",\"blue\",\"train\",\"studies\",\"negative\",\"thinking\",\"solution\",\"sun\",\"least\",\"following\",\"install\",\"else\",\"muslims\",\"camera\",\"vote\",\"linux\",\"expect\",\"german\",\"recover\",\"starting\",\"crush\",\"coming\",\"muslim\",\"modern\",\"battery\",\"provide\",\"access\",\"presidential\",\"interest\",\"dating\",\"pro\",\"likes\",\"french\",\"singapore\",\"useful\",\"already\",\"professional\",\"percentage\",\"drink\",\"created\",\"board\",\"passport\",\"structure\",\"case\",\"height\",\"microsoft\",\"break\",\"screen\",\"names\",\"chance\",\"special\",\"30\",\"skin\",\"natural\",\"color\",\"interested\",\"amount\",\"pain\",\"healthy\",\"hack\",\"messages\",\"ias\",\"gay\",\"disadvantages\",\"pass\",\"moon\",\"systems\",\"hindi\",\"financial\",\"taken\",\"yes\",\"sim\",\"pregnant\",\"faster\",\"animals\",\"internship\",\"let\",\"photos\",\"balance\",\"sound\",\"due\",\"knowledge\",\"charge\",\"message\",\"officer\",\"solar\",\"military\",\"meet\",\"option\",\"reading\",\"across\",\"overcome\",\"everyone\",\"everything\",\"wife\",\"reduce\",\"chances\",\"samsung\",\"income\",\"bollywood\",\"season\",\"europe\",\"boy\",\"currently\",\"ex\",\"smart\",\"california\",\"engine\",\"paid\",\"army\",\"contact\",\"address\",\"wants\",\"ones\",\"gain\",\"reasons\",\"avoid\",\"please\",\"note\",\"known\",\"pune\",\"film\",\"national\",\"once\",\"users\",\"porn\",\"scope\",\"twitter\",\"drug\",\"rank\",\"japan\",\"fight\",\"transfer\",\"political\",\"green\",\"news\",\"self\",\"uber\",\"basic\",\"british\",\"religion\",\"hyderabad\",\"topics\",\"explain\",\"phd\",\"eating\",\"letter\",\"calculate\",\"ive\",\"tech\",\"personal\",\"japanese\",\"check\",\"hotel\",\"wifi\",\"beautiful\",\"difficult\",\"paper\",\"languages\",\"investment\",\"develop\",\"north\",\"electrical\",\"ios\",\"alcohol\",\"exactly\",\"profile\",\"past\",\"exams\",\"ca\",\"convert\",\"vs\",\"understand\",\"care\",\"dream\",\"try\",\"americans\",\"lost\",\"chemical\",\"source\",\"b\",\"admission\",\"easy\",\"must\",\"three\",\"effect\",\"view\",\"options\",\"page\",\"away\",\"red\",\"said\",\"line\",\"short\",\"happy\",\"security\",\"dark\",\"preparation\",\"second\",\"fat\",\"matter\",\"few\",\"since\",\"role\",\"pc\",\"office\",\"team\",\"delete\",\"cell\",\"election\",\"economy\",\"term\",\"dogs\",\"text\",\"female\",\"effective\",\"brain\",\"share\",\"digital\",\"btech\",\"russia\",\"\\u201c\",\"party\",\"numbers\",\"20\",\"store\",\"male\",\"mass\",\"turn\",\"left\",\"married\",\"rs\",\"taking\",\"those\",\"password\",\"follow\",\"advice\",\"isnt\",\"15\",\"types\",\"network\",\"\\u201d\",\"week\",\"purpose\",\"related\",\"fix\",\"started\",\"courses\",\"masters\",\"grow\",\"8\",\"fast\",\"leave\",\"100\",\"often\",\"found\",\"pros\",\"marriage\",\"cons\",\"quality\",\"words\",\"kill\",\"price\",\"near\",\"modi\",\"enough\",\"search\",\"python\",\"x\",\"blood\",\"math\",\"yourself\",\"drive\",\"size\",\"star\",\"graduate\",\"majors\",\"500\",\"model\",\"studying\",\"general\",\"oil\",\"colleges\",\"area\",\"developer\",\"germany\",\"industry\",\"full\",\"training\",\"says\",\"period\",\"videos\",\"universe\",\"fall\",\"daily\",\"information\",\"foreign\",\"credit\",\"force\",\"12\",\"youve\",\"south\",\"offer\",\"set\",\"add\",\"send\",\"australia\",\"center\",\"1000\",\"famous\",\"2015\",\"lot\",\"function\",\"tax\",\"correct\",\"solve\",\"advantages\",\"coaching\",\"institute\",\"effects\",\"guys\",\"again\",\"group\",\"hours\",\"side\",\"sentence\",\"low\",\"similar\",\"plan\",\"children\",\"answers\",\"talk\",\"marks\",\"ideas\",\"theory\",\"death\",\"compared\",\"night\",\"remove\",\"dog\",\"anything\",\"single\",\"successful\",\"gate\",\"indians\",\"put\",\"problems\",\"move\",\"writing\",\"point\",\"invest\",\"asked\",\"biggest\",\"others\",\"stock\",\"notes\",\"story\",\"machine\",\"private\",\"sell\",\"seen\",\"required\",\"field\",\"file\",\"rate\",\"humans\",\"application\",\"face\",\"sites\",\"mind\",\"facts\",\"mumbai\",\"post\",\"stay\",\"child\",\"terms\",\"products\",\"control\",\"legal\",\"police\",\"didnt\",\"level\",\"worst\",\"hate\",\"visit\",\"called\",\"amazon\",\"causes\",\"health\",\"form\",\"physics\",\"iit\",\"skills\",\"times\",\"medical\",\"based\",\"list\",\"websites\",\"die\",\"part\",\"less\",\"benefits\",\"apple\",\"instead\",\"these\",\"boyfriend\",\"sleep\",\"canada\",\"reason\",\"education\",\"cause\",\"jee\",\"value\",\"today\",\"media\",\"public\",\"happened\",\"product\",\"research\",\"main\",\"behind\",\"international\",\"project\",\"uk\",\"differ\",\"7\",\"places\",\"wear\",\"order\",\"date\",\"etc\",\"small\",\"songs\",\"apps\",\"email\",\"given\",\"wrong\",\"site\",\"normal\",\"culture\",\"also\",\"civil\",\"city\",\"available\",\"house\",\"exist\",\"startup\",\"services\",\"ms\",\"both\",\"down\",\"2017\",\"run\",\"cat\",\"well\",\"space\",\"join\",\"deal\",\"games\",\"visa\",\"rid\",\"air\",\"speed\",\"popular\",\"problem\",\"support\",\"current\",\"pakistan\",\"choose\",\"build\",\"idea\",\"america\",\"whatsapp\",\"affect\",\"law\",\"technology\",\"call\",\"6\",\"universities\",\"family\",\"marketing\",\"major\",\"actually\",\"favorite\",\"light\",\"bangalore\",\"woman\",\"because\",\"type\",\"program\",\"looking\",\"living\",\"open\",\"believe\",\"month\",\"able\",\"management\",\"travel\",\"degree\",\"show\",\"interesting\",\"score\",\"months\",\"series\",\"chinese\",\"development\",\"end\",\"code\",\"design\",\"per\",\"employees\",\"review\",\"clinton\",\"common\",\"kind\",\"internet\",\"song\",\"download\",\"course\",\"parents\",\"jobs\",\"such\",\"increase\",\"java\",\"god\",\"another\",\"united\",\"girlfriend\",\"mechanical\",\"always\",\"next\",\"never\",\"around\",\"tips\",\"mba\",\"myself\",\"hillary\",\"apply\",\"answer\",\"something\",\"considered\",\"making\",\"differences\",\"market\",\"compare\",\"great\",\"keep\",\"test\",\"s\",\"win\",\"against\",\"states\",\"earn\",\"youtube\",\"worth\",\"delhi\",\"energy\",\"laptop\",\"american\",\"lose\",\"each\",\"hard\",\"makes\",\"age\",\"ask\",\"safe\",\"body\",\"power\",\"salary\",\"4\",\"watch\",\"white\",\"windows\",\"instagram\",\"history\",\"pay\",\"every\",\"last\",\"create\",\"relationship\",\"music\",\"too\",\"meaning\",\"state\",\"average\",\"earth\",\"got\",\"process\",\"class\",\"tv\",\"eat\",\"done\",\"happens\",\"days\",\"big\",\"off\",\"improve\",\"future\",\"place\",\"man\",\"human\",\"government\",\"play\",\"countries\",\"food\",\"service\",\"students\",\"weight\",\"game\",\"engineer\",\"write\",\"very\",\"interview\",\"web\",\"tell\",\"social\",\"girls\",\"video\",\"look\",\"having\",\"guy\",\"home\",\"hair\",\"usa\",\"doesnt\",\"word\",\"bank\",\"friend\",\"true\",\"experience\",\"career\",\"president\",\"question\",\"own\",\"china\",\"come\",\"under\",\"working\",\"him\",\"doing\",\"donald\",\"friends\",\"right\",\"5\",\"cost\",\"mobile\",\"even\",\"movies\",\"then\",\"c\",\"\\u2019\",\"exam\",\"men\",\"learning\",\"card\",\"war\",\"read\",\"programming\",\"black\",\"anyone\",\"high\",\"10\",\"companies\",\"car\",\"getting\",\"give\",\"important\",\"questions\",\"cant\",\"iphone\",\"website\",\"top\",\"water\",\"prepare\",\"during\",\"real\",\"say\",\"system\",\"name\",\"through\",\"two\",\"1\",\"our\",\"study\",\"3\",\"university\",\"made\",\"back\",\"happen\",\"stop\",\"student\",\"sex\",\"bad\",\"language\",\"going\",\"same\",\"before\",\"software\",\"school\",\"live\",\"country\",\"android\",\"science\",\"help\",\"she\",\"see\",\"thing\",\"women\",\"over\",\"data\",\"examples\",\"computer\",\"had\",\"ways\",\"change\",\"while\",\"book\",\"english\",\"account\",\"still\",\"movie\",\"books\",\"2016\",\"facebook\",\"free\",\"number\",\"college\",\"app\",\"2\",\"just\",\"now\",\"no\",\"trump\",\"company\",\"only\",\"old\",\"been\",\"google\",\"phone\",\"long\",\"different\",\"girl\",\"his\",\"her\",\"years\",\"really\",\"them\",\"using\",\"business\",\"need\",\"being\",\"buy\",\"day\",\"person\",\"things\",\"possible\",\"could\",\"were\",\"its\",\"love\",\"engineering\",\"im\",\"used\",\"online\",\"go\",\"year\",\"he\",\"into\",\"feel\",\"dont\",\"first\",\"up\"]]]}}},\"view\":{\"type\":\"object\",\"name\":\"CDSView\",\"id\":\"p1045\",\"attributes\":{\"filter\":{\"type\":\"object\",\"name\":\"AllIndices\",\"id\":\"p1046\"}}},\"glyph\":{\"type\":\"object\",\"name\":\"Scatter\",\"id\":\"p1041\",\"attributes\":{\"x\":{\"type\":\"field\",\"field\":\"x\"},\"y\":{\"type\":\"field\",\"field\":\"y\"},\"size\":{\"type\":\"value\",\"value\":10},\"line_color\":{\"type\":\"field\",\"field\":\"color\"},\"line_alpha\":{\"type\":\"value\",\"value\":0.25},\"fill_color\":{\"type\":\"field\",\"field\":\"color\"},\"fill_alpha\":{\"type\":\"value\",\"value\":0.25},\"hatch_color\":{\"type\":\"field\",\"field\":\"color\"},\"hatch_alpha\":{\"type\":\"value\",\"value\":0.25}}},\"nonselection_glyph\":{\"type\":\"object\",\"name\":\"Scatter\",\"id\":\"p1042\",\"attributes\":{\"x\":{\"type\":\"field\",\"field\":\"x\"},\"y\":{\"type\":\"field\",\"field\":\"y\"},\"size\":{\"type\":\"value\",\"value\":10},\"line_color\":{\"type\":\"field\",\"field\":\"color\"},\"line_alpha\":{\"type\":\"value\",\"value\":0.1},\"fill_color\":{\"type\":\"field\",\"field\":\"color\"},\"fill_alpha\":{\"type\":\"value\",\"value\":0.1},\"hatch_color\":{\"type\":\"field\",\"field\":\"color\"},\"hatch_alpha\":{\"type\":\"value\",\"value\":0.1}}},\"muted_glyph\":{\"type\":\"object\",\"name\":\"Scatter\",\"id\":\"p1043\",\"attributes\":{\"x\":{\"type\":\"field\",\"field\":\"x\"},\"y\":{\"type\":\"field\",\"field\":\"y\"},\"size\":{\"type\":\"value\",\"value\":10},\"line_color\":{\"type\":\"field\",\"field\":\"color\"},\"line_alpha\":{\"type\":\"value\",\"value\":0.2},\"fill_color\":{\"type\":\"field\",\"field\":\"color\"},\"fill_alpha\":{\"type\":\"value\",\"value\":0.2},\"hatch_color\":{\"type\":\"field\",\"field\":\"color\"},\"hatch_alpha\":{\"type\":\"value\",\"value\":0.2}}}}}],\"toolbar\":{\"type\":\"object\",\"name\":\"Toolbar\",\"id\":\"p1012\",\"attributes\":{\"tools\":[{\"type\":\"object\",\"name\":\"PanTool\",\"id\":\"p1025\"},{\"type\":\"object\",\"name\":\"WheelZoomTool\",\"id\":\"p1026\",\"attributes\":{\"renderers\":\"auto\"}},{\"type\":\"object\",\"name\":\"BoxZoomTool\",\"id\":\"p1027\",\"attributes\":{\"overlay\":{\"type\":\"object\",\"name\":\"BoxAnnotation\",\"id\":\"p1028\",\"attributes\":{\"syncable\":false,\"line_color\":\"black\",\"line_alpha\":1.0,\"line_width\":2,\"line_dash\":[4,4],\"fill_color\":\"lightgrey\",\"fill_alpha\":0.5,\"level\":\"overlay\",\"visible\":false,\"left\":{\"type\":\"number\",\"value\":\"nan\"},\"right\":{\"type\":\"number\",\"value\":\"nan\"},\"top\":{\"type\":\"number\",\"value\":\"nan\"},\"bottom\":{\"type\":\"number\",\"value\":\"nan\"},\"left_units\":\"canvas\",\"right_units\":\"canvas\",\"top_units\":\"canvas\",\"bottom_units\":\"canvas\",\"handles\":{\"type\":\"object\",\"name\":\"BoxInteractionHandles\",\"id\":\"p1034\",\"attributes\":{\"all\":{\"type\":\"object\",\"name\":\"AreaVisuals\",\"id\":\"p1033\",\"attributes\":{\"fill_color\":\"white\",\"hover_fill_color\":\"lightgray\"}}}}}}}},{\"type\":\"object\",\"name\":\"SaveTool\",\"id\":\"p1035\"},{\"type\":\"object\",\"name\":\"ResetTool\",\"id\":\"p1036\"},{\"type\":\"object\",\"name\":\"HelpTool\",\"id\":\"p1037\"},{\"type\":\"object\",\"name\":\"HoverTool\",\"id\":\"p1047\",\"attributes\":{\"renderers\":\"auto\",\"tooltips\":[[\"token\",\"@token\"]]}}],\"active_scroll\":{\"id\":\"p1026\"}}},\"left\":[{\"type\":\"object\",\"name\":\"LinearAxis\",\"id\":\"p1020\",\"attributes\":{\"ticker\":{\"type\":\"object\",\"name\":\"BasicTicker\",\"id\":\"p1021\",\"attributes\":{\"mantissas\":[1,2,5]}},\"formatter\":{\"type\":\"object\",\"name\":\"BasicTickFormatter\",\"id\":\"p1022\"},\"major_label_policy\":{\"type\":\"object\",\"name\":\"AllLabels\",\"id\":\"p1023\"}}}],\"below\":[{\"type\":\"object\",\"name\":\"LinearAxis\",\"id\":\"p1015\",\"attributes\":{\"ticker\":{\"type\":\"object\",\"name\":\"BasicTicker\",\"id\":\"p1016\",\"attributes\":{\"mantissas\":[1,2,5]}},\"formatter\":{\"type\":\"object\",\"name\":\"BasicTickFormatter\",\"id\":\"p1017\"},\"major_label_policy\":{\"type\":\"object\",\"name\":\"AllLabels\",\"id\":\"p1018\"}}}],\"center\":[{\"type\":\"object\",\"name\":\"Grid\",\"id\":\"p1019\",\"attributes\":{\"axis\":{\"id\":\"p1015\"}}},{\"type\":\"object\",\"name\":\"Grid\",\"id\":\"p1024\",\"attributes\":{\"dimension\":1,\"axis\":{\"id\":\"p1020\"}}}]}}]}};\n",
              "  const render_items = [{\"docid\":\"56eb14d2-ea8b-4cf8-bdda-9c19ec4138e1\",\"roots\":{\"p1004\":\"c3964da6-d32b-4c9c-9d8d-a38a8608bb77\"},\"root_ids\":[\"p1004\"]}];\n",
              "  void root.Bokeh.embed.embed_items_notebook(docs_json, render_items);\n",
              "  }\n",
              "  if (root.Bokeh !== undefined) {\n",
              "    embed_document(root);\n",
              "  } else {\n",
              "    let attempts = 0;\n",
              "    const timer = setInterval(function(root) {\n",
              "      if (root.Bokeh !== undefined) {\n",
              "        clearInterval(timer);\n",
              "        embed_document(root);\n",
              "      } else {\n",
              "        attempts++;\n",
              "        if (attempts > 100) {\n",
              "          clearInterval(timer);\n",
              "          console.log(\"Bokeh: ERROR: Unable to run BokehJS code because BokehJS library is missing\");\n",
              "        }\n",
              "      }\n",
              "    }, 10, root)\n",
              "  }\n",
              "})(window);"
            ],
            "application/vnd.bokehjs_exec.v0+json": ""
          },
          "metadata": {
            "application/vnd.bokehjs_exec.v0+json": {
              "id": "p1004"
            }
          }
        },
        {
          "output_type": "execute_result",
          "data": {
            "text/plain": [
              "figure(id='p1004', ...)"
            ],
            "text/html": [
              "<div style=\"display: table;\"><div style=\"display: table-row;\"><div style=\"display: table-cell;\"><b title=\"bokeh.plotting._figure.figure\">figure</b>(</div><div style=\"display: table-cell;\">id&nbsp;=&nbsp;'p1004', <span id=\"p1051\" style=\"cursor: pointer;\">&hellip;)</span></div></div><div class=\"p1050\" style=\"display: none;\"><div style=\"display: table-cell;\"></div><div style=\"display: table-cell;\">above&nbsp;=&nbsp;[],</div></div><div class=\"p1050\" style=\"display: none;\"><div style=\"display: table-cell;\"></div><div style=\"display: table-cell;\">align&nbsp;=&nbsp;'auto',</div></div><div class=\"p1050\" style=\"display: none;\"><div style=\"display: table-cell;\"></div><div style=\"display: table-cell;\">aspect_ratio&nbsp;=&nbsp;None,</div></div><div class=\"p1050\" style=\"display: none;\"><div style=\"display: table-cell;\"></div><div style=\"display: table-cell;\">aspect_scale&nbsp;=&nbsp;1,</div></div><div class=\"p1050\" style=\"display: none;\"><div style=\"display: table-cell;\"></div><div style=\"display: table-cell;\">attribution&nbsp;=&nbsp;[],</div></div><div class=\"p1050\" style=\"display: none;\"><div style=\"display: table-cell;\"></div><div style=\"display: table-cell;\">background_fill_alpha&nbsp;=&nbsp;1.0,</div></div><div class=\"p1050\" style=\"display: none;\"><div style=\"display: table-cell;\"></div><div style=\"display: table-cell;\">background_fill_color&nbsp;=&nbsp;'#ffffff',</div></div><div class=\"p1050\" style=\"display: none;\"><div style=\"display: table-cell;\"></div><div style=\"display: table-cell;\">below&nbsp;=&nbsp;[LinearAxis(id='p1015', ...)],</div></div><div class=\"p1050\" style=\"display: none;\"><div style=\"display: table-cell;\"></div><div style=\"display: table-cell;\">border_fill_alpha&nbsp;=&nbsp;1.0,</div></div><div class=\"p1050\" style=\"display: none;\"><div style=\"display: table-cell;\"></div><div style=\"display: table-cell;\">border_fill_color&nbsp;=&nbsp;'#ffffff',</div></div><div class=\"p1050\" style=\"display: none;\"><div style=\"display: table-cell;\"></div><div style=\"display: table-cell;\">center&nbsp;=&nbsp;[Grid(id='p1019', ...), Grid(id='p1024', ...)],</div></div><div class=\"p1050\" style=\"display: none;\"><div style=\"display: table-cell;\"></div><div style=\"display: table-cell;\">context_menu&nbsp;=&nbsp;None,</div></div><div class=\"p1050\" style=\"display: none;\"><div style=\"display: table-cell;\"></div><div style=\"display: table-cell;\">css_classes&nbsp;=&nbsp;[],</div></div><div class=\"p1050\" style=\"display: none;\"><div style=\"display: table-cell;\"></div><div style=\"display: table-cell;\">css_variables&nbsp;=&nbsp;{},</div></div><div class=\"p1050\" style=\"display: none;\"><div style=\"display: table-cell;\"></div><div style=\"display: table-cell;\">disabled&nbsp;=&nbsp;False,</div></div><div class=\"p1050\" style=\"display: none;\"><div style=\"display: table-cell;\"></div><div style=\"display: table-cell;\">elements&nbsp;=&nbsp;[],</div></div><div class=\"p1050\" style=\"display: none;\"><div style=\"display: table-cell;\"></div><div style=\"display: table-cell;\">extra_x_ranges&nbsp;=&nbsp;{},</div></div><div class=\"p1050\" style=\"display: none;\"><div style=\"display: table-cell;\"></div><div style=\"display: table-cell;\">extra_x_scales&nbsp;=&nbsp;{},</div></div><div class=\"p1050\" style=\"display: none;\"><div style=\"display: table-cell;\"></div><div style=\"display: table-cell;\">extra_y_ranges&nbsp;=&nbsp;{},</div></div><div class=\"p1050\" style=\"display: none;\"><div style=\"display: table-cell;\"></div><div style=\"display: table-cell;\">extra_y_scales&nbsp;=&nbsp;{},</div></div><div class=\"p1050\" style=\"display: none;\"><div style=\"display: table-cell;\"></div><div style=\"display: table-cell;\">flow_mode&nbsp;=&nbsp;'block',</div></div><div class=\"p1050\" style=\"display: none;\"><div style=\"display: table-cell;\"></div><div style=\"display: table-cell;\">frame_align&nbsp;=&nbsp;True,</div></div><div class=\"p1050\" style=\"display: none;\"><div style=\"display: table-cell;\"></div><div style=\"display: table-cell;\">frame_height&nbsp;=&nbsp;None,</div></div><div class=\"p1050\" style=\"display: none;\"><div style=\"display: table-cell;\"></div><div style=\"display: table-cell;\">frame_width&nbsp;=&nbsp;None,</div></div><div class=\"p1050\" style=\"display: none;\"><div style=\"display: table-cell;\"></div><div style=\"display: table-cell;\">height&nbsp;=&nbsp;400,</div></div><div class=\"p1050\" style=\"display: none;\"><div style=\"display: table-cell;\"></div><div style=\"display: table-cell;\">height_policy&nbsp;=&nbsp;'auto',</div></div><div class=\"p1050\" style=\"display: none;\"><div style=\"display: table-cell;\"></div><div style=\"display: table-cell;\">hidpi&nbsp;=&nbsp;True,</div></div><div class=\"p1050\" style=\"display: none;\"><div style=\"display: table-cell;\"></div><div style=\"display: table-cell;\">hold_render&nbsp;=&nbsp;False,</div></div><div class=\"p1050\" style=\"display: none;\"><div style=\"display: table-cell;\"></div><div style=\"display: table-cell;\">js_event_callbacks&nbsp;=&nbsp;{},</div></div><div class=\"p1050\" style=\"display: none;\"><div style=\"display: table-cell;\"></div><div style=\"display: table-cell;\">js_property_callbacks&nbsp;=&nbsp;{},</div></div><div class=\"p1050\" style=\"display: none;\"><div style=\"display: table-cell;\"></div><div style=\"display: table-cell;\">left&nbsp;=&nbsp;[LinearAxis(id='p1020', ...)],</div></div><div class=\"p1050\" style=\"display: none;\"><div style=\"display: table-cell;\"></div><div style=\"display: table-cell;\">lod_factor&nbsp;=&nbsp;10,</div></div><div class=\"p1050\" style=\"display: none;\"><div style=\"display: table-cell;\"></div><div style=\"display: table-cell;\">lod_interval&nbsp;=&nbsp;300,</div></div><div class=\"p1050\" style=\"display: none;\"><div style=\"display: table-cell;\"></div><div style=\"display: table-cell;\">lod_threshold&nbsp;=&nbsp;2000,</div></div><div class=\"p1050\" style=\"display: none;\"><div style=\"display: table-cell;\"></div><div style=\"display: table-cell;\">lod_timeout&nbsp;=&nbsp;500,</div></div><div class=\"p1050\" style=\"display: none;\"><div style=\"display: table-cell;\"></div><div style=\"display: table-cell;\">margin&nbsp;=&nbsp;None,</div></div><div class=\"p1050\" style=\"display: none;\"><div style=\"display: table-cell;\"></div><div style=\"display: table-cell;\">match_aspect&nbsp;=&nbsp;False,</div></div><div class=\"p1050\" style=\"display: none;\"><div style=\"display: table-cell;\"></div><div style=\"display: table-cell;\">max_height&nbsp;=&nbsp;None,</div></div><div class=\"p1050\" style=\"display: none;\"><div style=\"display: table-cell;\"></div><div style=\"display: table-cell;\">max_width&nbsp;=&nbsp;None,</div></div><div class=\"p1050\" style=\"display: none;\"><div style=\"display: table-cell;\"></div><div style=\"display: table-cell;\">min_border&nbsp;=&nbsp;5,</div></div><div class=\"p1050\" style=\"display: none;\"><div style=\"display: table-cell;\"></div><div style=\"display: table-cell;\">min_border_bottom&nbsp;=&nbsp;None,</div></div><div class=\"p1050\" style=\"display: none;\"><div style=\"display: table-cell;\"></div><div style=\"display: table-cell;\">min_border_left&nbsp;=&nbsp;None,</div></div><div class=\"p1050\" style=\"display: none;\"><div style=\"display: table-cell;\"></div><div style=\"display: table-cell;\">min_border_right&nbsp;=&nbsp;None,</div></div><div class=\"p1050\" style=\"display: none;\"><div style=\"display: table-cell;\"></div><div style=\"display: table-cell;\">min_border_top&nbsp;=&nbsp;None,</div></div><div class=\"p1050\" style=\"display: none;\"><div style=\"display: table-cell;\"></div><div style=\"display: table-cell;\">min_height&nbsp;=&nbsp;None,</div></div><div class=\"p1050\" style=\"display: none;\"><div style=\"display: table-cell;\"></div><div style=\"display: table-cell;\">min_width&nbsp;=&nbsp;None,</div></div><div class=\"p1050\" style=\"display: none;\"><div style=\"display: table-cell;\"></div><div style=\"display: table-cell;\">name&nbsp;=&nbsp;None,</div></div><div class=\"p1050\" style=\"display: none;\"><div style=\"display: table-cell;\"></div><div style=\"display: table-cell;\">outline_line_alpha&nbsp;=&nbsp;1.0,</div></div><div class=\"p1050\" style=\"display: none;\"><div style=\"display: table-cell;\"></div><div style=\"display: table-cell;\">outline_line_cap&nbsp;=&nbsp;'butt',</div></div><div class=\"p1050\" style=\"display: none;\"><div style=\"display: table-cell;\"></div><div style=\"display: table-cell;\">outline_line_color&nbsp;=&nbsp;'#e5e5e5',</div></div><div class=\"p1050\" style=\"display: none;\"><div style=\"display: table-cell;\"></div><div style=\"display: table-cell;\">outline_line_dash&nbsp;=&nbsp;[],</div></div><div class=\"p1050\" style=\"display: none;\"><div style=\"display: table-cell;\"></div><div style=\"display: table-cell;\">outline_line_dash_offset&nbsp;=&nbsp;0,</div></div><div class=\"p1050\" style=\"display: none;\"><div style=\"display: table-cell;\"></div><div style=\"display: table-cell;\">outline_line_join&nbsp;=&nbsp;'bevel',</div></div><div class=\"p1050\" style=\"display: none;\"><div style=\"display: table-cell;\"></div><div style=\"display: table-cell;\">outline_line_width&nbsp;=&nbsp;1,</div></div><div class=\"p1050\" style=\"display: none;\"><div style=\"display: table-cell;\"></div><div style=\"display: table-cell;\">output_backend&nbsp;=&nbsp;'canvas',</div></div><div class=\"p1050\" style=\"display: none;\"><div style=\"display: table-cell;\"></div><div style=\"display: table-cell;\">renderers&nbsp;=&nbsp;[GlyphRenderer(id='p1044', ...)],</div></div><div class=\"p1050\" style=\"display: none;\"><div style=\"display: table-cell;\"></div><div style=\"display: table-cell;\">reset_policy&nbsp;=&nbsp;'standard',</div></div><div class=\"p1050\" style=\"display: none;\"><div style=\"display: table-cell;\"></div><div style=\"display: table-cell;\">resizable&nbsp;=&nbsp;False,</div></div><div class=\"p1050\" style=\"display: none;\"><div style=\"display: table-cell;\"></div><div style=\"display: table-cell;\">right&nbsp;=&nbsp;[],</div></div><div class=\"p1050\" style=\"display: none;\"><div style=\"display: table-cell;\"></div><div style=\"display: table-cell;\">sizing_mode&nbsp;=&nbsp;None,</div></div><div class=\"p1050\" style=\"display: none;\"><div style=\"display: table-cell;\"></div><div style=\"display: table-cell;\">styles&nbsp;=&nbsp;{},</div></div><div class=\"p1050\" style=\"display: none;\"><div style=\"display: table-cell;\"></div><div style=\"display: table-cell;\">stylesheets&nbsp;=&nbsp;[],</div></div><div class=\"p1050\" style=\"display: none;\"><div style=\"display: table-cell;\"></div><div style=\"display: table-cell;\">subscribed_events&nbsp;=&nbsp;PropertyValueSet(),</div></div><div class=\"p1050\" style=\"display: none;\"><div style=\"display: table-cell;\"></div><div style=\"display: table-cell;\">syncable&nbsp;=&nbsp;True,</div></div><div class=\"p1050\" style=\"display: none;\"><div style=\"display: table-cell;\"></div><div style=\"display: table-cell;\">tags&nbsp;=&nbsp;[],</div></div><div class=\"p1050\" style=\"display: none;\"><div style=\"display: table-cell;\"></div><div style=\"display: table-cell;\">title&nbsp;=&nbsp;Title(id='p1011', ...),</div></div><div class=\"p1050\" style=\"display: none;\"><div style=\"display: table-cell;\"></div><div style=\"display: table-cell;\">title_location&nbsp;=&nbsp;'above',</div></div><div class=\"p1050\" style=\"display: none;\"><div style=\"display: table-cell;\"></div><div style=\"display: table-cell;\">toolbar&nbsp;=&nbsp;Toolbar(id='p1012', ...),</div></div><div class=\"p1050\" style=\"display: none;\"><div style=\"display: table-cell;\"></div><div style=\"display: table-cell;\">toolbar_inner&nbsp;=&nbsp;False,</div></div><div class=\"p1050\" style=\"display: none;\"><div style=\"display: table-cell;\"></div><div style=\"display: table-cell;\">toolbar_location&nbsp;=&nbsp;'right',</div></div><div class=\"p1050\" style=\"display: none;\"><div style=\"display: table-cell;\"></div><div style=\"display: table-cell;\">toolbar_sticky&nbsp;=&nbsp;True,</div></div><div class=\"p1050\" style=\"display: none;\"><div style=\"display: table-cell;\"></div><div style=\"display: table-cell;\">visible&nbsp;=&nbsp;True,</div></div><div class=\"p1050\" style=\"display: none;\"><div style=\"display: table-cell;\"></div><div style=\"display: table-cell;\">width&nbsp;=&nbsp;600,</div></div><div class=\"p1050\" style=\"display: none;\"><div style=\"display: table-cell;\"></div><div style=\"display: table-cell;\">width_policy&nbsp;=&nbsp;'auto',</div></div><div class=\"p1050\" style=\"display: none;\"><div style=\"display: table-cell;\"></div><div style=\"display: table-cell;\">x_range&nbsp;=&nbsp;DataRange1d(id='p1005', ...),</div></div><div class=\"p1050\" style=\"display: none;\"><div style=\"display: table-cell;\"></div><div style=\"display: table-cell;\">x_scale&nbsp;=&nbsp;LinearScale(id='p1013', ...),</div></div><div class=\"p1050\" style=\"display: none;\"><div style=\"display: table-cell;\"></div><div style=\"display: table-cell;\">y_range&nbsp;=&nbsp;DataRange1d(id='p1006', ...),</div></div><div class=\"p1050\" style=\"display: none;\"><div style=\"display: table-cell;\"></div><div style=\"display: table-cell;\">y_scale&nbsp;=&nbsp;LinearScale(id='p1014', ...))</div></div></div>\n",
              "<script>\n",
              "(function() {\n",
              "  let expanded = false;\n",
              "  const ellipsis = document.getElementById(\"p1051\");\n",
              "  ellipsis.addEventListener(\"click\", function() {\n",
              "    const rows = document.getElementsByClassName(\"p1050\");\n",
              "    for (let i = 0; i < rows.length; i++) {\n",
              "      const el = rows[i];\n",
              "      el.style.display = expanded ? \"none\" : \"table-row\";\n",
              "    }\n",
              "    ellipsis.innerHTML = expanded ? \"&hellip;)\" : \"&lsaquo;&lsaquo;&lsaquo;\";\n",
              "    expanded = !expanded;\n",
              "  });\n",
              "})();\n",
              "</script>\n"
            ]
          },
          "metadata": {},
          "execution_count": 35
        }
      ],
      "source": [
        "draw_vectors(embedding[:, 0], embedding[:, 1], token=top_words)"
      ]
    },
    {
      "cell_type": "markdown",
      "metadata": {
        "id": "tiQPqlgMNab0"
      },
      "source": [
        "Для сдачи задания необходимо загрузить функции `subsample_frequent_words` и `get_negative_sampling_prob`, а также сгенерировать файл для посылки ниже и приложить в соответствующую задачу. Успехов!"
      ]
    },
    {
      "cell_type": "code",
      "execution_count": 37,
      "metadata": {
        "id": "djpMwAgeNab0",
        "outputId": "77ecc008-e9ad-42a3-b6de-c9b078db68e9",
        "colab": {
          "base_uri": "https://localhost:8080/"
        }
      },
      "outputs": [
        {
          "output_type": "stream",
          "name": "stdout",
          "text": [
            "File saved to `submission_dict.json`\n"
          ]
        }
      ],
      "source": [
        "# do not change the code in the block below\n",
        "# __________start of block__________\n",
        "import os\n",
        "import json\n",
        "\n",
        "assert os.path.exists(\n",
        "    \"words_subset.txt\"\n",
        "), \"Please, download `words_subset.txt` and place it in the working directory\"\n",
        "\n",
        "with open(\"words_subset.txt\") as iofile:\n",
        "    selected_words = iofile.read().split(\"\\n\")\n",
        "\n",
        "\n",
        "def get_matrix_for_selected_words(selected_words, embedding_matrix, word_to_index):\n",
        "    word_vectors = []\n",
        "    for word in selected_words:\n",
        "        index = word_to_index.get(word, None)\n",
        "        vector = [0.0] * embedding_matrix.shape[1]\n",
        "        if index is not None:\n",
        "            vector = embedding_matrix[index].numpy().tolist()\n",
        "        word_vectors.append(vector)\n",
        "    return word_vectors\n",
        "\n",
        "\n",
        "word_vectors = get_matrix_for_selected_words(\n",
        "    selected_words, embedding_matrix_context, word_to_index\n",
        ")\n",
        "\n",
        "with open(\"submission_dict.json\", \"w\") as iofile:\n",
        "    json.dump(word_vectors, iofile)\n",
        "print(\"File saved to `submission_dict.json`\")\n",
        "# __________end of block__________"
      ]
    }
  ],
  "metadata": {
    "colab": {
      "provenance": [],
      "include_colab_link": true
    },
    "kernelspec": {
      "display_name": "py3_research",
      "language": "python",
      "name": "python3"
    },
    "language_info": {
      "codemirror_mode": {
        "name": "ipython",
        "version": 3
      },
      "file_extension": ".py",
      "mimetype": "text/x-python",
      "name": "python",
      "nbconvert_exporter": "python",
      "pygments_lexer": "ipython3",
      "version": "3.11.2"
    },
    "widgets": {
      "application/vnd.jupyter.widget-state+json": {
        "31256a8c282049da94d7d33dabdf0fc1": {
          "model_module": "@jupyter-widgets/controls",
          "model_name": "HBoxModel",
          "model_module_version": "1.5.0",
          "state": {
            "_dom_classes": [],
            "_model_module": "@jupyter-widgets/controls",
            "_model_module_version": "1.5.0",
            "_model_name": "HBoxModel",
            "_view_count": null,
            "_view_module": "@jupyter-widgets/controls",
            "_view_module_version": "1.5.0",
            "_view_name": "HBoxView",
            "box_style": "",
            "children": [
              "IPY_MODEL_943adc4df39c4947b840e39d6c9c5ce9",
              "IPY_MODEL_22a7d468b9754b65bc1dd36bc1d05eef",
              "IPY_MODEL_f71d044309fb47199517c61310420483"
            ],
            "layout": "IPY_MODEL_4720fd515ded42bd987ac95bd5186704"
          }
        },
        "943adc4df39c4947b840e39d6c9c5ce9": {
          "model_module": "@jupyter-widgets/controls",
          "model_name": "HTMLModel",
          "model_module_version": "1.5.0",
          "state": {
            "_dom_classes": [],
            "_model_module": "@jupyter-widgets/controls",
            "_model_module_version": "1.5.0",
            "_model_name": "HTMLModel",
            "_view_count": null,
            "_view_module": "@jupyter-widgets/controls",
            "_view_module_version": "1.5.0",
            "_view_name": "HTMLView",
            "description": "",
            "description_tooltip": null,
            "layout": "IPY_MODEL_f74b0e1e264b461ab724b328f5e13c30",
            "placeholder": "​",
            "style": "IPY_MODEL_1aa89fa21bc74c0ab7f1e7623f819241",
            "value": "100%"
          }
        },
        "22a7d468b9754b65bc1dd36bc1d05eef": {
          "model_module": "@jupyter-widgets/controls",
          "model_name": "FloatProgressModel",
          "model_module_version": "1.5.0",
          "state": {
            "_dom_classes": [],
            "_model_module": "@jupyter-widgets/controls",
            "_model_module_version": "1.5.0",
            "_model_name": "FloatProgressModel",
            "_view_count": null,
            "_view_module": "@jupyter-widgets/controls",
            "_view_module_version": "1.5.0",
            "_view_name": "ProgressView",
            "bar_style": "success",
            "description": "",
            "description_tooltip": null,
            "layout": "IPY_MODEL_14cfc91f99df421ca769e70323bad688",
            "max": 2500,
            "min": 0,
            "orientation": "horizontal",
            "style": "IPY_MODEL_e98b2e76ee21487e8485f7421c07703c",
            "value": 2500
          }
        },
        "f71d044309fb47199517c61310420483": {
          "model_module": "@jupyter-widgets/controls",
          "model_name": "HTMLModel",
          "model_module_version": "1.5.0",
          "state": {
            "_dom_classes": [],
            "_model_module": "@jupyter-widgets/controls",
            "_model_module_version": "1.5.0",
            "_model_name": "HTMLModel",
            "_view_count": null,
            "_view_module": "@jupyter-widgets/controls",
            "_view_module_version": "1.5.0",
            "_view_name": "HTMLView",
            "description": "",
            "description_tooltip": null,
            "layout": "IPY_MODEL_8405618bafca4ed78a561b878d0f0409",
            "placeholder": "​",
            "style": "IPY_MODEL_50aa6173dfdc4d399d15bd4a8c068110",
            "value": " 2500/2500 [1:00:39&lt;00:00,  1.32s/it]"
          }
        },
        "4720fd515ded42bd987ac95bd5186704": {
          "model_module": "@jupyter-widgets/base",
          "model_name": "LayoutModel",
          "model_module_version": "1.2.0",
          "state": {
            "_model_module": "@jupyter-widgets/base",
            "_model_module_version": "1.2.0",
            "_model_name": "LayoutModel",
            "_view_count": null,
            "_view_module": "@jupyter-widgets/base",
            "_view_module_version": "1.2.0",
            "_view_name": "LayoutView",
            "align_content": null,
            "align_items": null,
            "align_self": null,
            "border": null,
            "bottom": null,
            "display": null,
            "flex": null,
            "flex_flow": null,
            "grid_area": null,
            "grid_auto_columns": null,
            "grid_auto_flow": null,
            "grid_auto_rows": null,
            "grid_column": null,
            "grid_gap": null,
            "grid_row": null,
            "grid_template_areas": null,
            "grid_template_columns": null,
            "grid_template_rows": null,
            "height": null,
            "justify_content": null,
            "justify_items": null,
            "left": null,
            "margin": null,
            "max_height": null,
            "max_width": null,
            "min_height": null,
            "min_width": null,
            "object_fit": null,
            "object_position": null,
            "order": null,
            "overflow": null,
            "overflow_x": null,
            "overflow_y": null,
            "padding": null,
            "right": null,
            "top": null,
            "visibility": null,
            "width": null
          }
        },
        "f74b0e1e264b461ab724b328f5e13c30": {
          "model_module": "@jupyter-widgets/base",
          "model_name": "LayoutModel",
          "model_module_version": "1.2.0",
          "state": {
            "_model_module": "@jupyter-widgets/base",
            "_model_module_version": "1.2.0",
            "_model_name": "LayoutModel",
            "_view_count": null,
            "_view_module": "@jupyter-widgets/base",
            "_view_module_version": "1.2.0",
            "_view_name": "LayoutView",
            "align_content": null,
            "align_items": null,
            "align_self": null,
            "border": null,
            "bottom": null,
            "display": null,
            "flex": null,
            "flex_flow": null,
            "grid_area": null,
            "grid_auto_columns": null,
            "grid_auto_flow": null,
            "grid_auto_rows": null,
            "grid_column": null,
            "grid_gap": null,
            "grid_row": null,
            "grid_template_areas": null,
            "grid_template_columns": null,
            "grid_template_rows": null,
            "height": null,
            "justify_content": null,
            "justify_items": null,
            "left": null,
            "margin": null,
            "max_height": null,
            "max_width": null,
            "min_height": null,
            "min_width": null,
            "object_fit": null,
            "object_position": null,
            "order": null,
            "overflow": null,
            "overflow_x": null,
            "overflow_y": null,
            "padding": null,
            "right": null,
            "top": null,
            "visibility": null,
            "width": null
          }
        },
        "1aa89fa21bc74c0ab7f1e7623f819241": {
          "model_module": "@jupyter-widgets/controls",
          "model_name": "DescriptionStyleModel",
          "model_module_version": "1.5.0",
          "state": {
            "_model_module": "@jupyter-widgets/controls",
            "_model_module_version": "1.5.0",
            "_model_name": "DescriptionStyleModel",
            "_view_count": null,
            "_view_module": "@jupyter-widgets/base",
            "_view_module_version": "1.2.0",
            "_view_name": "StyleView",
            "description_width": ""
          }
        },
        "14cfc91f99df421ca769e70323bad688": {
          "model_module": "@jupyter-widgets/base",
          "model_name": "LayoutModel",
          "model_module_version": "1.2.0",
          "state": {
            "_model_module": "@jupyter-widgets/base",
            "_model_module_version": "1.2.0",
            "_model_name": "LayoutModel",
            "_view_count": null,
            "_view_module": "@jupyter-widgets/base",
            "_view_module_version": "1.2.0",
            "_view_name": "LayoutView",
            "align_content": null,
            "align_items": null,
            "align_self": null,
            "border": null,
            "bottom": null,
            "display": null,
            "flex": null,
            "flex_flow": null,
            "grid_area": null,
            "grid_auto_columns": null,
            "grid_auto_flow": null,
            "grid_auto_rows": null,
            "grid_column": null,
            "grid_gap": null,
            "grid_row": null,
            "grid_template_areas": null,
            "grid_template_columns": null,
            "grid_template_rows": null,
            "height": null,
            "justify_content": null,
            "justify_items": null,
            "left": null,
            "margin": null,
            "max_height": null,
            "max_width": null,
            "min_height": null,
            "min_width": null,
            "object_fit": null,
            "object_position": null,
            "order": null,
            "overflow": null,
            "overflow_x": null,
            "overflow_y": null,
            "padding": null,
            "right": null,
            "top": null,
            "visibility": null,
            "width": null
          }
        },
        "e98b2e76ee21487e8485f7421c07703c": {
          "model_module": "@jupyter-widgets/controls",
          "model_name": "ProgressStyleModel",
          "model_module_version": "1.5.0",
          "state": {
            "_model_module": "@jupyter-widgets/controls",
            "_model_module_version": "1.5.0",
            "_model_name": "ProgressStyleModel",
            "_view_count": null,
            "_view_module": "@jupyter-widgets/base",
            "_view_module_version": "1.2.0",
            "_view_name": "StyleView",
            "bar_color": null,
            "description_width": ""
          }
        },
        "8405618bafca4ed78a561b878d0f0409": {
          "model_module": "@jupyter-widgets/base",
          "model_name": "LayoutModel",
          "model_module_version": "1.2.0",
          "state": {
            "_model_module": "@jupyter-widgets/base",
            "_model_module_version": "1.2.0",
            "_model_name": "LayoutModel",
            "_view_count": null,
            "_view_module": "@jupyter-widgets/base",
            "_view_module_version": "1.2.0",
            "_view_name": "LayoutView",
            "align_content": null,
            "align_items": null,
            "align_self": null,
            "border": null,
            "bottom": null,
            "display": null,
            "flex": null,
            "flex_flow": null,
            "grid_area": null,
            "grid_auto_columns": null,
            "grid_auto_flow": null,
            "grid_auto_rows": null,
            "grid_column": null,
            "grid_gap": null,
            "grid_row": null,
            "grid_template_areas": null,
            "grid_template_columns": null,
            "grid_template_rows": null,
            "height": null,
            "justify_content": null,
            "justify_items": null,
            "left": null,
            "margin": null,
            "max_height": null,
            "max_width": null,
            "min_height": null,
            "min_width": null,
            "object_fit": null,
            "object_position": null,
            "order": null,
            "overflow": null,
            "overflow_x": null,
            "overflow_y": null,
            "padding": null,
            "right": null,
            "top": null,
            "visibility": null,
            "width": null
          }
        },
        "50aa6173dfdc4d399d15bd4a8c068110": {
          "model_module": "@jupyter-widgets/controls",
          "model_name": "DescriptionStyleModel",
          "model_module_version": "1.5.0",
          "state": {
            "_model_module": "@jupyter-widgets/controls",
            "_model_module_version": "1.5.0",
            "_model_name": "DescriptionStyleModel",
            "_view_count": null,
            "_view_module": "@jupyter-widgets/base",
            "_view_module_version": "1.2.0",
            "_view_name": "StyleView",
            "description_width": ""
          }
        }
      }
    }
  },
  "nbformat": 4,
  "nbformat_minor": 0
}